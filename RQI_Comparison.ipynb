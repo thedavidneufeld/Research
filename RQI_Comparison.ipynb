{
  "nbformat": 4,
  "nbformat_minor": 0,
  "metadata": {
    "colab": {
      "provenance": [],
      "authorship_tag": "ABX9TyMyTxMjWwVcWBQADzoLvw9D",
      "include_colab_link": true
    },
    "kernelspec": {
      "name": "python3",
      "display_name": "Python 3"
    },
    "language_info": {
      "name": "python"
    }
  },
  "cells": [
    {
      "cell_type": "markdown",
      "metadata": {
        "id": "view-in-github",
        "colab_type": "text"
      },
      "source": [
        "<a href=\"https://colab.research.google.com/github/thedavidneufeld/ResearchCode/blob/main/RQI_Comparison.ipynb\" target=\"_parent\"><img src=\"https://colab.research.google.com/assets/colab-badge.svg\" alt=\"Open In Colab\"/></a>"
      ]
    },
    {
      "cell_type": "markdown",
      "source": [
        "**Imports**"
      ],
      "metadata": {
        "id": "aw5k180W2P77"
      }
    },
    {
      "cell_type": "code",
      "execution_count": 1,
      "metadata": {
        "id": "VzNKJLwa2Bi2"
      },
      "outputs": [],
      "source": [
        "import numpy as np"
      ]
    },
    {
      "cell_type": "markdown",
      "source": [
        "**Helper Functions**"
      ],
      "metadata": {
        "id": "7OBLsr6V6JBr"
      }
    },
    {
      "cell_type": "code",
      "source": [
        "# given an approximate eigenvalue (mu) and a matrix M\n",
        "# returns (mu)*I-M\n",
        "def A(mu, M):\n",
        "    I = np.eye(M.shape[0])\n",
        "    return mu*I-M\n",
        "\n",
        "# calculates and returns the conditon number of M\n",
        "# based on sigma_1/sigma_n\n",
        "def svd_cond(M):\n",
        "    SVD = np.linalg.svd(M)\n",
        "    return SVD[1][0]/SVD[1][-1]\n",
        "\n",
        "# calculates and returns sigma_1/sigma_{n-1}\n",
        "def svd_desired_cond(M):\n",
        "    SVD = np.linalg.svd(M)\n",
        "    return SVD[1][0]/SVD[1][-2]\n",
        "\n",
        "# calculates a preconditioned matrix C based on\n",
        "# an approximate eigenvalue (mu), a matrix M, and vectors\n",
        "# y and v\n",
        "# returns C\n",
        "def f(mu, M, y, v):\n",
        "    # convert y and v to column vectors\n",
        "    Y = y[:, np.newaxis]\n",
        "    V = v[:, np.newaxis]\n",
        "    # calculate (mu)*I-M\n",
        "    A1 = A(mu, M)\n",
        "    # calculate ((mu)*I-M)/||((mu)*I-M)||+YV^H\n",
        "    C = A1/np.linalg.norm(A1) + np.dot(Y, V.T.conj())\n",
        "    # return C\n",
        "    return C"
      ],
      "metadata": {
        "id": "gVWhJ5yq2-1Z"
      },
      "execution_count": 2,
      "outputs": []
    },
    {
      "cell_type": "markdown",
      "source": [
        "**RQI Algorithm**"
      ],
      "metadata": {
        "id": "hqv_9Dvt2Zh8"
      }
    },
    {
      "cell_type": "code",
      "source": [
        "# based on a close approximation of an eigenvalue of M (mu)\n",
        "# returns the corresponding eigenvector as well as the correct eigenvalue\n",
        "# takes in a matrix M, eigenvalue approximation mu\n",
        "# tolerance ep, and a max number of iterations it\n",
        "def RQI(M, mu, ep, it):\n",
        "    # create a random vector with norm of 1\n",
        "    # vector needs to be compatible with M\n",
        "    y = np.random.rand(M.shape[0])\n",
        "    y = y/np.linalg.norm(y)\n",
        "    # track condition number of (mu)I-M through iterations\n",
        "    conds = np.empty(0)\n",
        "    # keep track of iterations\n",
        "    i = 0\n",
        "    # conditional stop variable\n",
        "    stop = False\n",
        "    # repeat until stop condition is met\n",
        "    # or until the maximum number of iterations is reached\n",
        "    while(not stop):\n",
        "        # increase iteration count\n",
        "        i += 1\n",
        "        # check that max iterations hasn't been passed\n",
        "        # if it has been passed, return False to indicate failure\n",
        "        # also return the max number of iterations and conds\n",
        "        if i > it:\n",
        "            return None, None, it, conds\n",
        "        # calculate (mu)I-M\n",
        "        muI_M = A(mu, M)\n",
        "        # calculate the condition number of (mu)I-M\n",
        "        conds = np.append(conds, svd_cond(muI_M))\n",
        "        # solve the system ((mu)I-M)x=y\n",
        "        x = np.linalg.solve(muI_M, y)\n",
        "        # update y with a normalized x\n",
        "        y = x/np.linalg.norm(x)\n",
        "        # update mu with (x^T)Mx\n",
        "        mu = np.dot(np.dot(y.T, M), y)\n",
        "        # if ||Mx-(mu)x|| <= ep*||M||, then return mu, y, i, and conds\n",
        "        if np.linalg.norm(np.dot(M, x)-mu*x) <= ep*np.linalg.norm(M):\n",
        "            return mu, y, i, conds\n"
      ],
      "metadata": {
        "id": "apO5fW_L2ZQz"
      },
      "execution_count": 3,
      "outputs": []
    },
    {
      "cell_type": "markdown",
      "source": [
        "**RQI Algorithm with Additive Preconditioning**"
      ],
      "metadata": {
        "id": "iCP5yNCk2oLu"
      }
    },
    {
      "cell_type": "code",
      "source": [
        "# based on a close approximation of an eigenvalue of M (mu)\n",
        "# returns the corresponding eigenvector as well as the correct eigenvalue\n",
        "# takes in a matrix M, eigenvalue approximation mu\n",
        "# tolerance ep, and a max number of iterations it\n",
        "#\n",
        "# similar to regular RQI, but uses additive preprocessing\n",
        "def RQIAPP(M, mu, ep, it):\n",
        "    # create two random vectors with norm of 1\n",
        "    # vectors need to be compatible with M\n",
        "    y = np.random.rand(M.shape[0])\n",
        "    y = y/np.linalg.norm(y)\n",
        "    v = np.random.rand(M.shape[0])\n",
        "    v = v/np.linalg.norm(v)\n",
        "    # track condition number of (mu)I-M, C, and the desired condition number\n",
        "    conds = np.empty(0)\n",
        "    conds_C = np.empty(0)\n",
        "    conds_desired = np.empty(0)\n",
        "    # keep track of iterations\n",
        "    i = 0\n",
        "    # conditional stop variable\n",
        "    stop = False\n",
        "    # repeat until stop condition is met\n",
        "    # or until the maximum number of iterations is reached\n",
        "    while(not stop):\n",
        "        # increase iteration count\n",
        "        i += 1\n",
        "        # check that max iterations hasn't been passed\n",
        "        # if it has been passed, return False to indicate failure\n",
        "        # also return the max number of iterations and conds\n",
        "        if i > it:\n",
        "            return None, None, it, conds, conds_C, conds_desired\n",
        "        # calculate (mu)I-M\n",
        "        muI_M = A(mu, M)\n",
        "        # calculate C\n",
        "        C = f(mu, M, y, v)\n",
        "        # calculate the condition numbers\n",
        "        conds = np.append(conds, svd_cond(muI_M))\n",
        "        conds_C = np.append(conds_C, svd_cond(C))\n",
        "        conds_desired = np.append(conds_desired, svd_desired_cond(muI_M))\n",
        "        # solve the system Cx=y\n",
        "        x = np.linalg.solve(C, y)\n",
        "        # update y with a normalized x\n",
        "        y = x/np.linalg.norm(x)\n",
        "        # update mu with (y^T)My\n",
        "        mu = np.dot(np.dot(y.T, M), y)\n",
        "        # if ||Mx-(mu)x|| <= ep*||M||, then return mu, y, i, and conds\n",
        "        if np.linalg.norm(np.dot(M, x)-mu*x) <= ep*np.linalg.norm(M):\n",
        "            return mu, y, i, conds, conds_C, conds_desired"
      ],
      "metadata": {
        "id": "VpEMEwaW2uo0"
      },
      "execution_count": 4,
      "outputs": []
    },
    {
      "cell_type": "markdown",
      "source": [
        "**Test and Compare Algorithms**"
      ],
      "metadata": {
        "id": "Od-c92SJ5CDB"
      }
    },
    {
      "cell_type": "code",
      "source": [
        "# Setup\n",
        "\n",
        "# create a random matrix M\n",
        "M = np.random.rand(10, 10)\n",
        "# calculate the eigenvalues/eigenvectors of M\n",
        "vals, vecs = np.linalg.eig(M)\n",
        "# extract the first eigenvalue of M and subtract\n",
        "# a small value to make it an approximation\n",
        "mu = vals[0]-0.25"
      ],
      "metadata": {
        "id": "BmJkK6EO5FFr"
      },
      "execution_count": 5,
      "outputs": []
    },
    {
      "cell_type": "code",
      "source": [
        "# Print condition number of M\n",
        "svd_cond(M)"
      ],
      "metadata": {
        "colab": {
          "base_uri": "https://localhost:8080/"
        },
        "id": "deuNqaIWazW2",
        "outputId": "ea4bb1ec-1025-4330-c13f-16f9f9914fc0"
      },
      "execution_count": 6,
      "outputs": [
        {
          "output_type": "execute_result",
          "data": {
            "text/plain": [
              "169.82119455392856"
            ]
          },
          "metadata": {},
          "execution_count": 6
        }
      ]
    },
    {
      "cell_type": "code",
      "source": [
        "# Test RQI with 1e-4\n",
        "result = RQI(M, mu, 1e-4, 100)\n",
        "print('Eigenvalue:', result[0])\n",
        "print('Eigenvector:', result[1])\n",
        "print('Iterations:', result[2])\n",
        "print('Condition Numbers:', result[3])"
      ],
      "metadata": {
        "colab": {
          "base_uri": "https://localhost:8080/"
        },
        "id": "GJqllrAe5cIx",
        "outputId": "46e5f363-5f21-4891-d200-a4ee86e5ced0"
      },
      "execution_count": 7,
      "outputs": [
        {
          "output_type": "stream",
          "name": "stdout",
          "text": [
            "Eigenvalue: (4.919979238757471+0j)\n",
            "Eigenvector: [0.26570035+0.j 0.28681472+0.j 0.32432816+0.j 0.35162262+0.j\n",
            " 0.30510703+0.j 0.35879549+0.j 0.24291795+0.j 0.31067208+0.j\n",
            " 0.33417086+0.j 0.35957262+0.j]\n",
            "Iterations: 3\n",
            "Condition Numbers: [2.32634457e+01 1.70866091e+03 6.34422175e+07]\n"
          ]
        }
      ]
    },
    {
      "cell_type": "code",
      "source": [
        "# Test RQIAPP with 1e-4\n",
        "result = RQIAPP(M, mu, 1e-4, 100)\n",
        "print('Eigenvalue:', result[0])\n",
        "print('Eigenvector:', result[1])\n",
        "print('Iterations:', result[2])\n",
        "print('Condition Numbers for (mu)I-M:', result[3])\n",
        "print('Condition Numbers for C:', result[4])\n",
        "print('Desired Condition Numbers:', result[5])"
      ],
      "metadata": {
        "colab": {
          "base_uri": "https://localhost:8080/"
        },
        "id": "_aBnrwNS5kIO",
        "outputId": "0af1d6e2-aabf-4bb5-d473-586d67396685"
      },
      "execution_count": 8,
      "outputs": [
        {
          "output_type": "stream",
          "name": "stdout",
          "text": [
            "Eigenvalue: (4.919985034182345+0j)\n",
            "Eigenvector: [0.26570937+0.j 0.28680918+0.j 0.32430547+0.j 0.3516292 +0.j\n",
            " 0.30509134+0.j 0.35879016+0.j 0.24290626+0.j 0.31068717+0.j\n",
            " 0.33417957+0.j 0.35958982+0.j]\n",
            "Iterations: 2\n",
            "Condition Numbers for (mu)I-M: [ 23.26344565 779.87249717]\n",
            "Condition Numbers for C: [4.00125603 4.05553781]\n",
            "Desired Condition Numbers: [1.56740826 1.53193781]\n"
          ]
        }
      ]
    },
    {
      "cell_type": "code",
      "source": [
        "# Test RQI with 1e-6\n",
        "result = RQI(M, mu, 1e-6, 100)\n",
        "print('Eigenvalue:', result[0])\n",
        "print('Eigenvector:', result[1])\n",
        "print('Iterations:', result[2])\n",
        "print('Condition Numbers:', result[3])"
      ],
      "metadata": {
        "colab": {
          "base_uri": "https://localhost:8080/"
        },
        "id": "ihQfZRjL7VaV",
        "outputId": "5d23dcfb-d689-4ebe-d24e-560874e42b6b"
      },
      "execution_count": 9,
      "outputs": [
        {
          "output_type": "stream",
          "name": "stdout",
          "text": [
            "Eigenvalue: (4.9199792387574615+0j)\n",
            "Eigenvector: [0.26570035+0.j 0.28681472+0.j 0.32432816+0.j 0.35162262+0.j\n",
            " 0.30510703+0.j 0.35879549+0.j 0.24291795+0.j 0.31067208+0.j\n",
            " 0.33417086+0.j 0.35957262+0.j]\n",
            "Iterations: 4\n",
            "Condition Numbers: [2.32634457e+01 1.90141743e+02 3.03704435e+04 6.33599656e+08]\n"
          ]
        }
      ]
    },
    {
      "cell_type": "code",
      "source": [
        "# Test RQIAPP with 1e-6\n",
        "result = RQIAPP(M, mu, 1e-6, 100)\n",
        "print('Eigenvalue:', result[0])\n",
        "print('Eigenvector:', result[1])\n",
        "print('Iterations:', result[2])\n",
        "print('Condition Numbers:', result[3])\n",
        "print('Condition Numbers for C:', result[4])\n",
        "print('Desired Condition Numbers:', result[5])"
      ],
      "metadata": {
        "colab": {
          "base_uri": "https://localhost:8080/"
        },
        "id": "j7LT8S8V7VNz",
        "outputId": "dbf9e4a7-5540-4759-82cf-5a632e70b536"
      },
      "execution_count": 10,
      "outputs": [
        {
          "output_type": "stream",
          "name": "stdout",
          "text": [
            "Eigenvalue: (4.919979238757587+0j)\n",
            "Eigenvector: [0.26570035+0.j 0.28681472+0.j 0.32432816+0.j 0.35162262+0.j\n",
            " 0.30510703+0.j 0.35879549+0.j 0.24291795+0.j 0.31067208+0.j\n",
            " 0.33417086+0.j 0.35957262+0.j]\n",
            "Iterations: 3\n",
            "Condition Numbers: [2.32634457e+01 2.42666682e+03 3.67318636e+06]\n",
            "Condition Numbers for C: [4.13004543 4.22641526 4.21247506]\n",
            "Desired Condition Numbers: [1.56740826 1.5305331  1.53087426]\n"
          ]
        }
      ]
    },
    {
      "cell_type": "code",
      "source": [
        "# Test RQI with 1e-8\n",
        "result = RQI(M, mu, 1e-8, 100)\n",
        "print('Eigenvalue:', result[0])\n",
        "print('Eigenvector:', result[1])\n",
        "print('Iterations:', result[2])\n",
        "print('Condition Numbers:', result[3])"
      ],
      "metadata": {
        "colab": {
          "base_uri": "https://localhost:8080/"
        },
        "id": "qoSNmUAJ7gnC",
        "outputId": "69b1862a-57e9-4eb0-f937-56cf2b718cf6"
      },
      "execution_count": 11,
      "outputs": [
        {
          "output_type": "stream",
          "name": "stdout",
          "text": [
            "Eigenvalue: None\n",
            "Eigenvector: None\n",
            "Iterations: 100\n",
            "Condition Numbers: [2.32634457e+01 2.39046185e+02 4.75110508e+04 1.46317269e+09\n",
            " 8.46792698e+15 3.99631359e+16 5.03300939e+15 3.55676235e+15\n",
            " 2.56510471e+15 3.99631359e+16 8.46792698e+15 2.56510471e+15\n",
            " 3.99631359e+16 8.46792698e+15 2.56510471e+15 3.99631359e+16\n",
            " 8.46792698e+15 2.56510471e+15 3.99631359e+16 8.46792698e+15\n",
            " 2.56510471e+15 3.99631359e+16 8.46792698e+15 2.56510471e+15\n",
            " 3.99631359e+16 8.46792698e+15 2.56510471e+15 3.99631359e+16\n",
            " 8.46792698e+15 2.56510471e+15 3.99631359e+16 8.46792698e+15\n",
            " 2.56510471e+15 3.99631359e+16 8.46792698e+15 2.56510471e+15\n",
            " 3.99631359e+16 8.46792698e+15 2.56510471e+15 3.99631359e+16\n",
            " 8.46792698e+15 2.56510471e+15 3.99631359e+16 8.46792698e+15\n",
            " 2.56510471e+15 3.99631359e+16 8.46792698e+15 2.56510471e+15\n",
            " 3.99631359e+16 8.46792698e+15 2.56510471e+15 3.99631359e+16\n",
            " 8.46792698e+15 2.56510471e+15 3.99631359e+16 8.46792698e+15\n",
            " 2.56510471e+15 3.99631359e+16 8.46792698e+15 2.56510471e+15\n",
            " 3.99631359e+16 8.46792698e+15 2.56510471e+15 3.99631359e+16\n",
            " 8.46792698e+15 2.56510471e+15 3.99631359e+16 8.46792698e+15\n",
            " 2.56510471e+15 3.99631359e+16 8.46792698e+15 2.56510471e+15\n",
            " 3.99631359e+16 8.46792698e+15 2.56510471e+15 3.99631359e+16\n",
            " 8.46792698e+15 2.56510471e+15 3.99631359e+16 8.46792698e+15\n",
            " 2.56510471e+15 3.99631359e+16 8.46792698e+15 2.56510471e+15\n",
            " 3.99631359e+16 8.46792698e+15 2.56510471e+15 3.99631359e+16\n",
            " 8.46792698e+15 2.56510471e+15 3.99631359e+16 8.46792698e+15\n",
            " 2.56510471e+15 3.99631359e+16 8.46792698e+15 2.56510471e+15\n",
            " 3.99631359e+16 8.46792698e+15 2.56510471e+15 3.99631359e+16]\n"
          ]
        }
      ]
    },
    {
      "cell_type": "code",
      "source": [
        "# Test RQIAPP with 1e-8\n",
        "result = RQIAPP(M, mu, 1e-8, 100)\n",
        "print('Eigenvalue:', result[0])\n",
        "print('Eigenvector:', result[1])\n",
        "print('Iterations:', result[2])\n",
        "print('Condition Numbers:', result[3])\n",
        "print('Condition Numbers for C:', result[4])\n",
        "print('Desired Condition Numbers:', result[5])"
      ],
      "metadata": {
        "colab": {
          "base_uri": "https://localhost:8080/"
        },
        "id": "639AFhEd7gZ4",
        "outputId": "8d8f098b-9a11-481a-d074-3ef7fee540ef"
      },
      "execution_count": 12,
      "outputs": [
        {
          "output_type": "stream",
          "name": "stdout",
          "text": [
            "Eigenvalue: (4.919979240249256+0j)\n",
            "Eigenvector: [0.26570035+0.j 0.28681472+0.j 0.32432816+0.j 0.35162262+0.j\n",
            " 0.30510703+0.j 0.35879549+0.j 0.24291795+0.j 0.31067208+0.j\n",
            " 0.33417086+0.j 0.35957262+0.j]\n",
            "Iterations: 3\n",
            "Condition Numbers: [2.32634457e+01 3.15957412e+02 7.84103127e+04]\n",
            "Condition Numbers for C: [4.40975096 4.19142788 4.19143801]\n",
            "Desired Condition Numbers: [1.56740826 1.53350195 1.53086392]\n"
          ]
        }
      ]
    },
    {
      "cell_type": "code",
      "source": [
        "# Print actual eigenvalue/eigenvector\n",
        "print(vals[0], vecs[:,0])"
      ],
      "metadata": {
        "colab": {
          "base_uri": "https://localhost:8080/"
        },
        "id": "9kwLV9JE5rs_",
        "outputId": "f27f9232-aeec-4c48-9a51-2447e40899c2"
      },
      "execution_count": 13,
      "outputs": [
        {
          "output_type": "stream",
          "name": "stdout",
          "text": [
            "(4.9199792387574615+0j) [-0.26570035+0.j -0.28681472+0.j -0.32432816+0.j -0.35162262+0.j\n",
            " -0.30510703+0.j -0.35879549+0.j -0.24291795+0.j -0.31067208+0.j\n",
            " -0.33417086+0.j -0.35957262+0.j]\n"
          ]
        }
      ]
    }
  ]
}