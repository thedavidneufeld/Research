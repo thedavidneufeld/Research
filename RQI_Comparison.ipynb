{
  "nbformat": 4,
  "nbformat_minor": 0,
  "metadata": {
    "colab": {
      "provenance": [],
      "authorship_tag": "ABX9TyPYIiOyUXKlA+/UcIoAdHl7",
      "include_colab_link": true
    },
    "kernelspec": {
      "name": "python3",
      "display_name": "Python 3"
    },
    "language_info": {
      "name": "python"
    }
  },
  "cells": [
    {
      "cell_type": "markdown",
      "metadata": {
        "id": "view-in-github",
        "colab_type": "text"
      },
      "source": [
        "<a href=\"https://colab.research.google.com/github/thedavidneufeld/ResearchCode/blob/main/RQI_Comparison.ipynb\" target=\"_parent\"><img src=\"https://colab.research.google.com/assets/colab-badge.svg\" alt=\"Open In Colab\"/></a>"
      ]
    },
    {
      "cell_type": "markdown",
      "source": [
        "**Imports**"
      ],
      "metadata": {
        "id": "aw5k180W2P77"
      }
    },
    {
      "cell_type": "code",
      "execution_count": 51,
      "metadata": {
        "id": "VzNKJLwa2Bi2"
      },
      "outputs": [],
      "source": [
        "import numpy as np"
      ]
    },
    {
      "cell_type": "markdown",
      "source": [
        "**Helper Functions**"
      ],
      "metadata": {
        "id": "7OBLsr6V6JBr"
      }
    },
    {
      "cell_type": "code",
      "source": [
        "# given an approximate eigenvalue (mu) and a matrix M\n",
        "# returns (mu)*I-M\n",
        "def A(mu, M):\n",
        "    I = np.eye(M.shape[0])\n",
        "    return mu*I-M\n",
        "\n",
        "# calculates and returns the conditon number of M\n",
        "# based on sigma_1/sigma_n\n",
        "def svd_cond(M):\n",
        "    SVD = np.linalg.svd(M)\n",
        "    return SVD[1][0]/SVD[1][-1]\n",
        "\n",
        "# calculates and returns sigma_1/sigma_{n-1}\n",
        "def svd_desired_cond(M):\n",
        "    SVD = np.linalg.svd(M)\n",
        "    return SVD[1][0]/SVD[1][-2]\n",
        "\n",
        "# calculates a preconditioned matrix C based on\n",
        "# an approximate eigenvalue (mu), a matrix M, and vectors\n",
        "# y and v\n",
        "# returns C\n",
        "def f(mu, M, y, v):\n",
        "    # convert y and v to column vectors\n",
        "    Y = y[:, np.newaxis]\n",
        "    V = v[:, np.newaxis]\n",
        "    # calculate (mu)*I-M\n",
        "    A1 = A(mu, M)\n",
        "    # calculate ((mu)*I-M)/||((mu)*I-M)||+YV^H\n",
        "    C = A1/np.linalg.norm(A1, 2) + np.dot(Y, V.T.conj())\n",
        "    # return C\n",
        "    return C"
      ],
      "metadata": {
        "id": "gVWhJ5yq2-1Z"
      },
      "execution_count": 52,
      "outputs": []
    },
    {
      "cell_type": "markdown",
      "source": [
        "**RQI Algorithm**"
      ],
      "metadata": {
        "id": "hqv_9Dvt2Zh8"
      }
    },
    {
      "cell_type": "code",
      "source": [
        "# based on a close approximation of an eigenvalue of M (mu)\n",
        "# returns the corresponding eigenvector as well as the correct eigenvalue\n",
        "# takes in a matrix M, eigenvalue approximation mu\n",
        "# tolerance ep, and a max number of iterations it\n",
        "def RQI(M, mu, ep, it):\n",
        "    # create a random vector with norm of 1\n",
        "    # vector needs to be compatible with M\n",
        "    y = np.random.rand(M.shape[0])\n",
        "    y = y/np.linalg.norm(y)\n",
        "    # track condition number of (mu)I-M through iterations\n",
        "    conds = np.empty(0)\n",
        "    # repeat until stop condition is met\n",
        "    # or until the maximum number of iterations is reached\n",
        "    for i in range(1, it+1):\n",
        "        # calculate (mu)I-M\n",
        "        muI_M = A(mu, M)\n",
        "        # calculate the condition number of (mu)I-M\n",
        "        conds = np.append(conds, svd_cond(muI_M))\n",
        "        # solve the system ((mu)I-M)x=y\n",
        "        x = np.linalg.solve(muI_M, y)\n",
        "        # update y with a normalized x\n",
        "        y = x/np.linalg.norm(x)\n",
        "        # update mu with (x^T)Mx\n",
        "        mu = np.dot(np.dot(y.T, M), y)\n",
        "        # if ||Mx-(mu)x|| <= ep*||M||, then return mu, y, i, and conds\n",
        "        if np.linalg.norm(np.dot(M, x)-mu*x, 2) <= ep*np.linalg.norm(M, 2):\n",
        "            return mu, y, i, conds\n",
        "    # if max iterations has been surpassed, return None values,\n",
        "    # the number of iterations, and conds\n",
        "    return None, None, it, conds\n"
      ],
      "metadata": {
        "id": "apO5fW_L2ZQz"
      },
      "execution_count": 53,
      "outputs": []
    },
    {
      "cell_type": "markdown",
      "source": [
        "**RQI Algorithm with Additive Preconditioning**"
      ],
      "metadata": {
        "id": "iCP5yNCk2oLu"
      }
    },
    {
      "cell_type": "code",
      "source": [
        "# based on a close approximation of an eigenvalue of M (mu)\n",
        "# returns the corresponding eigenvector as well as the correct eigenvalue\n",
        "# takes in a matrix M, eigenvalue approximation mu\n",
        "# tolerance ep, and a max number of iterations it\n",
        "#\n",
        "# similar to regular RQI, but uses additive preprocessing\n",
        "def RQIAPP(M, mu, ep, it):\n",
        "    # create two random vectors with norm of 1\n",
        "    # vectors need to be compatible with M\n",
        "    y = np.random.rand(M.shape[0])\n",
        "    y = y/np.linalg.norm(y)\n",
        "    v = np.random.rand(M.shape[0])\n",
        "    v = v/np.linalg.norm(v)\n",
        "    # track condition number of (mu)I-M, C, and the desired condition number\n",
        "    conds = np.empty(0)\n",
        "    conds_C = np.empty(0)\n",
        "    conds_desired = np.empty(0)\n",
        "    # repeat until stop condition is met\n",
        "    # or until the maximum number of iterations is reached\n",
        "    for i in range(1, it+1):\n",
        "        # calculate (mu)I-M\n",
        "        muI_M = A(mu, M)\n",
        "        # calculate C\n",
        "        C = f(mu, M, y, v)\n",
        "        # calculate the condition numbers\n",
        "        conds = np.append(conds, svd_cond(muI_M))\n",
        "        conds_C = np.append(conds_C, svd_cond(C))\n",
        "        conds_desired = np.append(conds_desired, svd_desired_cond(muI_M))\n",
        "        # solve the system Cx=y\n",
        "        x = np.linalg.solve(C, y)\n",
        "        # update y with a normalized x\n",
        "        y = x/np.linalg.norm(x)\n",
        "        # update mu with (y^T)My\n",
        "        mu = np.dot(np.dot(y.T, M), y)\n",
        "        # if ||Mx-(mu)x|| <= ep*||M||, then return mu, y, i, and conds\n",
        "        if np.linalg.norm(np.dot(M, x)-mu*x, 2) <= ep*np.linalg.norm(M, 2):\n",
        "            return mu, y, i, conds, conds_C, conds_desired\n",
        "    # if max iterations has been surpassed, return None values,\n",
        "    # the number of iterations, and conds\n",
        "    return None, None, it, conds, conds_C, conds_desired"
      ],
      "metadata": {
        "id": "VpEMEwaW2uo0"
      },
      "execution_count": 54,
      "outputs": []
    },
    {
      "cell_type": "markdown",
      "source": [
        "**Test and Compare Algorithms**"
      ],
      "metadata": {
        "id": "Od-c92SJ5CDB"
      }
    },
    {
      "cell_type": "code",
      "source": [
        "# Setup\n",
        "\n",
        "# create a random matrix M\n",
        "M = np.random.rand(25, 25)\n",
        "# calculate the eigenvalues/eigenvectors of M\n",
        "vals, vecs = np.linalg.eig(M)\n",
        "# extract the first eigenvalue of M and subtract\n",
        "# a small value to make it an approximation\n",
        "mu = vals[0]-0.25"
      ],
      "metadata": {
        "id": "BmJkK6EO5FFr"
      },
      "execution_count": 55,
      "outputs": []
    },
    {
      "cell_type": "code",
      "source": [
        "# Print condition number of M\n",
        "svd_cond(M)"
      ],
      "metadata": {
        "colab": {
          "base_uri": "https://localhost:8080/"
        },
        "id": "deuNqaIWazW2",
        "outputId": "945c849c-2a45-43ef-f8f4-5f2f393273ed"
      },
      "execution_count": 56,
      "outputs": [
        {
          "output_type": "execute_result",
          "data": {
            "text/plain": [
              "492.89911707480775"
            ]
          },
          "metadata": {},
          "execution_count": 56
        }
      ]
    },
    {
      "cell_type": "code",
      "source": [
        "# Test RQI with 1e-4\n",
        "result = RQI(M, mu, 1e-4, 100)\n",
        "print('Eigenvalue:', result[0])\n",
        "print('Eigenvector:', result[1])\n",
        "print('Iterations:', result[2])\n",
        "print('Condition Numbers:', result[3])"
      ],
      "metadata": {
        "colab": {
          "base_uri": "https://localhost:8080/"
        },
        "id": "GJqllrAe5cIx",
        "outputId": "ce447b62-25f0-4708-eec9-220678f4b6f0"
      },
      "execution_count": 57,
      "outputs": [
        {
          "output_type": "stream",
          "name": "stdout",
          "text": [
            "Eigenvalue: (12.436021796199688+0j)\n",
            "Eigenvector: [0.18651386+0.j 0.17498743+0.j 0.19491603+0.j 0.19028703+0.j\n",
            " 0.20561724+0.j 0.21311619+0.j 0.22658228+0.j 0.24149701+0.j\n",
            " 0.20172205+0.j 0.15627504+0.j 0.22583389+0.j 0.17270275+0.j\n",
            " 0.21140866+0.j 0.22391816+0.j 0.17219116+0.j 0.18521791+0.j\n",
            " 0.20333882+0.j 0.2381802 +0.j 0.19962305+0.j 0.2124687 +0.j\n",
            " 0.19130547+0.j 0.20717043+0.j 0.20348932+0.j 0.19687833+0.j\n",
            " 0.12469496+0.j]\n",
            "Iterations: 3\n",
            "Condition Numbers: [5.68049704e+01 1.26064170e+03 1.47902160e+06]\n"
          ]
        }
      ]
    },
    {
      "cell_type": "code",
      "source": [
        "# Test RQIAPP with 1e-4\n",
        "result = RQIAPP(M, mu, 1e-4, 100)\n",
        "print('Eigenvalue:', result[0])\n",
        "print('Eigenvector:', result[1])\n",
        "print('Iterations:', result[2])\n",
        "print('Condition Numbers for (mu)I-M:', result[3])\n",
        "print('Condition Numbers for C:', result[4])\n",
        "print('Desired Condition Numbers:', result[5])"
      ],
      "metadata": {
        "colab": {
          "base_uri": "https://localhost:8080/"
        },
        "id": "_aBnrwNS5kIO",
        "outputId": "b24be7ad-be1a-4c30-c50e-abce059cb434"
      },
      "execution_count": 58,
      "outputs": [
        {
          "output_type": "stream",
          "name": "stdout",
          "text": [
            "Eigenvalue: (12.436023210780869+0j)\n",
            "Eigenvector: [0.18651385+0.j 0.17498865+0.j 0.19491676+0.j 0.19028673+0.j\n",
            " 0.20561789+0.j 0.21311647+0.j 0.22658159+0.j 0.24149718+0.j\n",
            " 0.20172282+0.j 0.15627425+0.j 0.2258327 +0.j 0.1727026 +0.j\n",
            " 0.21140896+0.j 0.22391669+0.j 0.17219139+0.j 0.18521723+0.j\n",
            " 0.20333834+0.j 0.23817996+0.j 0.19962307+0.j 0.21246892+0.j\n",
            " 0.19130672+0.j 0.20717175+0.j 0.20348896+0.j 0.19687727+0.j\n",
            " 0.12469587+0.j]\n",
            "Iterations: 2\n",
            "Condition Numbers for (mu)I-M: [  56.80497036 3123.04107751]\n",
            "Condition Numbers for C: [1.9568886  1.99560102]\n",
            "Desired Condition Numbers: [1.32616718 1.31887461]\n"
          ]
        }
      ]
    },
    {
      "cell_type": "code",
      "source": [
        "# Test RQI with 1e-6\n",
        "result = RQI(M, mu, 1e-6, 100)\n",
        "print('Eigenvalue:', result[0])\n",
        "print('Eigenvector:', result[1])\n",
        "print('Iterations:', result[2])\n",
        "print('Condition Numbers:', result[3])"
      ],
      "metadata": {
        "colab": {
          "base_uri": "https://localhost:8080/"
        },
        "id": "ihQfZRjL7VaV",
        "outputId": "30bb6b54-dfa4-427b-9e5a-f55e2b941ff4"
      },
      "execution_count": 59,
      "outputs": [
        {
          "output_type": "stream",
          "name": "stdout",
          "text": [
            "Eigenvalue: (12.436021796191797+0j)\n",
            "Eigenvector: [0.18651386+0.j 0.17498743+0.j 0.19491603+0.j 0.19028703+0.j\n",
            " 0.20561724+0.j 0.21311619+0.j 0.22658228+0.j 0.24149701+0.j\n",
            " 0.20172205+0.j 0.15627504+0.j 0.22583389+0.j 0.17270275+0.j\n",
            " 0.21140866+0.j 0.22391816+0.j 0.17219116+0.j 0.18521791+0.j\n",
            " 0.20333882+0.j 0.2381802 +0.j 0.19962305+0.j 0.2124687 +0.j\n",
            " 0.19130547+0.j 0.20717043+0.j 0.20348932+0.j 0.19687833+0.j\n",
            " 0.12469496+0.j]\n",
            "Iterations: 3\n",
            "Condition Numbers: [5.68049704e+01 2.25652906e+03 6.93870419e+06]\n"
          ]
        }
      ]
    },
    {
      "cell_type": "code",
      "source": [
        "# Test RQIAPP with 1e-6\n",
        "result = RQIAPP(M, mu, 1e-6, 100)\n",
        "print('Eigenvalue:', result[0])\n",
        "print('Eigenvector:', result[1])\n",
        "print('Iterations:', result[2])\n",
        "print('Condition Numbers:', result[3])\n",
        "print('Condition Numbers for C:', result[4])\n",
        "print('Desired Condition Numbers:', result[5])"
      ],
      "metadata": {
        "colab": {
          "base_uri": "https://localhost:8080/"
        },
        "id": "j7LT8S8V7VNz",
        "outputId": "bc8d16f3-0162-421c-d69f-2552abe15537"
      },
      "execution_count": 60,
      "outputs": [
        {
          "output_type": "stream",
          "name": "stdout",
          "text": [
            "Eigenvalue: (12.436021796195876+0j)\n",
            "Eigenvector: [0.18651386+0.j 0.17498743+0.j 0.19491603+0.j 0.19028703+0.j\n",
            " 0.20561724+0.j 0.21311619+0.j 0.22658228+0.j 0.24149701+0.j\n",
            " 0.20172205+0.j 0.15627504+0.j 0.22583389+0.j 0.17270275+0.j\n",
            " 0.21140866+0.j 0.22391816+0.j 0.17219116+0.j 0.18521791+0.j\n",
            " 0.20333882+0.j 0.2381802 +0.j 0.19962305+0.j 0.2124687 +0.j\n",
            " 0.19130547+0.j 0.20717043+0.j 0.20348932+0.j 0.19687833+0.j\n",
            " 0.12469496+0.j]\n",
            "Iterations: 3\n",
            "Condition Numbers: [5.68049704e+01 1.46512240e+03 2.04349145e+06]\n",
            "Condition Numbers for C: [2.34305579 1.58682691 1.59379417]\n",
            "Desired Condition Numbers: [1.32616718 1.31902667 1.31874006]\n"
          ]
        }
      ]
    },
    {
      "cell_type": "code",
      "source": [
        "# Test RQI with 1e-8\n",
        "result = RQI(M, mu, 1e-8, 100)\n",
        "print('Eigenvalue:', result[0])\n",
        "print('Eigenvector:', result[1])\n",
        "print('Iterations:', result[2])\n",
        "print('Condition Numbers:', result[3])"
      ],
      "metadata": {
        "colab": {
          "base_uri": "https://localhost:8080/"
        },
        "id": "qoSNmUAJ7gnC",
        "outputId": "d845277e-717c-4b51-818c-9dbeb6753f76"
      },
      "execution_count": 61,
      "outputs": [
        {
          "output_type": "stream",
          "name": "stdout",
          "text": [
            "Eigenvalue: None\n",
            "Eigenvector: None\n",
            "Iterations: 100\n",
            "Condition Numbers: [5.68049704e+01 1.63229705e+03 2.82626661e+06 6.18057685e+12\n",
            " 2.92127730e+16 5.98328960e+15 8.09279747e+15 4.18706680e+15\n",
            " 8.09279747e+15 4.18706680e+15 8.09279747e+15 4.18706680e+15\n",
            " 8.09279747e+15 4.18706680e+15 8.09279747e+15 4.18706680e+15\n",
            " 8.09279747e+15 4.18706680e+15 8.09279747e+15 4.18706680e+15\n",
            " 8.09279747e+15 4.18706680e+15 8.09279747e+15 4.18706680e+15\n",
            " 8.09279747e+15 4.18706680e+15 8.09279747e+15 4.18706680e+15\n",
            " 8.09279747e+15 4.18706680e+15 8.09279747e+15 4.18706680e+15\n",
            " 8.09279747e+15 4.18706680e+15 8.09279747e+15 4.18706680e+15\n",
            " 8.09279747e+15 4.18706680e+15 8.09279747e+15 4.18706680e+15\n",
            " 8.09279747e+15 4.18706680e+15 8.09279747e+15 4.18706680e+15\n",
            " 8.09279747e+15 4.18706680e+15 8.09279747e+15 4.18706680e+15\n",
            " 8.09279747e+15 4.18706680e+15 8.09279747e+15 4.18706680e+15\n",
            " 8.09279747e+15 4.18706680e+15 8.09279747e+15 4.18706680e+15\n",
            " 8.09279747e+15 4.18706680e+15 8.09279747e+15 4.18706680e+15\n",
            " 8.09279747e+15 4.18706680e+15 8.09279747e+15 4.18706680e+15\n",
            " 8.09279747e+15 4.18706680e+15 8.09279747e+15 4.18706680e+15\n",
            " 8.09279747e+15 4.18706680e+15 8.09279747e+15 4.18706680e+15\n",
            " 8.09279747e+15 4.18706680e+15 8.09279747e+15 4.18706680e+15\n",
            " 8.09279747e+15 4.18706680e+15 8.09279747e+15 4.18706680e+15\n",
            " 8.09279747e+15 4.18706680e+15 8.09279747e+15 4.18706680e+15\n",
            " 8.09279747e+15 4.18706680e+15 8.09279747e+15 4.18706680e+15\n",
            " 8.09279747e+15 4.18706680e+15 8.09279747e+15 4.18706680e+15\n",
            " 8.09279747e+15 4.18706680e+15 8.09279747e+15 4.18706680e+15\n",
            " 8.09279747e+15 4.18706680e+15 8.09279747e+15 4.18706680e+15]\n"
          ]
        }
      ]
    },
    {
      "cell_type": "code",
      "source": [
        "# Test RQIAPP with 1e-8\n",
        "result = RQIAPP(M, mu, 1e-8, 100)\n",
        "print('Eigenvalue:', result[0])\n",
        "print('Eigenvector:', result[1])\n",
        "print('Iterations:', result[2])\n",
        "print('Condition Numbers:', result[3])\n",
        "print('Condition Numbers for C:', result[4])\n",
        "print('Desired Condition Numbers:', result[5])"
      ],
      "metadata": {
        "colab": {
          "base_uri": "https://localhost:8080/"
        },
        "id": "639AFhEd7gZ4",
        "outputId": "12513b19-549a-478a-b6cc-41522f7ac07f"
      },
      "execution_count": 62,
      "outputs": [
        {
          "output_type": "stream",
          "name": "stdout",
          "text": [
            "Eigenvalue: (12.4360217962177+0j)\n",
            "Eigenvector: [0.18651386+0.j 0.17498743+0.j 0.19491603+0.j 0.19028703+0.j\n",
            " 0.20561724+0.j 0.21311619+0.j 0.22658228+0.j 0.24149701+0.j\n",
            " 0.20172205+0.j 0.15627504+0.j 0.22583389+0.j 0.17270275+0.j\n",
            " 0.21140866+0.j 0.22391816+0.j 0.17219116+0.j 0.18521791+0.j\n",
            " 0.20333882+0.j 0.2381802 +0.j 0.19962305+0.j 0.2124687 +0.j\n",
            " 0.19130547+0.j 0.20717043+0.j 0.20348932+0.j 0.19687833+0.j\n",
            " 0.12469496+0.j]\n",
            "Iterations: 3\n",
            "Condition Numbers: [5.68049704e+01 9.24026987e+02 8.17457287e+05]\n",
            "Condition Numbers for C: [1.85699441 1.82637613 1.81376941]\n",
            "Desired Condition Numbers: [1.32616718 1.31919444 1.31873975]\n"
          ]
        }
      ]
    },
    {
      "cell_type": "code",
      "source": [
        "# Print actual eigenvalue/eigenvector\n",
        "print(vals[0], vecs[:,0])"
      ],
      "metadata": {
        "colab": {
          "base_uri": "https://localhost:8080/"
        },
        "id": "9kwLV9JE5rs_",
        "outputId": "e2f71858-e6b3-4935-f149-389bfd08348e"
      },
      "execution_count": 63,
      "outputs": [
        {
          "output_type": "stream",
          "name": "stdout",
          "text": [
            "(12.4360217961915+0j) [-0.18651386+0.j -0.17498743+0.j -0.19491603+0.j -0.19028703+0.j\n",
            " -0.20561724+0.j -0.21311619+0.j -0.22658228+0.j -0.24149701+0.j\n",
            " -0.20172205+0.j -0.15627504+0.j -0.22583389+0.j -0.17270275+0.j\n",
            " -0.21140866+0.j -0.22391816+0.j -0.17219116+0.j -0.18521791+0.j\n",
            " -0.20333882+0.j -0.2381802 +0.j -0.19962305+0.j -0.2124687 +0.j\n",
            " -0.19130547+0.j -0.20717043+0.j -0.20348932+0.j -0.19687833+0.j\n",
            " -0.12469496+0.j]\n"
          ]
        }
      ]
    }
  ]
}