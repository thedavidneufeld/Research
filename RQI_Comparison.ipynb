{
  "nbformat": 4,
  "nbformat_minor": 0,
  "metadata": {
    "colab": {
      "provenance": [],
      "authorship_tag": "ABX9TyPjBQ/xDqTDwJ6IiWslgIoZ",
      "include_colab_link": true
    },
    "kernelspec": {
      "name": "python3",
      "display_name": "Python 3"
    },
    "language_info": {
      "name": "python"
    }
  },
  "cells": [
    {
      "cell_type": "markdown",
      "metadata": {
        "id": "view-in-github",
        "colab_type": "text"
      },
      "source": [
        "<a href=\"https://colab.research.google.com/github/thedavidneufeld/ResearchCode/blob/main/RQI_Comparison.ipynb\" target=\"_parent\"><img src=\"https://colab.research.google.com/assets/colab-badge.svg\" alt=\"Open In Colab\"/></a>"
      ]
    },
    {
      "cell_type": "markdown",
      "source": [
        "**Imports**"
      ],
      "metadata": {
        "id": "aw5k180W2P77"
      }
    },
    {
      "cell_type": "code",
      "execution_count": 1,
      "metadata": {
        "id": "VzNKJLwa2Bi2"
      },
      "outputs": [],
      "source": [
        "import numpy as np"
      ]
    },
    {
      "cell_type": "markdown",
      "source": [
        "**Helper Functions**"
      ],
      "metadata": {
        "id": "7OBLsr6V6JBr"
      }
    },
    {
      "cell_type": "code",
      "source": [
        "# given an approximate eigenvalue (mu) and a matrix M\n",
        "# returns (mu)*I-M\n",
        "def A(mu, M):\n",
        "    I = np.eye(M.shape[0])\n",
        "    return mu*I-M\n",
        "\n",
        "# calculates and returns the conditon number of M\n",
        "# based on sigma_1/sigma_n\n",
        "def svd_cond(M):\n",
        "    SVD = np.linalg.svd(M)\n",
        "    return SVD[1][0]/SVD[1][-1]\n",
        "\n",
        "# calculates and returns sigma_1/sigma_{n-1}\n",
        "def svd_desired_cond(M):\n",
        "    SVD = np.linalg.svd(M)\n",
        "    return SVD[1][0]/SVD[1][-2]\n",
        "\n",
        "# calculates a preconditioned matrix C based on\n",
        "# an approximate eigenvalue (mu), a matrix M, and vectors\n",
        "# y and v\n",
        "# returns C\n",
        "def f(mu, M, y, v):\n",
        "    # convert y and v to column vectors\n",
        "    Y = y[:, np.newaxis]\n",
        "    V = v[:, np.newaxis]\n",
        "    # calculate (mu)*I-M\n",
        "    A1 = A(mu, M)\n",
        "    # calculate ((mu)*I-M)/||((mu)*I-M)||+YV^H\n",
        "    C = A1/np.linalg.norm(A1) + np.dot(Y, V.T.conj())\n",
        "    # return C\n",
        "    return C"
      ],
      "metadata": {
        "id": "gVWhJ5yq2-1Z"
      },
      "execution_count": 2,
      "outputs": []
    },
    {
      "cell_type": "markdown",
      "source": [
        "**RQI Algorithm**"
      ],
      "metadata": {
        "id": "hqv_9Dvt2Zh8"
      }
    },
    {
      "cell_type": "code",
      "source": [
        "# based on a close approximation of an eigenvalue of M (mu)\n",
        "# returns the corresponding eigenvector as well as the correct eigenvalue\n",
        "# takes in a matrix M, eigenvalue approximation mu\n",
        "# tolerance ep, and a max number of iterations it\n",
        "def RQI(M, mu, ep, it):\n",
        "    # create a random vector with norm of 1\n",
        "    # vector needs to be compatible with M\n",
        "    y = np.random.rand(M.shape[0])\n",
        "    y = y/np.linalg.norm(y)\n",
        "    # track condition number of (mu)I-M through iterations\n",
        "    conds = np.empty(0)\n",
        "    # repeat until stop condition is met\n",
        "    # or until the maximum number of iterations is reached\n",
        "    for i in range(1, it+1):\n",
        "        # calculate (mu)I-M\n",
        "        muI_M = A(mu, M)\n",
        "        # calculate the condition number of (mu)I-M\n",
        "        conds = np.append(conds, svd_cond(muI_M))\n",
        "        # solve the system ((mu)I-M)x=y\n",
        "        x = np.linalg.solve(muI_M, y)\n",
        "        # update y with a normalized x\n",
        "        y = x/np.linalg.norm(x)\n",
        "        # update mu with (x^T)Mx\n",
        "        mu = np.dot(np.dot(y.T, M), y)\n",
        "        # if ||Mx-(mu)x|| <= ep*||M||, then return mu, y, i, and conds\n",
        "        if np.linalg.norm(np.dot(M, x)-mu*x) <= ep*np.linalg.norm(M):\n",
        "            return mu, y, i, conds\n",
        "    # if max iterations has been surpassed, return None values,\n",
        "    # the number of iterations, and conds\n",
        "    return None, None, it, conds\n"
      ],
      "metadata": {
        "id": "apO5fW_L2ZQz"
      },
      "execution_count": 3,
      "outputs": []
    },
    {
      "cell_type": "markdown",
      "source": [
        "**RQI Algorithm with Additive Preconditioning**"
      ],
      "metadata": {
        "id": "iCP5yNCk2oLu"
      }
    },
    {
      "cell_type": "code",
      "source": [
        "# based on a close approximation of an eigenvalue of M (mu)\n",
        "# returns the corresponding eigenvector as well as the correct eigenvalue\n",
        "# takes in a matrix M, eigenvalue approximation mu\n",
        "# tolerance ep, and a max number of iterations it\n",
        "#\n",
        "# similar to regular RQI, but uses additive preprocessing\n",
        "def RQIAPP(M, mu, ep, it):\n",
        "    # create two random vectors with norm of 1\n",
        "    # vectors need to be compatible with M\n",
        "    y = np.random.rand(M.shape[0])\n",
        "    y = y/np.linalg.norm(y)\n",
        "    v = np.random.rand(M.shape[0])\n",
        "    v = v/np.linalg.norm(v)\n",
        "    # track condition number of (mu)I-M, C, and the desired condition number\n",
        "    conds = np.empty(0)\n",
        "    conds_C = np.empty(0)\n",
        "    conds_desired = np.empty(0)\n",
        "    # repeat until stop condition is met\n",
        "    # or until the maximum number of iterations is reached\n",
        "    for i in range(1, it+1):\n",
        "        # calculate (mu)I-M\n",
        "        muI_M = A(mu, M)\n",
        "        # calculate C\n",
        "        C = f(mu, M, y, v)\n",
        "        # calculate the condition numbers\n",
        "        conds = np.append(conds, svd_cond(muI_M))\n",
        "        conds_C = np.append(conds_C, svd_cond(C))\n",
        "        conds_desired = np.append(conds_desired, svd_desired_cond(muI_M))\n",
        "        # solve the system Cx=y\n",
        "        x = np.linalg.solve(C, y)\n",
        "        # update y with a normalized x\n",
        "        y = x/np.linalg.norm(x)\n",
        "        # update mu with (y^T)My\n",
        "        mu = np.dot(np.dot(y.T, M), y)\n",
        "        # if ||Mx-(mu)x|| <= ep*||M||, then return mu, y, i, and conds\n",
        "        if np.linalg.norm(np.dot(M, x)-mu*x) <= ep*np.linalg.norm(M):\n",
        "            return mu, y, i, conds, conds_C, conds_desired\n",
        "    # if max iterations has been surpassed, return None values,\n",
        "    # the number of iterations, and conds\n",
        "    return None, None, it, conds, conds_C, conds_desired"
      ],
      "metadata": {
        "id": "VpEMEwaW2uo0"
      },
      "execution_count": 4,
      "outputs": []
    },
    {
      "cell_type": "markdown",
      "source": [
        "**Test and Compare Algorithms**"
      ],
      "metadata": {
        "id": "Od-c92SJ5CDB"
      }
    },
    {
      "cell_type": "code",
      "source": [
        "# Setup\n",
        "\n",
        "# create a random matrix M\n",
        "M = np.random.rand(10, 10)\n",
        "# calculate the eigenvalues/eigenvectors of M\n",
        "vals, vecs = np.linalg.eig(M)\n",
        "# extract the first eigenvalue of M and subtract\n",
        "# a small value to make it an approximation\n",
        "mu = vals[0]-0.25"
      ],
      "metadata": {
        "id": "BmJkK6EO5FFr"
      },
      "execution_count": 5,
      "outputs": []
    },
    {
      "cell_type": "code",
      "source": [
        "# Print condition number of M\n",
        "svd_cond(M)"
      ],
      "metadata": {
        "colab": {
          "base_uri": "https://localhost:8080/"
        },
        "id": "deuNqaIWazW2",
        "outputId": "dea2f233-5172-4a4c-c2b2-b18df26f58c4"
      },
      "execution_count": 6,
      "outputs": [
        {
          "output_type": "execute_result",
          "data": {
            "text/plain": [
              "224.28717804660735"
            ]
          },
          "metadata": {},
          "execution_count": 6
        }
      ]
    },
    {
      "cell_type": "code",
      "source": [
        "# Test RQI with 1e-4\n",
        "result = RQI(M, mu, 1e-4, 100)\n",
        "print('Eigenvalue:', result[0])\n",
        "print('Eigenvector:', result[1])\n",
        "print('Iterations:', result[2])\n",
        "print('Condition Numbers:', result[3])"
      ],
      "metadata": {
        "colab": {
          "base_uri": "https://localhost:8080/"
        },
        "id": "GJqllrAe5cIx",
        "outputId": "75fb1929-1877-4049-bbf8-5c9d20fbfa65"
      },
      "execution_count": 7,
      "outputs": [
        {
          "output_type": "stream",
          "name": "stdout",
          "text": [
            "Eigenvalue: (5.001290331517275+0j)\n",
            "Eigenvector: [0.25366823+0.j 0.28691931+0.j 0.42649327+0.j 0.37114977+0.j\n",
            " 0.22410026+0.j 0.3142957 +0.j 0.29682352+0.j 0.38891107+0.j\n",
            " 0.30533791+0.j 0.22823475+0.j]\n",
            "Iterations: 3\n",
            "Condition Numbers: [2.29216988e+01 8.35897777e+02 8.53647992e+05]\n"
          ]
        }
      ]
    },
    {
      "cell_type": "code",
      "source": [
        "# Test RQIAPP with 1e-4\n",
        "result = RQIAPP(M, mu, 1e-4, 100)\n",
        "print('Eigenvalue:', result[0])\n",
        "print('Eigenvector:', result[1])\n",
        "print('Iterations:', result[2])\n",
        "print('Condition Numbers for (mu)I-M:', result[3])\n",
        "print('Condition Numbers for C:', result[4])\n",
        "print('Desired Condition Numbers:', result[5])"
      ],
      "metadata": {
        "colab": {
          "base_uri": "https://localhost:8080/"
        },
        "id": "_aBnrwNS5kIO",
        "outputId": "bee468b5-145f-4013-d904-3f9629c0cb1e"
      },
      "execution_count": 8,
      "outputs": [
        {
          "output_type": "stream",
          "name": "stdout",
          "text": [
            "Eigenvalue: (5.001318607586871+0j)\n",
            "Eigenvector: [0.25369796+0.j 0.28691431+0.j 0.42645801+0.j 0.37116225+0.j\n",
            " 0.22411069+0.j 0.31425926+0.j 0.29680148+0.j 0.38893806+0.j\n",
            " 0.3053653 +0.j 0.22823953+0.j]\n",
            "Iterations: 2\n",
            "Condition Numbers for (mu)I-M: [ 22.92169877 495.56281353]\n",
            "Condition Numbers for C: [4.00489304 3.9085082 ]\n",
            "Desired Condition Numbers: [1.51002671 1.47859177]\n"
          ]
        }
      ]
    },
    {
      "cell_type": "code",
      "source": [
        "# Test RQI with 1e-6\n",
        "result = RQI(M, mu, 1e-6, 100)\n",
        "print('Eigenvalue:', result[0])\n",
        "print('Eigenvector:', result[1])\n",
        "print('Iterations:', result[2])\n",
        "print('Condition Numbers:', result[3])"
      ],
      "metadata": {
        "colab": {
          "base_uri": "https://localhost:8080/"
        },
        "id": "ihQfZRjL7VaV",
        "outputId": "d2f957f7-f30b-41cc-e8cc-fe8e7b2a6843"
      },
      "execution_count": 9,
      "outputs": [
        {
          "output_type": "stream",
          "name": "stdout",
          "text": [
            "Eigenvalue: (5.00129033150031+0j)\n",
            "Eigenvector: [-0.25366823+0.j -0.28691931+0.j -0.42649327+0.j -0.37114977+0.j\n",
            " -0.22410026+0.j -0.3142957 +0.j -0.29682352+0.j -0.38891107+0.j\n",
            " -0.30533791+0.j -0.22823475+0.j]\n",
            "Iterations: 4\n",
            "Condition Numbers: [2.29216988e+01 6.36325066e+02 1.95727465e+05 2.72730787e+10]\n"
          ]
        }
      ]
    },
    {
      "cell_type": "code",
      "source": [
        "# Test RQIAPP with 1e-6\n",
        "result = RQIAPP(M, mu, 1e-6, 100)\n",
        "print('Eigenvalue:', result[0])\n",
        "print('Eigenvector:', result[1])\n",
        "print('Iterations:', result[2])\n",
        "print('Condition Numbers:', result[3])\n",
        "print('Condition Numbers for C:', result[4])\n",
        "print('Desired Condition Numbers:', result[5])"
      ],
      "metadata": {
        "colab": {
          "base_uri": "https://localhost:8080/"
        },
        "id": "j7LT8S8V7VNz",
        "outputId": "a992a6e4-2240-4c4f-ea5b-0668247c8de4"
      },
      "execution_count": 10,
      "outputs": [
        {
          "output_type": "stream",
          "name": "stdout",
          "text": [
            "Eigenvalue: (5.001290332377149+0j)\n",
            "Eigenvector: [0.25366823+0.j 0.28691931+0.j 0.42649327+0.j 0.37114977+0.j\n",
            " 0.22410026+0.j 0.3142957 +0.j 0.29682352+0.j 0.38891107+0.j\n",
            " 0.30533791+0.j 0.22823475+0.j]\n",
            "Iterations: 3\n",
            "Condition Numbers: [2.29216988e+01 2.67840771e+02 8.48751533e+04]\n",
            "Condition Numbers for C: [3.88154691 4.10921262 4.09126723]\n",
            "Desired Condition Numbers: [1.51002671 1.47985625 1.47709922]\n"
          ]
        }
      ]
    },
    {
      "cell_type": "code",
      "source": [
        "# Test RQI with 1e-8\n",
        "result = RQI(M, mu, 1e-8, 100)\n",
        "print('Eigenvalue:', result[0])\n",
        "print('Eigenvector:', result[1])\n",
        "print('Iterations:', result[2])\n",
        "print('Condition Numbers:', result[3])"
      ],
      "metadata": {
        "colab": {
          "base_uri": "https://localhost:8080/"
        },
        "id": "qoSNmUAJ7gnC",
        "outputId": "98a2db79-44d1-43a1-d155-5cc79e15e98f"
      },
      "execution_count": 11,
      "outputs": [
        {
          "output_type": "stream",
          "name": "stdout",
          "text": [
            "Eigenvalue: None\n",
            "Eigenvector: None\n",
            "Iterations: 100\n",
            "Condition Numbers: [2.29216988e+01 6.67725292e+02 4.05332705e+05 1.31567163e+11\n",
            " 4.48881446e+15 9.13922613e+15 4.48881446e+15 9.13922613e+15\n",
            " 4.48881446e+15 9.13922613e+15 4.48881446e+15 9.13922613e+15\n",
            " 4.48881446e+15 9.13922613e+15 4.48881446e+15 9.13922613e+15\n",
            " 4.48881446e+15 9.13922613e+15 4.48881446e+15 9.13922613e+15\n",
            " 4.48881446e+15 9.13922613e+15 4.48881446e+15 9.13922613e+15\n",
            " 4.48881446e+15 9.13922613e+15 4.48881446e+15 9.13922613e+15\n",
            " 4.48881446e+15 9.13922613e+15 4.48881446e+15 9.13922613e+15\n",
            " 4.48881446e+15 9.13922613e+15 4.48881446e+15 9.13922613e+15\n",
            " 4.48881446e+15 9.13922613e+15 4.48881446e+15 9.13922613e+15\n",
            " 4.48881446e+15 9.13922613e+15 4.48881446e+15 9.13922613e+15\n",
            " 4.48881446e+15 9.13922613e+15 4.48881446e+15 9.13922613e+15\n",
            " 4.48881446e+15 9.13922613e+15 4.48881446e+15 9.13922613e+15\n",
            " 4.48881446e+15 9.13922613e+15 4.48881446e+15 9.13922613e+15\n",
            " 4.48881446e+15 9.13922613e+15 4.48881446e+15 9.13922613e+15\n",
            " 4.48881446e+15 9.13922613e+15 4.48881446e+15 9.13922613e+15\n",
            " 4.48881446e+15 9.13922613e+15 4.48881446e+15 9.13922613e+15\n",
            " 4.48881446e+15 9.13922613e+15 4.48881446e+15 9.13922613e+15\n",
            " 4.48881446e+15 9.13922613e+15 4.48881446e+15 9.13922613e+15\n",
            " 4.48881446e+15 9.13922613e+15 4.48881446e+15 9.13922613e+15\n",
            " 4.48881446e+15 9.13922613e+15 4.48881446e+15 9.13922613e+15\n",
            " 4.48881446e+15 9.13922613e+15 4.48881446e+15 9.13922613e+15\n",
            " 4.48881446e+15 9.13922613e+15 4.48881446e+15 9.13922613e+15\n",
            " 4.48881446e+15 9.13922613e+15 4.48881446e+15 9.13922613e+15\n",
            " 4.48881446e+15 9.13922613e+15 4.48881446e+15 9.13922613e+15]\n"
          ]
        }
      ]
    },
    {
      "cell_type": "code",
      "source": [
        "# Test RQIAPP with 1e-8\n",
        "result = RQIAPP(M, mu, 1e-8, 100)\n",
        "print('Eigenvalue:', result[0])\n",
        "print('Eigenvector:', result[1])\n",
        "print('Iterations:', result[2])\n",
        "print('Condition Numbers:', result[3])\n",
        "print('Condition Numbers for C:', result[4])\n",
        "print('Desired Condition Numbers:', result[5])"
      ],
      "metadata": {
        "colab": {
          "base_uri": "https://localhost:8080/"
        },
        "id": "639AFhEd7gZ4",
        "outputId": "0510613a-73e3-4689-976e-22681de2d327"
      },
      "execution_count": 12,
      "outputs": [
        {
          "output_type": "stream",
          "name": "stdout",
          "text": [
            "Eigenvalue: (5.001290336366048+0j)\n",
            "Eigenvector: [0.25366823+0.j 0.28691931+0.j 0.42649327+0.j 0.37114977+0.j\n",
            " 0.22410026+0.j 0.31429569+0.j 0.29682352+0.j 0.38891107+0.j\n",
            " 0.30533791+0.j 0.22823475+0.j]\n",
            "Iterations: 3\n",
            "Condition Numbers: [2.29216988e+01 2.21111470e+02 4.14075702e+04]\n",
            "Condition Numbers for C: [3.92871714 3.8171436  3.81678642]\n",
            "Desired Condition Numbers: [1.51002671 1.48043868 1.47709014]\n"
          ]
        }
      ]
    },
    {
      "cell_type": "code",
      "source": [
        "# Print actual eigenvalue/eigenvector\n",
        "print(vals[0], vecs[:,0])"
      ],
      "metadata": {
        "colab": {
          "base_uri": "https://localhost:8080/"
        },
        "id": "9kwLV9JE5rs_",
        "outputId": "c108b6d3-5549-4e97-b000-d282d2ac0d15"
      },
      "execution_count": 13,
      "outputs": [
        {
          "output_type": "stream",
          "name": "stdout",
          "text": [
            "(5.00129033150031+0j) [-0.25366823+0.j -0.28691931+0.j -0.42649327+0.j -0.37114977+0.j\n",
            " -0.22410026+0.j -0.3142957 +0.j -0.29682352+0.j -0.38891107+0.j\n",
            " -0.30533791+0.j -0.22823475+0.j]\n"
          ]
        }
      ]
    }
  ]
}