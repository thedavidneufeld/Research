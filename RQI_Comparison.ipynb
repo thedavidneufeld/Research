{
  "nbformat": 4,
  "nbformat_minor": 0,
  "metadata": {
    "colab": {
      "provenance": [],
      "authorship_tag": "ABX9TyP79yph2p9kTvkNGv07YssZ",
      "include_colab_link": true
    },
    "kernelspec": {
      "name": "python3",
      "display_name": "Python 3"
    },
    "language_info": {
      "name": "python"
    }
  },
  "cells": [
    {
      "cell_type": "markdown",
      "metadata": {
        "id": "view-in-github",
        "colab_type": "text"
      },
      "source": [
        "<a href=\"https://colab.research.google.com/github/thedavidneufeld/ResearchCode/blob/main/RQI_Comparison.ipynb\" target=\"_parent\"><img src=\"https://colab.research.google.com/assets/colab-badge.svg\" alt=\"Open In Colab\"/></a>"
      ]
    },
    {
      "cell_type": "markdown",
      "source": [
        "**Imports**"
      ],
      "metadata": {
        "id": "aw5k180W2P77"
      }
    },
    {
      "cell_type": "code",
      "execution_count": 1,
      "metadata": {
        "id": "VzNKJLwa2Bi2"
      },
      "outputs": [],
      "source": [
        "import numpy as np"
      ]
    },
    {
      "cell_type": "markdown",
      "source": [
        "**Helper Functions**"
      ],
      "metadata": {
        "id": "7OBLsr6V6JBr"
      }
    },
    {
      "cell_type": "code",
      "source": [
        "# given an approximate eigenvalue (mu) and a matrix M\n",
        "# returns (mu)*I-M\n",
        "def A(mu, M):\n",
        "    I = np.eye(M.shape[0])\n",
        "    return mu*I-M\n",
        "\n",
        "# calculates and returns the conditon number of M\n",
        "# based on sigma_1/sigma_n\n",
        "def svd_cond(M):\n",
        "    SVD = np.linalg.svd(M)\n",
        "    return SVD[1][0]/SVD[1][-1]\n",
        "\n",
        "# calculates and returns sigma_1/sigma_{n-1}\n",
        "def svd_desired_cond(M):\n",
        "    SVD = np.linalg.svd(M)\n",
        "    return SVD[1][0]/SVD[1][-2]\n",
        "\n",
        "# calculates a preconditioned matrix C based on\n",
        "# an approximate eigenvalue (mu), a matrix M, and vectors\n",
        "# y and v\n",
        "# returns C\n",
        "def f(mu, M, y, v):\n",
        "    # convert y and v to column vectors\n",
        "    Y = y[:, np.newaxis]\n",
        "    V = v[:, np.newaxis]\n",
        "    # calculate (mu)*I-M\n",
        "    A1 = A(mu, M)\n",
        "    # calculate ((mu)*I-M)/||((mu)*I-M)||+YV^H\n",
        "    C = A1/np.linalg.norm(A1) + np.dot(Y, V.T.conj())\n",
        "    # return C\n",
        "    return C"
      ],
      "metadata": {
        "id": "gVWhJ5yq2-1Z"
      },
      "execution_count": 2,
      "outputs": []
    },
    {
      "cell_type": "markdown",
      "source": [
        "**RQI Algorithm**"
      ],
      "metadata": {
        "id": "hqv_9Dvt2Zh8"
      }
    },
    {
      "cell_type": "code",
      "source": [
        "# based on a close approximation of an eigenvalue of M (mu)\n",
        "# returns the corresponding eigenvector as well as the correct eigenvalue\n",
        "# takes in a matrix M, eigenvalue approximation mu\n",
        "# tolerance ep, and a max number of iterations it\n",
        "def RQI(M, mu, ep, it):\n",
        "    # create a random vector with norm of 1\n",
        "    # vector needs to be compatible with M\n",
        "    y = np.random.rand(M.shape[0])\n",
        "    y = y/np.linalg.norm(y)\n",
        "    # track condition number of (mu)I-M through iterations\n",
        "    conds = np.empty(0)\n",
        "    # repeat until stop condition is met\n",
        "    # or until the maximum number of iterations is reached\n",
        "    for i in range(1, it+1):\n",
        "        # calculate (mu)I-M\n",
        "        muI_M = A(mu, M)\n",
        "        # calculate the condition number of (mu)I-M\n",
        "        conds = np.append(conds, svd_cond(muI_M))\n",
        "        # solve the system ((mu)I-M)x=y\n",
        "        x = np.linalg.solve(muI_M, y)\n",
        "        # update y with a normalized x\n",
        "        y = x/np.linalg.norm(x)\n",
        "        # update mu with (x^T)Mx\n",
        "        mu = np.dot(np.dot(y.T, M), y)\n",
        "        # if ||Mx-(mu)x|| <= ep*||M||, then return mu, y, i, and conds\n",
        "        if np.linalg.norm(np.dot(M, x)-mu*x) <= ep*np.linalg.norm(M):\n",
        "            return mu, y, i, conds\n",
        "    # if max iterations has been surpassed, return None values,\n",
        "    # the number of iterations, and conds\n",
        "    return None, None, it, conds\n"
      ],
      "metadata": {
        "id": "apO5fW_L2ZQz"
      },
      "execution_count": 3,
      "outputs": []
    },
    {
      "cell_type": "markdown",
      "source": [
        "**RQI Algorithm with Additive Preconditioning**"
      ],
      "metadata": {
        "id": "iCP5yNCk2oLu"
      }
    },
    {
      "cell_type": "code",
      "source": [
        "# based on a close approximation of an eigenvalue of M (mu)\n",
        "# returns the corresponding eigenvector as well as the correct eigenvalue\n",
        "# takes in a matrix M, eigenvalue approximation mu\n",
        "# tolerance ep, and a max number of iterations it\n",
        "#\n",
        "# similar to regular RQI, but uses additive preprocessing\n",
        "def RQIAPP(M, mu, ep, it):\n",
        "    # create two random vectors with norm of 1\n",
        "    # vectors need to be compatible with M\n",
        "    y = np.random.rand(M.shape[0])\n",
        "    y = y/np.linalg.norm(y)\n",
        "    v = np.random.rand(M.shape[0])\n",
        "    v = v/np.linalg.norm(v)\n",
        "    # track condition number of (mu)I-M, C, and the desired condition number\n",
        "    conds = np.empty(0)\n",
        "    conds_C = np.empty(0)\n",
        "    conds_desired = np.empty(0)\n",
        "    # keep track of iterations\n",
        "    i = 0\n",
        "    # conditional stop variable\n",
        "    stop = False\n",
        "    # repeat until stop condition is met\n",
        "    # or until the maximum number of iterations is reached\n",
        "    for i in range(1, it+1):\n",
        "        # calculate (mu)I-M\n",
        "        muI_M = A(mu, M)\n",
        "        # calculate C\n",
        "        C = f(mu, M, y, v)\n",
        "        # calculate the condition numbers\n",
        "        conds = np.append(conds, svd_cond(muI_M))\n",
        "        conds_C = np.append(conds_C, svd_cond(C))\n",
        "        conds_desired = np.append(conds_desired, svd_desired_cond(muI_M))\n",
        "        # solve the system Cx=y\n",
        "        x = np.linalg.solve(C, y)\n",
        "        # update y with a normalized x\n",
        "        y = x/np.linalg.norm(x)\n",
        "        # update mu with (y^T)My\n",
        "        mu = np.dot(np.dot(y.T, M), y)\n",
        "        # if ||Mx-(mu)x|| <= ep*||M||, then return mu, y, i, and conds\n",
        "        if np.linalg.norm(np.dot(M, x)-mu*x) <= ep*np.linalg.norm(M):\n",
        "            return mu, y, i, conds, conds_C, conds_desired\n",
        "    # if max iterations has been surpassed, return None values,\n",
        "    # the number of iterations, and conds\n",
        "    return None, None, it, conds, conds_C, conds_desired"
      ],
      "metadata": {
        "id": "VpEMEwaW2uo0"
      },
      "execution_count": 4,
      "outputs": []
    },
    {
      "cell_type": "markdown",
      "source": [
        "**Test and Compare Algorithms**"
      ],
      "metadata": {
        "id": "Od-c92SJ5CDB"
      }
    },
    {
      "cell_type": "code",
      "source": [
        "# Setup\n",
        "\n",
        "# create a random matrix M\n",
        "M = np.random.rand(10, 10)\n",
        "# calculate the eigenvalues/eigenvectors of M\n",
        "vals, vecs = np.linalg.eig(M)\n",
        "# extract the first eigenvalue of M and subtract\n",
        "# a small value to make it an approximation\n",
        "mu = vals[0]-0.25"
      ],
      "metadata": {
        "id": "BmJkK6EO5FFr"
      },
      "execution_count": 5,
      "outputs": []
    },
    {
      "cell_type": "code",
      "source": [
        "# Print condition number of M\n",
        "svd_cond(M)"
      ],
      "metadata": {
        "colab": {
          "base_uri": "https://localhost:8080/"
        },
        "id": "deuNqaIWazW2",
        "outputId": "e135706e-fdc1-417c-ae80-81943be8da09"
      },
      "execution_count": 6,
      "outputs": [
        {
          "output_type": "execute_result",
          "data": {
            "text/plain": [
              "131.96440070375357"
            ]
          },
          "metadata": {},
          "execution_count": 6
        }
      ]
    },
    {
      "cell_type": "code",
      "source": [
        "# Test RQI with 1e-4\n",
        "result = RQI(M, mu, 1e-4, 100)\n",
        "print('Eigenvalue:', result[0])\n",
        "print('Eigenvector:', result[1])\n",
        "print('Iterations:', result[2])\n",
        "print('Condition Numbers:', result[3])"
      ],
      "metadata": {
        "colab": {
          "base_uri": "https://localhost:8080/"
        },
        "id": "GJqllrAe5cIx",
        "outputId": "793e411d-49c7-42ae-a9c1-f161b6aec3eb"
      },
      "execution_count": 7,
      "outputs": [
        {
          "output_type": "stream",
          "name": "stdout",
          "text": [
            "Eigenvalue: (5.025474589702507+0j)\n",
            "Eigenvector: [0.22119493+0.j 0.30972498+0.j 0.42436866+0.j 0.33219821+0.j\n",
            " 0.3328569 +0.j 0.25821013+0.j 0.35579622+0.j 0.26684406+0.j\n",
            " 0.3165328 +0.j 0.29873556+0.j]\n",
            "Iterations: 3\n",
            "Condition Numbers: [2.35403435e+01 4.29622698e+02 1.79531893e+05]\n"
          ]
        }
      ]
    },
    {
      "cell_type": "code",
      "source": [
        "# Test RQIAPP with 1e-4\n",
        "result = RQIAPP(M, mu, 1e-4, 100)\n",
        "print('Eigenvalue:', result[0])\n",
        "print('Eigenvector:', result[1])\n",
        "print('Iterations:', result[2])\n",
        "print('Condition Numbers for (mu)I-M:', result[3])\n",
        "print('Condition Numbers for C:', result[4])\n",
        "print('Desired Condition Numbers:', result[5])"
      ],
      "metadata": {
        "colab": {
          "base_uri": "https://localhost:8080/"
        },
        "id": "_aBnrwNS5kIO",
        "outputId": "53fa14d0-524a-4000-dc2c-311b21ea8bbc"
      },
      "execution_count": 8,
      "outputs": [
        {
          "output_type": "stream",
          "name": "stdout",
          "text": [
            "Eigenvalue: (5.025507421937757+0j)\n",
            "Eigenvector: [0.22123197+0.j 0.30970355+0.j 0.42436493+0.j 0.33220476+0.j\n",
            " 0.33282463+0.j 0.25822789+0.j 0.35577958+0.j 0.26687289+0.j\n",
            " 0.31651825+0.j 0.29875843+0.j]\n",
            "Iterations: 2\n",
            "Condition Numbers for (mu)I-M: [ 23.54034351 424.13710004]\n",
            "Condition Numbers for C: [3.90987845 3.73311799]\n",
            "Desired Condition Numbers: [1.46699314 1.44121348]\n"
          ]
        }
      ]
    },
    {
      "cell_type": "code",
      "source": [
        "# Test RQI with 1e-6\n",
        "result = RQI(M, mu, 1e-6, 100)\n",
        "print('Eigenvalue:', result[0])\n",
        "print('Eigenvector:', result[1])\n",
        "print('Iterations:', result[2])\n",
        "print('Condition Numbers:', result[3])"
      ],
      "metadata": {
        "colab": {
          "base_uri": "https://localhost:8080/"
        },
        "id": "ihQfZRjL7VaV",
        "outputId": "0de44a3c-9662-4026-f47f-7eb78f40687f"
      },
      "execution_count": 9,
      "outputs": [
        {
          "output_type": "stream",
          "name": "stdout",
          "text": [
            "Eigenvalue: (5.0254745894332284+0j)\n",
            "Eigenvector: [0.22119493+0.j 0.30972498+0.j 0.42436866+0.j 0.33219821+0.j\n",
            " 0.3328569 +0.j 0.25821013+0.j 0.35579622+0.j 0.26684406+0.j\n",
            " 0.3165328 +0.j 0.29873555+0.j]\n",
            "Iterations: 4\n",
            "Condition Numbers: [2.35403435e+01 3.14525623e+02 1.01179484e+05 7.89639595e+09]\n"
          ]
        }
      ]
    },
    {
      "cell_type": "code",
      "source": [
        "# Test RQIAPP with 1e-6\n",
        "result = RQIAPP(M, mu, 1e-6, 100)\n",
        "print('Eigenvalue:', result[0])\n",
        "print('Eigenvector:', result[1])\n",
        "print('Iterations:', result[2])\n",
        "print('Condition Numbers:', result[3])\n",
        "print('Condition Numbers for C:', result[4])\n",
        "print('Desired Condition Numbers:', result[5])"
      ],
      "metadata": {
        "colab": {
          "base_uri": "https://localhost:8080/"
        },
        "id": "j7LT8S8V7VNz",
        "outputId": "59d537b4-bd74-4c1a-e3cd-d51333ff620c"
      },
      "execution_count": 10,
      "outputs": [
        {
          "output_type": "stream",
          "name": "stdout",
          "text": [
            "Eigenvalue: (5.025474589433383+0j)\n",
            "Eigenvector: [0.22119493+0.j 0.30972498+0.j 0.42436866+0.j 0.33219821+0.j\n",
            " 0.3328569 +0.j 0.25821013+0.j 0.35579622+0.j 0.26684406+0.j\n",
            " 0.3165328 +0.j 0.29873555+0.j]\n",
            "Iterations: 3\n",
            "Condition Numbers: [2.35403435e+01 2.34432488e+03 5.65076456e+06]\n",
            "Condition Numbers for C: [3.84779717 3.72132295 3.71308823]\n",
            "Desired Condition Numbers: [1.46699314 1.43999469 1.43972585]\n"
          ]
        }
      ]
    },
    {
      "cell_type": "code",
      "source": [
        "# Test RQI with 1e-8\n",
        "result = RQI(M, mu, 1e-8, 100)\n",
        "print('Eigenvalue:', result[0])\n",
        "print('Eigenvector:', result[1])\n",
        "print('Iterations:', result[2])\n",
        "print('Condition Numbers:', result[3])"
      ],
      "metadata": {
        "colab": {
          "base_uri": "https://localhost:8080/"
        },
        "id": "qoSNmUAJ7gnC",
        "outputId": "64d1c81a-a15d-48f6-9366-d6d07e6560d4"
      },
      "execution_count": 11,
      "outputs": [
        {
          "output_type": "stream",
          "name": "stdout",
          "text": [
            "Eigenvalue: None\n",
            "Eigenvector: None\n",
            "Iterations: 100\n",
            "Condition Numbers: [2.35403435e+01 3.40061964e+02 1.37753091e+05 1.40644577e+10\n",
            " 8.78493630e+15 7.98882197e+15 7.98882197e+15 7.98882197e+15\n",
            " 7.98882197e+15 7.98882197e+15 7.98882197e+15 7.98882197e+15\n",
            " 7.98882197e+15 7.98882197e+15 7.98882197e+15 7.98882197e+15\n",
            " 7.98882197e+15 7.98882197e+15 7.98882197e+15 7.98882197e+15\n",
            " 7.98882197e+15 7.98882197e+15 7.98882197e+15 7.98882197e+15\n",
            " 7.98882197e+15 7.98882197e+15 7.98882197e+15 7.98882197e+15\n",
            " 7.98882197e+15 7.98882197e+15 7.98882197e+15 7.98882197e+15\n",
            " 7.98882197e+15 7.98882197e+15 7.98882197e+15 7.98882197e+15\n",
            " 7.98882197e+15 7.98882197e+15 7.98882197e+15 7.98882197e+15\n",
            " 7.98882197e+15 7.98882197e+15 7.98882197e+15 7.98882197e+15\n",
            " 7.98882197e+15 7.98882197e+15 7.98882197e+15 7.98882197e+15\n",
            " 7.98882197e+15 7.98882197e+15 7.98882197e+15 7.98882197e+15\n",
            " 7.98882197e+15 7.98882197e+15 7.98882197e+15 7.98882197e+15\n",
            " 7.98882197e+15 7.98882197e+15 7.98882197e+15 7.98882197e+15\n",
            " 7.98882197e+15 7.98882197e+15 7.98882197e+15 7.98882197e+15\n",
            " 7.98882197e+15 7.98882197e+15 7.98882197e+15 7.98882197e+15\n",
            " 7.98882197e+15 7.98882197e+15 7.98882197e+15 7.98882197e+15\n",
            " 7.98882197e+15 7.98882197e+15 7.98882197e+15 7.98882197e+15\n",
            " 7.98882197e+15 7.98882197e+15 7.98882197e+15 7.98882197e+15\n",
            " 7.98882197e+15 7.98882197e+15 7.98882197e+15 7.98882197e+15\n",
            " 7.98882197e+15 7.98882197e+15 7.98882197e+15 7.98882197e+15\n",
            " 7.98882197e+15 7.98882197e+15 7.98882197e+15 7.98882197e+15\n",
            " 7.98882197e+15 7.98882197e+15 7.98882197e+15 7.98882197e+15\n",
            " 7.98882197e+15 7.98882197e+15 7.98882197e+15 7.98882197e+15]\n"
          ]
        }
      ]
    },
    {
      "cell_type": "code",
      "source": [
        "# Test RQIAPP with 1e-8\n",
        "result = RQIAPP(M, mu, 1e-8, 100)\n",
        "print('Eigenvalue:', result[0])\n",
        "print('Eigenvector:', result[1])\n",
        "print('Iterations:', result[2])\n",
        "print('Condition Numbers:', result[3])\n",
        "print('Condition Numbers for C:', result[4])\n",
        "print('Desired Condition Numbers:', result[5])"
      ],
      "metadata": {
        "colab": {
          "base_uri": "https://localhost:8080/"
        },
        "id": "639AFhEd7gZ4",
        "outputId": "de444a4f-f7e4-4747-f876-ecc804765280"
      },
      "execution_count": 12,
      "outputs": [
        {
          "output_type": "stream",
          "name": "stdout",
          "text": [
            "Eigenvalue: (5.025474589477287+0j)\n",
            "Eigenvector: [0.22119493+0.j 0.30972498+0.j 0.42436866+0.j 0.33219821+0.j\n",
            " 0.3328569 +0.j 0.25821013+0.j 0.35579622+0.j 0.26684406+0.j\n",
            " 0.3165328 +0.j 0.29873555+0.j]\n",
            "Iterations: 3\n",
            "Condition Numbers: [2.35403435e+01 6.27540250e+02 4.30573352e+05]\n",
            "Condition Numbers for C: [4.01145756 3.76670915 3.76542456]\n",
            "Desired Condition Numbers: [1.46699314 1.44073094 1.43972428]\n"
          ]
        }
      ]
    },
    {
      "cell_type": "code",
      "source": [
        "# Print actual eigenvalue/eigenvector\n",
        "print(vals[0], vecs[:,0])"
      ],
      "metadata": {
        "colab": {
          "base_uri": "https://localhost:8080/"
        },
        "id": "9kwLV9JE5rs_",
        "outputId": "27a23534-abbb-438d-e05d-7dd542d4e19c"
      },
      "execution_count": 13,
      "outputs": [
        {
          "output_type": "stream",
          "name": "stdout",
          "text": [
            "(5.025474589433224+0j) [0.22119493+0.j 0.30972498+0.j 0.42436866+0.j 0.33219821+0.j\n",
            " 0.3328569 +0.j 0.25821013+0.j 0.35579622+0.j 0.26684406+0.j\n",
            " 0.3165328 +0.j 0.29873555+0.j]\n"
          ]
        }
      ]
    }
  ]
}