{
  "nbformat": 4,
  "nbformat_minor": 0,
  "metadata": {
    "colab": {
      "provenance": [],
      "authorship_tag": "ABX9TyOiqoP3UBXleg32fl/akXLq",
      "include_colab_link": true
    },
    "kernelspec": {
      "name": "python3",
      "display_name": "Python 3"
    },
    "language_info": {
      "name": "python"
    }
  },
  "cells": [
    {
      "cell_type": "markdown",
      "metadata": {
        "id": "view-in-github",
        "colab_type": "text"
      },
      "source": [
        "<a href=\"https://colab.research.google.com/github/thedavidneufeld/ResearchCode/blob/main/RQI_Comparison.ipynb\" target=\"_parent\"><img src=\"https://colab.research.google.com/assets/colab-badge.svg\" alt=\"Open In Colab\"/></a>"
      ]
    },
    {
      "cell_type": "markdown",
      "source": [
        "**Imports**"
      ],
      "metadata": {
        "id": "aw5k180W2P77"
      }
    },
    {
      "cell_type": "code",
      "execution_count": 1,
      "metadata": {
        "id": "VzNKJLwa2Bi2"
      },
      "outputs": [],
      "source": [
        "import numpy as np"
      ]
    },
    {
      "cell_type": "markdown",
      "source": [
        "**Helper Functions**"
      ],
      "metadata": {
        "id": "7OBLsr6V6JBr"
      }
    },
    {
      "cell_type": "code",
      "source": [
        "# given an approximate eigenvalue (mu) and a matrix M\n",
        "# returns (mu)*I-M\n",
        "def A(mu, M):\n",
        "    I = np.eye(M.shape[0])\n",
        "    return mu*I-M\n",
        "\n",
        "# calculates and returns the conditon number of M\n",
        "# based on sigma_1/sigma_n\n",
        "def svd_cond(M):\n",
        "    SVD = np.linalg.svd(M)\n",
        "    return SVD[1][0]/SVD[1][-1]\n",
        "\n",
        "# calculates and returns sigma_1/sigma_{n-1}\n",
        "def svd_desired_cond(M):\n",
        "    SVD = np.linalg.svd(M)\n",
        "    return SVD[1][0]/SVD[1][-2]\n",
        "\n",
        "# calculates a preconditioned matrix C based on\n",
        "# an approximate eigenvalue (mu), a matrix M, and vectors\n",
        "# y and v\n",
        "# returns C\n",
        "def f(mu, M, y, v):\n",
        "    # convert y and v to column vectors\n",
        "    Y = y[:, np.newaxis]\n",
        "    V = v[:, np.newaxis]\n",
        "    # calculate (mu)*I-M\n",
        "    A1 = A(mu, M)\n",
        "    # calculate ((mu)*I-M)/||((mu)*I-M)||+YV^H\n",
        "    C = A1/np.linalg.norm(A1, 2) + np.dot(Y, V.T.conj())\n",
        "    # return C\n",
        "    return C"
      ],
      "metadata": {
        "id": "gVWhJ5yq2-1Z"
      },
      "execution_count": 2,
      "outputs": []
    },
    {
      "cell_type": "markdown",
      "source": [
        "**RQI Algorithm**"
      ],
      "metadata": {
        "id": "hqv_9Dvt2Zh8"
      }
    },
    {
      "cell_type": "code",
      "source": [
        "# based on a close approximation of an eigenvalue of M (mu)\n",
        "# returns the corresponding eigenvector as well as the correct eigenvalue\n",
        "# takes in a matrix M, eigenvalue approximation mu\n",
        "# tolerance ep, and a max number of iterations it\n",
        "def RQI(M, mu, ep, it):\n",
        "    # create a random vector with norm of 1\n",
        "    # vector needs to be compatible with M\n",
        "    y = np.random.rand(M.shape[0])\n",
        "    y = y/np.linalg.norm(y)\n",
        "    # track condition number of (mu)I-M through iterations\n",
        "    conds = np.empty(0)\n",
        "    # repeat until stop condition is met\n",
        "    # or until the maximum number of iterations is reached\n",
        "    for i in range(1, it+1):\n",
        "        # calculate (mu)I-M\n",
        "        muI_M = A(mu, M)\n",
        "        # calculate the condition number of (mu)I-M\n",
        "        conds = np.append(conds, svd_cond(muI_M))\n",
        "        # solve the system ((mu)I-M)x=y\n",
        "        x = np.linalg.solve(muI_M, y)\n",
        "        # update y with a normalized x\n",
        "        y = x/np.linalg.norm(x)\n",
        "        # update mu with (x^T)Mx\n",
        "        mu = np.dot(np.dot(y.T, M), y)\n",
        "        # if ||Mx-(mu)x|| <= ep*||M||, then return mu, y, i, and conds\n",
        "        if np.linalg.norm(np.dot(M, x)-mu*x, 2) <= ep*np.linalg.norm(M, 2):\n",
        "            return mu, y, i, conds\n",
        "    # if max iterations has been surpassed, return None values,\n",
        "    # the number of iterations, and conds\n",
        "    return None, None, it, conds\n"
      ],
      "metadata": {
        "id": "apO5fW_L2ZQz"
      },
      "execution_count": 3,
      "outputs": []
    },
    {
      "cell_type": "markdown",
      "source": [
        "**RQI Algorithm with Additive Preconditioning**"
      ],
      "metadata": {
        "id": "iCP5yNCk2oLu"
      }
    },
    {
      "cell_type": "code",
      "source": [
        "# based on a close approximation of an eigenvalue of M (mu)\n",
        "# returns the corresponding eigenvector as well as the correct eigenvalue\n",
        "# takes in a matrix M, eigenvalue approximation mu\n",
        "# tolerance ep, and a max number of iterations it\n",
        "#\n",
        "# similar to regular RQI, but uses additive preprocessing\n",
        "def RQIAPP(M, mu, ep, it):\n",
        "    # create two random vectors with norm of 1\n",
        "    # vectors need to be compatible with M\n",
        "    y = np.random.rand(M.shape[0])\n",
        "    y = y/np.linalg.norm(y)\n",
        "    v = np.random.rand(M.shape[0])\n",
        "    v = v/np.linalg.norm(v)\n",
        "    # track condition number of (mu)I-M, C, and the desired condition number\n",
        "    conds = np.empty(0)\n",
        "    conds_C = np.empty(0)\n",
        "    conds_desired = np.empty(0)\n",
        "    # repeat until stop condition is met\n",
        "    # or until the maximum number of iterations is reached\n",
        "    for i in range(1, it+1):\n",
        "        # calculate (mu)I-M\n",
        "        muI_M = A(mu, M)\n",
        "        # calculate C\n",
        "        C = f(mu, M, y, v)\n",
        "        # calculate the condition numbers\n",
        "        conds = np.append(conds, svd_cond(muI_M))\n",
        "        conds_C = np.append(conds_C, svd_cond(C))\n",
        "        conds_desired = np.append(conds_desired, svd_desired_cond(muI_M))\n",
        "        # solve the system Cx=y\n",
        "        x = np.linalg.solve(C, y)\n",
        "        # update y with a normalized x\n",
        "        y = x/np.linalg.norm(x)\n",
        "        # update mu with (y^T)My\n",
        "        mu = np.dot(np.dot(y.T, M), y)\n",
        "        # if ||Mx-(mu)x|| <= ep*||M||, then return mu, y, i, and conds\n",
        "        if np.linalg.norm(np.dot(M, x)-mu*x, 2) <= ep*np.linalg.norm(M, 2):\n",
        "            return mu, y, i, conds, conds_C, conds_desired\n",
        "    # if max iterations has been surpassed, return None values,\n",
        "    # the number of iterations, and conds\n",
        "    return None, None, it, conds, conds_C, conds_desired"
      ],
      "metadata": {
        "id": "VpEMEwaW2uo0"
      },
      "execution_count": 4,
      "outputs": []
    },
    {
      "cell_type": "markdown",
      "source": [
        "**Test and Compare Algorithms**"
      ],
      "metadata": {
        "id": "Od-c92SJ5CDB"
      }
    },
    {
      "cell_type": "code",
      "source": [
        "# Setup\n",
        "\n",
        "# create a random matrix M\n",
        "M = np.random.rand(100, 100)\n",
        "# calculate the eigenvalues/eigenvectors of M\n",
        "vals, vecs = np.linalg.eig(M)\n",
        "# extract the first eigenvalue of M and subtract\n",
        "# a small value to make it an approximation\n",
        "mu = vals[0]-0.25"
      ],
      "metadata": {
        "id": "BmJkK6EO5FFr"
      },
      "execution_count": 5,
      "outputs": []
    },
    {
      "cell_type": "code",
      "source": [
        "# Print condition number of M\n",
        "svd_cond(M)"
      ],
      "metadata": {
        "colab": {
          "base_uri": "https://localhost:8080/"
        },
        "id": "deuNqaIWazW2",
        "outputId": "0fda0ff2-d049-4934-f36a-959ac90605da"
      },
      "execution_count": 6,
      "outputs": [
        {
          "output_type": "execute_result",
          "data": {
            "text/plain": [
              "1881.81440458731"
            ]
          },
          "metadata": {},
          "execution_count": 6
        }
      ]
    },
    {
      "cell_type": "code",
      "source": [
        "# Test RQI with 1e-4\n",
        "result = RQI(M, mu, 1e-4, 100)\n",
        "print('Eigenvalue:', result[0])\n",
        "print('Eigenvector:', result[1])\n",
        "print('Iterations:', result[2])\n",
        "print('Condition Numbers:', result[3])"
      ],
      "metadata": {
        "colab": {
          "base_uri": "https://localhost:8080/"
        },
        "id": "GJqllrAe5cIx",
        "outputId": "1f3da342-ce2e-4cc5-98ca-ecff5b56752c"
      },
      "execution_count": 7,
      "outputs": [
        {
          "output_type": "stream",
          "name": "stdout",
          "text": [
            "Eigenvalue: (49.83826642956268+0j)\n",
            "Eigenvector: [0.09550871+0.j 0.10338972+0.j 0.09767328+0.j 0.09968595+0.j\n",
            " 0.10344816+0.j 0.10123636+0.j 0.09808322+0.j 0.10422956+0.j\n",
            " 0.10085886+0.j 0.09693695+0.j 0.10004665+0.j 0.09993394+0.j\n",
            " 0.10008715+0.j 0.09407992+0.j 0.10323379+0.j 0.09513032+0.j\n",
            " 0.09957522+0.j 0.09707391+0.j 0.09453099+0.j 0.10903108+0.j\n",
            " 0.0890976 +0.j 0.10702368+0.j 0.10955024+0.j 0.09263746+0.j\n",
            " 0.11312551+0.j 0.09863057+0.j 0.10169131+0.j 0.1039357 +0.j\n",
            " 0.0873236 +0.j 0.09470451+0.j 0.09873802+0.j 0.10854135+0.j\n",
            " 0.10494186+0.j 0.10126689+0.j 0.10181169+0.j 0.09940483+0.j\n",
            " 0.09636203+0.j 0.09995023+0.j 0.09126764+0.j 0.11414029+0.j\n",
            " 0.10043883+0.j 0.10341104+0.j 0.09581323+0.j 0.09970896+0.j\n",
            " 0.09818493+0.j 0.09816776+0.j 0.09204125+0.j 0.10046363+0.j\n",
            " 0.10267228+0.j 0.09303735+0.j 0.10462168+0.j 0.10536937+0.j\n",
            " 0.10263202+0.j 0.10174593+0.j 0.10459266+0.j 0.09712412+0.j\n",
            " 0.09947651+0.j 0.09179901+0.j 0.10769462+0.j 0.10912235+0.j\n",
            " 0.09876485+0.j 0.10464538+0.j 0.09622095+0.j 0.09908714+0.j\n",
            " 0.09957421+0.j 0.10048271+0.j 0.10843243+0.j 0.09816882+0.j\n",
            " 0.09961135+0.j 0.09748505+0.j 0.10711644+0.j 0.09513942+0.j\n",
            " 0.09600657+0.j 0.09780198+0.j 0.09681022+0.j 0.1031239 +0.j\n",
            " 0.09895396+0.j 0.09627268+0.j 0.09431815+0.j 0.11089344+0.j\n",
            " 0.09878333+0.j 0.09332066+0.j 0.09052941+0.j 0.08822017+0.j\n",
            " 0.10017486+0.j 0.10543432+0.j 0.09699519+0.j 0.10219257+0.j\n",
            " 0.09818708+0.j 0.10572043+0.j 0.1068566 +0.j 0.10752677+0.j\n",
            " 0.10293439+0.j 0.09885986+0.j 0.10277209+0.j 0.08655706+0.j\n",
            " 0.10143236+0.j 0.09631716+0.j 0.09478885+0.j 0.0926068 +0.j]\n",
            "Iterations: 2\n",
            "Condition Numbers: [   214.86617262 121402.92555697]\n"
          ]
        }
      ]
    },
    {
      "cell_type": "code",
      "source": [
        "# Test RQIAPP with 1e-4\n",
        "result = RQIAPP(M, mu, 1e-4, 100)\n",
        "print('Eigenvalue:', result[0])\n",
        "print('Eigenvector:', result[1])\n",
        "print('Iterations:', result[2])\n",
        "print('Condition Numbers for (mu)I-M:', result[3])\n",
        "print('Condition Numbers for C:', result[4])\n",
        "print('Desired Condition Numbers:', result[5])"
      ],
      "metadata": {
        "colab": {
          "base_uri": "https://localhost:8080/"
        },
        "id": "_aBnrwNS5kIO",
        "outputId": "c1acb2ef-3e09-4140-cbf1-411c99fb2c72"
      },
      "execution_count": 8,
      "outputs": [
        {
          "output_type": "stream",
          "name": "stdout",
          "text": [
            "Eigenvalue: (49.83826642714531+0j)\n",
            "Eigenvector: [0.09550871+0.j 0.10338972+0.j 0.09767328+0.j 0.09968595+0.j\n",
            " 0.10344816+0.j 0.10123637+0.j 0.09808322+0.j 0.10422956+0.j\n",
            " 0.10085886+0.j 0.09693695+0.j 0.10004665+0.j 0.09993394+0.j\n",
            " 0.10008716+0.j 0.09407992+0.j 0.10323379+0.j 0.09513032+0.j\n",
            " 0.09957521+0.j 0.09707391+0.j 0.094531  +0.j 0.10903108+0.j\n",
            " 0.0890976 +0.j 0.10702367+0.j 0.10955025+0.j 0.09263746+0.j\n",
            " 0.11312551+0.j 0.09863057+0.j 0.10169132+0.j 0.1039357 +0.j\n",
            " 0.08732361+0.j 0.09470451+0.j 0.09873801+0.j 0.10854135+0.j\n",
            " 0.10494186+0.j 0.10126689+0.j 0.10181169+0.j 0.09940484+0.j\n",
            " 0.09636202+0.j 0.09995023+0.j 0.09126765+0.j 0.1141403 +0.j\n",
            " 0.10043883+0.j 0.10341103+0.j 0.09581322+0.j 0.09970896+0.j\n",
            " 0.09818492+0.j 0.09816775+0.j 0.09204125+0.j 0.10046363+0.j\n",
            " 0.10267228+0.j 0.09303735+0.j 0.10462168+0.j 0.10536937+0.j\n",
            " 0.10263202+0.j 0.10174593+0.j 0.10459266+0.j 0.09712412+0.j\n",
            " 0.09947651+0.j 0.091799  +0.j 0.10769462+0.j 0.10912235+0.j\n",
            " 0.09876486+0.j 0.10464538+0.j 0.09622094+0.j 0.09908714+0.j\n",
            " 0.09957421+0.j 0.10048271+0.j 0.10843244+0.j 0.09816883+0.j\n",
            " 0.09961135+0.j 0.09748505+0.j 0.10711643+0.j 0.09513942+0.j\n",
            " 0.09600657+0.j 0.09780198+0.j 0.09681023+0.j 0.1031239 +0.j\n",
            " 0.09895396+0.j 0.09627268+0.j 0.09431815+0.j 0.11089344+0.j\n",
            " 0.09878334+0.j 0.09332067+0.j 0.09052941+0.j 0.08822017+0.j\n",
            " 0.10017486+0.j 0.10543432+0.j 0.09699519+0.j 0.10219257+0.j\n",
            " 0.09818708+0.j 0.10572044+0.j 0.1068566 +0.j 0.10752677+0.j\n",
            " 0.10293439+0.j 0.09885986+0.j 0.1027721 +0.j 0.08655706+0.j\n",
            " 0.10143236+0.j 0.09631716+0.j 0.09478885+0.j 0.0926068 +0.j]\n",
            "Iterations: 2\n",
            "Condition Numbers for (mu)I-M: [2.14866173e+02 3.15532456e+05]\n",
            "Condition Numbers for C: [2.15443093 1.70916931]\n",
            "Desired Condition Numbers: [1.17227364 1.17133631]\n"
          ]
        }
      ]
    },
    {
      "cell_type": "code",
      "source": [
        "# Test RQI with 1e-6\n",
        "result = RQI(M, mu, 1e-6, 100)\n",
        "print('Eigenvalue:', result[0])\n",
        "print('Eigenvector:', result[1])\n",
        "print('Iterations:', result[2])\n",
        "print('Condition Numbers:', result[3])"
      ],
      "metadata": {
        "colab": {
          "base_uri": "https://localhost:8080/"
        },
        "id": "ihQfZRjL7VaV",
        "outputId": "5f795ff9-0753-4612-d864-450ee53e3ef1"
      },
      "execution_count": 9,
      "outputs": [
        {
          "output_type": "stream",
          "name": "stdout",
          "text": [
            "Eigenvalue: (49.838266428418+0j)\n",
            "Eigenvector: [0.09550871+0.j 0.10338972+0.j 0.09767328+0.j 0.09968594+0.j\n",
            " 0.10344816+0.j 0.10123636+0.j 0.09808322+0.j 0.10422956+0.j\n",
            " 0.10085886+0.j 0.09693695+0.j 0.10004665+0.j 0.09993394+0.j\n",
            " 0.10008715+0.j 0.09407992+0.j 0.10323378+0.j 0.09513031+0.j\n",
            " 0.09957521+0.j 0.09707391+0.j 0.09453099+0.j 0.10903108+0.j\n",
            " 0.0890976 +0.j 0.10702368+0.j 0.10955025+0.j 0.09263746+0.j\n",
            " 0.11312551+0.j 0.09863057+0.j 0.10169131+0.j 0.1039357 +0.j\n",
            " 0.08732361+0.j 0.09470451+0.j 0.09873801+0.j 0.10854135+0.j\n",
            " 0.10494186+0.j 0.10126689+0.j 0.10181169+0.j 0.09940484+0.j\n",
            " 0.09636202+0.j 0.09995023+0.j 0.09126765+0.j 0.1141403 +0.j\n",
            " 0.10043883+0.j 0.10341103+0.j 0.09581322+0.j 0.09970896+0.j\n",
            " 0.09818492+0.j 0.09816775+0.j 0.09204125+0.j 0.10046363+0.j\n",
            " 0.10267228+0.j 0.09303735+0.j 0.10462168+0.j 0.10536937+0.j\n",
            " 0.10263202+0.j 0.10174593+0.j 0.10459266+0.j 0.09712412+0.j\n",
            " 0.09947651+0.j 0.091799  +0.j 0.10769462+0.j 0.10912235+0.j\n",
            " 0.09876486+0.j 0.10464538+0.j 0.09622094+0.j 0.09908714+0.j\n",
            " 0.09957421+0.j 0.10048271+0.j 0.10843244+0.j 0.09816883+0.j\n",
            " 0.09961135+0.j 0.09748505+0.j 0.10711643+0.j 0.09513942+0.j\n",
            " 0.09600657+0.j 0.09780198+0.j 0.09681023+0.j 0.1031239 +0.j\n",
            " 0.09895396+0.j 0.09627268+0.j 0.09431815+0.j 0.11089344+0.j\n",
            " 0.09878334+0.j 0.09332066+0.j 0.09052941+0.j 0.08822017+0.j\n",
            " 0.10017486+0.j 0.10543432+0.j 0.09699519+0.j 0.10219257+0.j\n",
            " 0.09818708+0.j 0.10572044+0.j 0.1068566 +0.j 0.10752677+0.j\n",
            " 0.10293439+0.j 0.09885986+0.j 0.1027721 +0.j 0.08655706+0.j\n",
            " 0.10143236+0.j 0.09631716+0.j 0.09478885+0.j 0.0926068 +0.j]\n",
            "Iterations: 3\n",
            "Condition Numbers: [2.14866173e+02 3.03089197e+04 1.16483121e+09]\n"
          ]
        }
      ]
    },
    {
      "cell_type": "code",
      "source": [
        "# Test RQIAPP with 1e-6\n",
        "result = RQIAPP(M, mu, 1e-6, 100)\n",
        "print('Eigenvalue:', result[0])\n",
        "print('Eigenvector:', result[1])\n",
        "print('Iterations:', result[2])\n",
        "print('Condition Numbers:', result[3])\n",
        "print('Condition Numbers for C:', result[4])\n",
        "print('Desired Condition Numbers:', result[5])"
      ],
      "metadata": {
        "colab": {
          "base_uri": "https://localhost:8080/"
        },
        "id": "j7LT8S8V7VNz",
        "outputId": "954923ce-0cf7-467d-e47c-3e4245a0110d"
      },
      "execution_count": 10,
      "outputs": [
        {
          "output_type": "stream",
          "name": "stdout",
          "text": [
            "Eigenvalue: (49.83826644519515+0j)\n",
            "Eigenvector: [0.09550872+0.j 0.10338971+0.j 0.09767328+0.j 0.09968594+0.j\n",
            " 0.10344816+0.j 0.10123636+0.j 0.09808321+0.j 0.10422955+0.j\n",
            " 0.10085886+0.j 0.09693696+0.j 0.10004664+0.j 0.09993394+0.j\n",
            " 0.10008717+0.j 0.09407992+0.j 0.10323377+0.j 0.09513032+0.j\n",
            " 0.09957522+0.j 0.09707392+0.j 0.09453099+0.j 0.10903109+0.j\n",
            " 0.08909761+0.j 0.10702368+0.j 0.10955024+0.j 0.09263747+0.j\n",
            " 0.11312551+0.j 0.09863056+0.j 0.10169131+0.j 0.10393569+0.j\n",
            " 0.08732361+0.j 0.09470451+0.j 0.09873801+0.j 0.10854136+0.j\n",
            " 0.10494185+0.j 0.1012669 +0.j 0.10181168+0.j 0.09940483+0.j\n",
            " 0.09636202+0.j 0.09995023+0.j 0.09126764+0.j 0.11414029+0.j\n",
            " 0.10043883+0.j 0.10341104+0.j 0.09581323+0.j 0.09970896+0.j\n",
            " 0.09818492+0.j 0.09816774+0.j 0.09204125+0.j 0.10046362+0.j\n",
            " 0.10267228+0.j 0.09303736+0.j 0.10462169+0.j 0.10536937+0.j\n",
            " 0.10263203+0.j 0.10174594+0.j 0.10459266+0.j 0.09712411+0.j\n",
            " 0.0994765 +0.j 0.09179901+0.j 0.10769463+0.j 0.10912234+0.j\n",
            " 0.09876485+0.j 0.10464538+0.j 0.09622094+0.j 0.09908715+0.j\n",
            " 0.09957423+0.j 0.10048272+0.j 0.10843243+0.j 0.09816883+0.j\n",
            " 0.09961135+0.j 0.09748506+0.j 0.10711643+0.j 0.09513941+0.j\n",
            " 0.09600658+0.j 0.09780197+0.j 0.09681022+0.j 0.10312389+0.j\n",
            " 0.09895395+0.j 0.09627269+0.j 0.09431814+0.j 0.11089345+0.j\n",
            " 0.09878333+0.j 0.09332068+0.j 0.09052941+0.j 0.08822016+0.j\n",
            " 0.10017487+0.j 0.10543432+0.j 0.0969952 +0.j 0.10219256+0.j\n",
            " 0.09818707+0.j 0.10572043+0.j 0.1068566 +0.j 0.10752676+0.j\n",
            " 0.10293439+0.j 0.09885987+0.j 0.10277208+0.j 0.08655706+0.j\n",
            " 0.10143236+0.j 0.09631716+0.j 0.09478885+0.j 0.09260681+0.j]\n",
            "Iterations: 2\n",
            "Condition Numbers: [  214.86617262 44518.67630971]\n",
            "Condition Numbers for C: [2.30146413 1.76567208]\n",
            "Desired Condition Numbers: [1.17227364 1.1713402 ]\n"
          ]
        }
      ]
    },
    {
      "cell_type": "code",
      "source": [
        "# Test RQI with 1e-8\n",
        "result = RQI(M, mu, 1e-8, 100)\n",
        "print('Eigenvalue:', result[0])\n",
        "print('Eigenvector:', result[1])\n",
        "print('Iterations:', result[2])\n",
        "print('Condition Numbers:', result[3])"
      ],
      "metadata": {
        "colab": {
          "base_uri": "https://localhost:8080/"
        },
        "id": "qoSNmUAJ7gnC",
        "outputId": "2d5a2ad8-7a82-4d15-db92-c4f7c033e068"
      },
      "execution_count": 11,
      "outputs": [
        {
          "output_type": "stream",
          "name": "stdout",
          "text": [
            "Eigenvalue: None\n",
            "Eigenvector: None\n",
            "Iterations: 100\n",
            "Condition Numbers: [2.14866173e+02 2.78617320e+04 9.23081484e+08 1.69422920e+15\n",
            " 2.93344489e+15 4.99494454e+15 4.99494454e+15 1.20947758e+16\n",
            " 1.20947758e+16 1.20947758e+16 1.20947758e+16 1.20947758e+16\n",
            " 1.20947758e+16 1.20947758e+16 1.20947758e+16 1.20947758e+16\n",
            " 1.20947758e+16 1.20947758e+16 1.20947758e+16 1.20947758e+16\n",
            " 1.20947758e+16 1.20947758e+16 1.20947758e+16 1.20947758e+16\n",
            " 1.20947758e+16 1.20947758e+16 1.20947758e+16 1.20947758e+16\n",
            " 1.20947758e+16 1.20947758e+16 1.20947758e+16 1.20947758e+16\n",
            " 1.20947758e+16 1.20947758e+16 1.20947758e+16 1.20947758e+16\n",
            " 1.20947758e+16 1.20947758e+16 1.20947758e+16 1.20947758e+16\n",
            " 1.20947758e+16 1.20947758e+16 1.20947758e+16 1.20947758e+16\n",
            " 1.20947758e+16 1.20947758e+16 1.20947758e+16 1.20947758e+16\n",
            " 1.20947758e+16 1.20947758e+16 1.20947758e+16 1.20947758e+16\n",
            " 1.20947758e+16 1.20947758e+16 1.20947758e+16 1.20947758e+16\n",
            " 1.20947758e+16 1.20947758e+16 1.20947758e+16 1.20947758e+16\n",
            " 1.20947758e+16 1.20947758e+16 1.20947758e+16 1.20947758e+16\n",
            " 1.20947758e+16 1.20947758e+16 1.20947758e+16 1.20947758e+16\n",
            " 1.20947758e+16 1.20947758e+16 1.20947758e+16 1.20947758e+16\n",
            " 1.20947758e+16 1.20947758e+16 1.20947758e+16 1.20947758e+16\n",
            " 1.20947758e+16 1.20947758e+16 1.20947758e+16 1.20947758e+16\n",
            " 1.20947758e+16 1.20947758e+16 1.20947758e+16 1.20947758e+16\n",
            " 1.20947758e+16 1.20947758e+16 1.20947758e+16 1.20947758e+16\n",
            " 1.20947758e+16 1.20947758e+16 1.20947758e+16 1.20947758e+16\n",
            " 1.20947758e+16 1.20947758e+16 1.20947758e+16 1.20947758e+16\n",
            " 1.20947758e+16 1.20947758e+16 1.20947758e+16 1.20947758e+16]\n"
          ]
        }
      ]
    },
    {
      "cell_type": "code",
      "source": [
        "# Test RQIAPP with 1e-8\n",
        "result = RQIAPP(M, mu, 1e-8, 100)\n",
        "print('Eigenvalue:', result[0])\n",
        "print('Eigenvector:', result[1])\n",
        "print('Iterations:', result[2])\n",
        "print('Condition Numbers:', result[3])\n",
        "print('Condition Numbers for C:', result[4])\n",
        "print('Desired Condition Numbers:', result[5])"
      ],
      "metadata": {
        "colab": {
          "base_uri": "https://localhost:8080/"
        },
        "id": "639AFhEd7gZ4",
        "outputId": "93e34ed6-3237-4050-892f-c79cd0b1a719"
      },
      "execution_count": 12,
      "outputs": [
        {
          "output_type": "stream",
          "name": "stdout",
          "text": [
            "Eigenvalue: (49.838266428417995+0j)\n",
            "Eigenvector: [0.09550871+0.j 0.10338972+0.j 0.09767328+0.j 0.09968594+0.j\n",
            " 0.10344816+0.j 0.10123636+0.j 0.09808322+0.j 0.10422956+0.j\n",
            " 0.10085886+0.j 0.09693695+0.j 0.10004665+0.j 0.09993394+0.j\n",
            " 0.10008715+0.j 0.09407992+0.j 0.10323378+0.j 0.09513031+0.j\n",
            " 0.09957521+0.j 0.09707391+0.j 0.09453099+0.j 0.10903108+0.j\n",
            " 0.0890976 +0.j 0.10702368+0.j 0.10955025+0.j 0.09263746+0.j\n",
            " 0.11312551+0.j 0.09863057+0.j 0.10169131+0.j 0.1039357 +0.j\n",
            " 0.08732361+0.j 0.09470451+0.j 0.09873801+0.j 0.10854135+0.j\n",
            " 0.10494186+0.j 0.10126689+0.j 0.10181169+0.j 0.09940484+0.j\n",
            " 0.09636202+0.j 0.09995023+0.j 0.09126765+0.j 0.1141403 +0.j\n",
            " 0.10043883+0.j 0.10341103+0.j 0.09581322+0.j 0.09970896+0.j\n",
            " 0.09818492+0.j 0.09816775+0.j 0.09204125+0.j 0.10046363+0.j\n",
            " 0.10267228+0.j 0.09303735+0.j 0.10462168+0.j 0.10536937+0.j\n",
            " 0.10263202+0.j 0.10174593+0.j 0.10459266+0.j 0.09712412+0.j\n",
            " 0.09947651+0.j 0.091799  +0.j 0.10769462+0.j 0.10912235+0.j\n",
            " 0.09876486+0.j 0.10464538+0.j 0.09622094+0.j 0.09908714+0.j\n",
            " 0.09957421+0.j 0.10048271+0.j 0.10843244+0.j 0.09816883+0.j\n",
            " 0.09961135+0.j 0.09748505+0.j 0.10711643+0.j 0.09513942+0.j\n",
            " 0.09600657+0.j 0.09780198+0.j 0.09681023+0.j 0.1031239 +0.j\n",
            " 0.09895396+0.j 0.09627268+0.j 0.09431815+0.j 0.11089344+0.j\n",
            " 0.09878334+0.j 0.09332066+0.j 0.09052941+0.j 0.08822017+0.j\n",
            " 0.10017486+0.j 0.10543432+0.j 0.09699519+0.j 0.10219257+0.j\n",
            " 0.09818708+0.j 0.10572044+0.j 0.1068566 +0.j 0.10752677+0.j\n",
            " 0.10293439+0.j 0.09885986+0.j 0.1027721 +0.j 0.08655706+0.j\n",
            " 0.10143236+0.j 0.09631716+0.j 0.09478885+0.j 0.0926068 +0.j]\n",
            "Iterations: 3\n",
            "Condition Numbers: [2.14866173e+02 8.80909406e+04 2.75948516e+10]\n",
            "Condition Numbers for C: [2.07822792 1.80700283 1.80627629]\n",
            "Desired Condition Numbers: [1.17227364 1.17133796 1.17133568]\n"
          ]
        }
      ]
    },
    {
      "cell_type": "code",
      "source": [
        "# Print actual eigenvalue/eigenvector\n",
        "print(vals[0], vecs[:,0])"
      ],
      "metadata": {
        "colab": {
          "base_uri": "https://localhost:8080/"
        },
        "id": "9kwLV9JE5rs_",
        "outputId": "0e68b352-485e-43f8-e251-f15c299cd3b3"
      },
      "execution_count": 13,
      "outputs": [
        {
          "output_type": "stream",
          "name": "stdout",
          "text": [
            "(49.83826642841809+0j) [0.09550871+0.j 0.10338972+0.j 0.09767328+0.j 0.09968594+0.j\n",
            " 0.10344816+0.j 0.10123636+0.j 0.09808322+0.j 0.10422956+0.j\n",
            " 0.10085886+0.j 0.09693695+0.j 0.10004665+0.j 0.09993394+0.j\n",
            " 0.10008715+0.j 0.09407992+0.j 0.10323378+0.j 0.09513031+0.j\n",
            " 0.09957521+0.j 0.09707391+0.j 0.09453099+0.j 0.10903108+0.j\n",
            " 0.0890976 +0.j 0.10702368+0.j 0.10955025+0.j 0.09263746+0.j\n",
            " 0.11312551+0.j 0.09863057+0.j 0.10169131+0.j 0.1039357 +0.j\n",
            " 0.08732361+0.j 0.09470451+0.j 0.09873801+0.j 0.10854135+0.j\n",
            " 0.10494186+0.j 0.10126689+0.j 0.10181169+0.j 0.09940484+0.j\n",
            " 0.09636202+0.j 0.09995023+0.j 0.09126765+0.j 0.1141403 +0.j\n",
            " 0.10043883+0.j 0.10341103+0.j 0.09581322+0.j 0.09970896+0.j\n",
            " 0.09818492+0.j 0.09816775+0.j 0.09204125+0.j 0.10046363+0.j\n",
            " 0.10267228+0.j 0.09303735+0.j 0.10462168+0.j 0.10536937+0.j\n",
            " 0.10263202+0.j 0.10174593+0.j 0.10459266+0.j 0.09712412+0.j\n",
            " 0.09947651+0.j 0.091799  +0.j 0.10769462+0.j 0.10912235+0.j\n",
            " 0.09876486+0.j 0.10464538+0.j 0.09622094+0.j 0.09908714+0.j\n",
            " 0.09957421+0.j 0.10048271+0.j 0.10843244+0.j 0.09816883+0.j\n",
            " 0.09961135+0.j 0.09748505+0.j 0.10711643+0.j 0.09513942+0.j\n",
            " 0.09600657+0.j 0.09780198+0.j 0.09681023+0.j 0.1031239 +0.j\n",
            " 0.09895396+0.j 0.09627268+0.j 0.09431815+0.j 0.11089344+0.j\n",
            " 0.09878334+0.j 0.09332066+0.j 0.09052941+0.j 0.08822017+0.j\n",
            " 0.10017486+0.j 0.10543432+0.j 0.09699519+0.j 0.10219257+0.j\n",
            " 0.09818708+0.j 0.10572044+0.j 0.1068566 +0.j 0.10752677+0.j\n",
            " 0.10293439+0.j 0.09885986+0.j 0.1027721 +0.j 0.08655706+0.j\n",
            " 0.10143236+0.j 0.09631716+0.j 0.09478885+0.j 0.0926068 +0.j]\n"
          ]
        }
      ]
    },
    {
      "cell_type": "code",
      "source": [
        "# Function to run n rounds of RQI and RQIAPP\n",
        "def runRQI(M, mu, ep, it, n):\n",
        "  # Save number of iterations to arrays\n",
        "  its = np.empty(0)\n",
        "  itsAPP = np.empty(0)\n",
        "\n",
        "  # Save condition numbers to arrays\n",
        "  conds = np.empty(0)\n",
        "  condsAPP = np.empty(0)\n",
        "\n",
        "  # Save last condition number of each iteration to arrays\n",
        "  lastConds = np.empty(0)\n",
        "  lastCondsAPP = np.empty(0)\n",
        "\n",
        "  for i in range(n):\n",
        "    RQIData = RQI(M, mu, ep, it)\n",
        "    RQIAPPData = RQIAPP(M, mu, ep, it)\n",
        "\n",
        "    # Save number of iterations required to the appropriate array\n",
        "    its = np.append(its, RQIData[2])\n",
        "    itsAPP = np.append(itsAPP, RQIAPPData[2])\n",
        "\n",
        "    # Save condition numbers to the appropriate array\n",
        "    conds = np.append(conds, RQIData[3])\n",
        "    condsAPP = np.append(condsAPP, RQIAPPData[4])\n",
        "\n",
        "    # Save last condition number to the appropriate array\n",
        "    lastConds = np.append(conds, RQIData[3][-1])\n",
        "    lastCondsAPP = np.append(condsAPP, RQIAPPData[4][-1])\n",
        "\n",
        "  # Print iterations required each round\n",
        "  print('Iterations required each round for RQI:\\n', its)\n",
        "  print('\\nIterations required each round for RQIAPP:\\n', itsAPP)\n",
        "\n",
        "  # Get average iterations required by RQI\n",
        "  index = np.argwhere(its==it)\n",
        "  its = np.delete(its, index)\n",
        "  if its.size==0:\n",
        "    itsAvg = 0\n",
        "  else:\n",
        "    itsAvg = np.average(its)\n",
        "\n",
        "  # Get average condition number for RQI\n",
        "  condsAvg = np.average(conds)\n",
        "\n",
        "  # Get average final condition number for RQI\n",
        "  lastCondsAvg = np.average(lastConds)\n",
        "\n",
        "  # Get average iterations required by RQIAPP\n",
        "  index = np.argwhere(itsAPP==it)\n",
        "  itsAPP = np.delete(itsAPP, index)\n",
        "  if itsAPP.size==0:\n",
        "    itsAPPAvg = 0\n",
        "  else:\n",
        "    itsAPPAvg = np.average(itsAPP)\n",
        "\n",
        "  # Get average condition number for RQIAPP\n",
        "  condsAPPAvg = np.average(condsAPP)\n",
        "\n",
        "  # Get average final condition number for RQI\n",
        "  lastCondsAPPAvg = np.average(lastCondsAPP)\n",
        "\n",
        "  # Print average iterations required and number of errors\n",
        "  print('\\nAverage iterations required for RQI:\\n', itsAvg)\n",
        "  print('\\nAveragee condition number for RQI:\\n', condsAvg)\n",
        "  print('\\nAveragee final condition number for RQI:\\n', lastCondsAvg)\n",
        "  print('\\nPercentage of times RQI converged:\\n', str(its.size/n*100) + '%')\n",
        "  print('\\nAverage iterations required for RQIAPP:\\n', itsAPPAvg)\n",
        "  print('\\nAverage condition number for RQIAPP:\\n', condsAPPAvg)\n",
        "  print('\\nAverage final condition number for RQIAPP:\\n', lastCondsAPPAvg)\n",
        "  print('\\nPercentage of times RQIAPP converged:\\n', str(itsAPP.size/n*100) + '%')"
      ],
      "metadata": {
        "id": "DEXwnnehskpV"
      },
      "execution_count": 14,
      "outputs": []
    },
    {
      "cell_type": "code",
      "source": [
        "# Run 100 rounds with 1e-4\n",
        "runRQI(M, mu, 1e-4, 20, 100)"
      ],
      "metadata": {
        "colab": {
          "base_uri": "https://localhost:8080/"
        },
        "id": "3o9UrthPg7ov",
        "outputId": "0b251ffc-7017-4bc7-8d91-52b63599254c"
      },
      "execution_count": 15,
      "outputs": [
        {
          "output_type": "stream",
          "name": "stdout",
          "text": [
            "Iterations required each round for RQI:\n",
            " [2. 2. 2. 2. 2. 2. 2. 2. 2. 2. 2. 2. 2. 2. 2. 2. 2. 2. 2. 2. 2. 2. 2. 2.\n",
            " 2. 2. 2. 2. 2. 2. 2. 2. 2. 2. 2. 2. 2. 2. 2. 2. 2. 2. 2. 2. 2. 2. 2. 2.\n",
            " 2. 2. 2. 2. 2. 2. 2. 2. 2. 2. 2. 2. 2. 2. 2. 2. 2. 2. 2. 2. 2. 2. 2. 2.\n",
            " 2. 2. 2. 2. 2. 2. 2. 2. 2. 2. 2. 2. 2. 2. 2. 2. 2. 2. 2. 2. 2. 2. 2. 2.\n",
            " 2. 2. 2. 2.]\n",
            "\n",
            "Iterations required each round for RQIAPP:\n",
            " [2. 2. 2. 2. 2. 2. 2. 2. 2. 2. 2. 2. 2. 2. 2. 2. 2. 2. 2. 2. 2. 2. 2. 2.\n",
            " 2. 2. 2. 2. 2. 2. 2. 2. 2. 2. 2. 2. 2. 2. 2. 2. 2. 2. 2. 2. 2. 2. 2. 2.\n",
            " 2. 2. 2. 2. 2. 2. 2. 2. 2. 2. 2. 2. 2. 2. 2. 2. 2. 2. 2. 2. 2. 2. 2. 2.\n",
            " 2. 2. 2. 2. 2. 2. 2. 2. 2. 2. 2. 2. 2. 2. 2. 2. 2. 2. 2. 2. 2. 2. 2. 2.\n",
            " 2. 2. 2. 2.]\n",
            "\n",
            "Average iterations required for RQI:\n",
            " 2.0\n",
            "\n",
            "Averagee condition number for RQI:\n",
            " 75845.94585088894\n",
            "\n",
            "Averagee final condition number for RQI:\n",
            " 75562.65203397314\n",
            "\n",
            "Percentage of times RQI converged:\n",
            " 100.0%\n",
            "\n",
            "Average iterations required for RQIAPP:\n",
            " 2.0\n",
            "\n",
            "Average condition number for RQIAPP:\n",
            " 1.9911023408828203\n",
            "\n",
            "Average final condition number for RQIAPP:\n",
            " 1.989572133091082\n",
            "\n",
            "Percentage of times RQIAPP converged:\n",
            " 100.0%\n"
          ]
        }
      ]
    },
    {
      "cell_type": "code",
      "source": [
        "# Run 100 rounds with 1e-6\n",
        "runRQI(M, mu, 1e-6, 20, 100)"
      ],
      "metadata": {
        "colab": {
          "base_uri": "https://localhost:8080/"
        },
        "id": "MJeFX0p7tPLy",
        "outputId": "8c1c5570-a6eb-4571-e10c-61ea4c1ec83c"
      },
      "execution_count": 16,
      "outputs": [
        {
          "output_type": "stream",
          "name": "stdout",
          "text": [
            "Iterations required each round for RQI:\n",
            " [ 3.  3.  3.  3.  3.  3.  3.  3.  3.  3.  3.  3.  3.  3.  3.  3.  3.  3.\n",
            "  3.  3. 20.  3.  3.  3.  3. 20.  3.  3.  3.  3.  3.  3.  3.  3.  3.  3.\n",
            "  3.  3.  3.  3.  3.  3.  3.  3.  3.  3.  3.  3.  3.  3.  3.  3.  3.  3.\n",
            "  3.  3.  3.  3.  3.  3.  3.  3.  3.  3.  3.  3.  3.  3.  3.  3.  3.  3.\n",
            "  3.  3.  3.  3.  3.  3.  3.  3.  3.  3.  3.  3.  3.  3.  3.  3.  3.  3.\n",
            "  3.  3.  3.  3.  3.  3. 20.  3.  3.  3.]\n",
            "\n",
            "Iterations required each round for RQIAPP:\n",
            " [2. 2. 2. 2. 2. 2. 2. 2. 2. 2. 2. 2. 2. 2. 2. 2. 2. 2. 2. 2. 2. 2. 2. 2.\n",
            " 2. 2. 2. 2. 2. 2. 2. 2. 2. 2. 2. 2. 2. 2. 2. 2. 2. 2. 2. 2. 2. 2. 2. 2.\n",
            " 2. 2. 2. 2. 2. 2. 2. 2. 2. 2. 2. 2. 2. 2. 2. 2. 2. 2. 2. 2. 2. 2. 2. 2.\n",
            " 2. 2. 2. 2. 2. 2. 2. 2. 2. 2. 2. 2. 2. 2. 2. 2. 2. 2. 2. 2. 2. 2. 2. 2.\n",
            " 2. 2. 2. 2.]\n",
            "\n",
            "Average iterations required for RQI:\n",
            " 3.0\n",
            "\n",
            "Averagee condition number for RQI:\n",
            " 1690811255678642.8\n",
            "\n",
            "Averagee final condition number for RQI:\n",
            " 1686007818561170.2\n",
            "\n",
            "Percentage of times RQI converged:\n",
            " 97.0%\n",
            "\n",
            "Average iterations required for RQIAPP:\n",
            " 2.0\n",
            "\n",
            "Average condition number for RQIAPP:\n",
            " 1.9791383128343805\n",
            "\n",
            "Average final condition number for RQIAPP:\n",
            " 1.9779940255231208\n",
            "\n",
            "Percentage of times RQIAPP converged:\n",
            " 100.0%\n"
          ]
        }
      ]
    },
    {
      "cell_type": "code",
      "source": [
        "# Run 100 rounds with 1e-8\n",
        "runRQI(M, mu, 1e-8, 20, 100)"
      ],
      "metadata": {
        "colab": {
          "base_uri": "https://localhost:8080/"
        },
        "id": "J5B39tMTtRo-",
        "outputId": "f37c5f31-9433-4f50-b716-148507602329"
      },
      "execution_count": 17,
      "outputs": [
        {
          "output_type": "stream",
          "name": "stdout",
          "text": [
            "Iterations required each round for RQI:\n",
            " [20.  3. 20.  3.  3. 20. 20.  3. 20. 20. 20. 20. 20. 20. 20. 20.  3. 20.\n",
            " 20.  3. 20. 20. 20. 20. 20. 20.  3. 20.  3. 20.  3. 20.  3. 20. 20. 20.\n",
            " 20. 20. 20. 20. 20.  3. 20.  3. 20. 20.  3. 20.  3.  3. 20. 20. 20. 20.\n",
            " 20. 20. 20. 20.  3. 20. 20. 20. 20. 20. 20.  3. 20.  3.  3. 20. 20. 20.\n",
            " 20. 20. 20. 20.  3. 20. 20. 20. 20.  3. 20.  3. 20. 20.  3. 20.  3. 20.\n",
            " 20.  3. 20. 20.  3. 20.  3.  3. 20. 20.]\n",
            "\n",
            "Iterations required each round for RQIAPP:\n",
            " [3. 2. 2. 3. 3. 3. 3. 3. 3. 3. 3. 2. 3. 3. 3. 3. 3. 3. 3. 3. 3. 3. 3. 3.\n",
            " 3. 3. 2. 3. 3. 3. 3. 3. 3. 2. 3. 3. 3. 3. 3. 2. 3. 3. 3. 2. 3. 3. 3. 3.\n",
            " 3. 3. 3. 3. 3. 3. 3. 3. 3. 3. 3. 3. 2. 3. 2. 3. 3. 3. 2. 3. 3. 3. 3. 3.\n",
            " 3. 3. 3. 3. 3. 3. 3. 2. 3. 3. 3. 3. 3. 3. 3. 3. 3. 3. 3. 3. 2. 2. 3. 3.\n",
            " 3. 3. 3. 3.]\n",
            "\n",
            "Average iterations required for RQI:\n",
            " 3.0\n",
            "\n",
            "Averagee condition number for RQI:\n",
            " 9237526976128248.0\n",
            "\n",
            "Averagee final condition number for RQI:\n",
            " 9239400581913976.0\n",
            "\n",
            "Percentage of times RQI converged:\n",
            " 28.000000000000004%\n",
            "\n",
            "Average iterations required for RQIAPP:\n",
            " 2.87\n",
            "\n",
            "Average condition number for RQIAPP:\n",
            " 1.908900402369387\n",
            "\n",
            "Average final condition number for RQIAPP:\n",
            " 1.9085697456642907\n",
            "\n",
            "Percentage of times RQIAPP converged:\n",
            " 100.0%\n"
          ]
        }
      ]
    },
    {
      "cell_type": "code",
      "source": [
        "# Run 100 rounds with 1e-10\n",
        "runRQI(M, mu, 1e-10, 20, 100)"
      ],
      "metadata": {
        "colab": {
          "base_uri": "https://localhost:8080/"
        },
        "id": "u79xSlBqtnsH",
        "outputId": "0e771d64-36ab-4dc5-8ce5-20dc7b50785a"
      },
      "execution_count": 18,
      "outputs": [
        {
          "output_type": "stream",
          "name": "stdout",
          "text": [
            "Iterations required each round for RQI:\n",
            " [20. 20. 20. 20. 20. 20. 20. 20. 20. 20. 20. 20. 20. 20. 20. 20. 20. 20.\n",
            " 20. 20. 20. 20. 20. 20. 20. 20. 20. 20. 20. 20. 20. 20. 20. 20. 20. 20.\n",
            " 20. 20. 20. 20. 20. 20. 20. 20. 20. 20. 20. 20. 20. 20. 20. 20. 20. 20.\n",
            " 20. 20. 20. 20. 20. 20. 20. 20. 20. 20. 20. 20. 20. 20. 20. 20. 20. 20.\n",
            " 20. 20. 20. 20. 20. 20. 20. 20. 20. 20. 20. 20. 20. 20. 20. 20. 20. 20.\n",
            " 20. 20. 20. 20. 20. 20. 20. 20. 20. 20.]\n",
            "\n",
            "Iterations required each round for RQIAPP:\n",
            " [3. 3. 3. 3. 3. 3. 3. 3. 3. 3. 3. 3. 3. 3. 3. 3. 3. 2. 3. 3. 3. 3. 3. 3.\n",
            " 3. 3. 3. 3. 3. 3. 3. 3. 3. 3. 3. 3. 3. 3. 3. 3. 3. 3. 3. 3. 3. 3. 3. 3.\n",
            " 3. 3. 3. 3. 3. 3. 3. 3. 3. 3. 3. 3. 3. 3. 3. 3. 3. 3. 3. 3. 3. 3. 3. 3.\n",
            " 3. 3. 3. 3. 3. 3. 3. 3. 3. 3. 3. 3. 3. 3. 3. 3. 3. 3. 3. 3. 3. 3. 3. 3.\n",
            " 3. 3. 3. 3.]\n",
            "\n",
            "Average iterations required for RQI:\n",
            " 0\n",
            "\n",
            "Averagee condition number for RQI:\n",
            " 9732951290402578.0\n",
            "\n",
            "Averagee final condition number for RQI:\n",
            " 9734131612496014.0\n",
            "\n",
            "Percentage of times RQI converged:\n",
            " 0.0%\n",
            "\n",
            "Average iterations required for RQIAPP:\n",
            " 2.99\n",
            "\n",
            "Average condition number for RQIAPP:\n",
            " 1.9173334125695811\n",
            "\n",
            "Average final condition number for RQIAPP:\n",
            " 1.9167243431430583\n",
            "\n",
            "Percentage of times RQIAPP converged:\n",
            " 100.0%\n"
          ]
        }
      ]
    }
  ]
}