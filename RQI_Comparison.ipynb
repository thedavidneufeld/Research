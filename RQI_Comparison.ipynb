{
  "nbformat": 4,
  "nbformat_minor": 0,
  "metadata": {
    "colab": {
      "provenance": [],
      "authorship_tag": "ABX9TyMxWnOvdhtOmjtbanD7io82",
      "include_colab_link": true
    },
    "kernelspec": {
      "name": "python3",
      "display_name": "Python 3"
    },
    "language_info": {
      "name": "python"
    }
  },
  "cells": [
    {
      "cell_type": "markdown",
      "metadata": {
        "id": "view-in-github",
        "colab_type": "text"
      },
      "source": [
        "<a href=\"https://colab.research.google.com/github/thedavidneufeld/ResearchCode/blob/main/RQI_Comparison.ipynb\" target=\"_parent\"><img src=\"https://colab.research.google.com/assets/colab-badge.svg\" alt=\"Open In Colab\"/></a>"
      ]
    },
    {
      "cell_type": "markdown",
      "source": [
        "**Imports**"
      ],
      "metadata": {
        "id": "aw5k180W2P77"
      }
    },
    {
      "cell_type": "code",
      "execution_count": null,
      "metadata": {
        "id": "VzNKJLwa2Bi2"
      },
      "outputs": [],
      "source": [
        "import numpy as np"
      ]
    },
    {
      "cell_type": "markdown",
      "source": [
        "**Helper Functions**"
      ],
      "metadata": {
        "id": "7OBLsr6V6JBr"
      }
    },
    {
      "cell_type": "code",
      "source": [
        "# given an approximate eigenvalue (mu) and a matrix M\n",
        "# returns (mu)*I-M\n",
        "def A(mu, M):\n",
        "    I = np.eye(M.shape[0])\n",
        "    return mu*I-M\n",
        "\n",
        "# calculates and returns the conditon number of M\n",
        "# based on sigma_1/sigma_n\n",
        "def svd_cond(M):\n",
        "    SVD = np.linalg.svd(M)\n",
        "    return SVD[1][0]/SVD[1][-1]\n",
        "\n",
        "# calculates and returns sigma_1/sigma_{n-1}\n",
        "def svd_desired_cond(M):\n",
        "    SVD = np.linalg.svd(M)\n",
        "    return SVD[1][0]/SVD[1][-2]\n",
        "\n",
        "# calculates a preconditioned matrix C based on\n",
        "# an approximate eigenvalue (mu), a matrix M, and vectors\n",
        "# y and v\n",
        "# returns C\n",
        "def f(mu, M, y, v):\n",
        "    # convert y and v to column vectors\n",
        "    Y = y[:, np.newaxis]\n",
        "    V = v[:, np.newaxis]\n",
        "    # calculate (mu)*I-M\n",
        "    A1 = A(mu, M)\n",
        "    # calculate ((mu)*I-M)/||((mu)*I-M)||+YV^H\n",
        "    C = A1/np.linalg.norm(A1, 2) + np.dot(Y, V.T.conj())\n",
        "    # return C\n",
        "    return C"
      ],
      "metadata": {
        "id": "gVWhJ5yq2-1Z"
      },
      "execution_count": null,
      "outputs": []
    },
    {
      "cell_type": "markdown",
      "source": [
        "**RQI Algorithm**"
      ],
      "metadata": {
        "id": "hqv_9Dvt2Zh8"
      }
    },
    {
      "cell_type": "code",
      "source": [
        "# based on a close approximation of an eigenvalue of M (mu)\n",
        "# returns the corresponding eigenvector as well as the correct eigenvalue\n",
        "# takes in a matrix M, eigenvalue approximation mu\n",
        "# tolerance ep, and a max number of iterations it\n",
        "def RQI(M, mu, ep, it):\n",
        "    # create a random vector with norm of 1\n",
        "    # vector needs to be compatible with M\n",
        "    y = np.random.rand(M.shape[0])\n",
        "    y = y/np.linalg.norm(y)\n",
        "    # track condition number of (mu)I-M through iterations\n",
        "    conds = np.empty(0)\n",
        "    # repeat until stop condition is met\n",
        "    # or until the maximum number of iterations is reached\n",
        "    for i in range(1, it+1):\n",
        "        # calculate (mu)I-M\n",
        "        muI_M = A(mu, M)\n",
        "        # calculate the condition number of (mu)I-M\n",
        "        conds = np.append(conds, svd_cond(muI_M))\n",
        "        # solve the system ((mu)I-M)x=y\n",
        "        x = np.linalg.solve(muI_M, y)\n",
        "        # update y with a normalized x\n",
        "        y = x/np.linalg.norm(x)\n",
        "        # update mu with (x^T)Mx\n",
        "        mu = np.dot(np.dot(y.T, M), y)\n",
        "        # if ||Mx-(mu)x|| <= ep*||M||, then return mu, y, i, and conds\n",
        "        if np.linalg.norm(np.dot(M, x)-mu*x, 2) <= ep*np.linalg.norm(M, 2):\n",
        "            return mu, y, i, conds\n",
        "    # if max iterations has been surpassed, return None values,\n",
        "    # the number of iterations, and conds\n",
        "    return None, None, it, conds\n"
      ],
      "metadata": {
        "id": "apO5fW_L2ZQz"
      },
      "execution_count": null,
      "outputs": []
    },
    {
      "cell_type": "markdown",
      "source": [
        "**RQI Algorithm with Additive Preconditioning**"
      ],
      "metadata": {
        "id": "iCP5yNCk2oLu"
      }
    },
    {
      "cell_type": "code",
      "source": [
        "# based on a close approximation of an eigenvalue of M (mu)\n",
        "# returns the corresponding eigenvector as well as the correct eigenvalue\n",
        "# takes in a matrix M, eigenvalue approximation mu\n",
        "# tolerance ep, and a max number of iterations it\n",
        "#\n",
        "# similar to regular RQI, but uses additive preprocessing\n",
        "def RQIAPP(M, mu, ep, it):\n",
        "    # create two random vectors with norm of 1\n",
        "    # vectors need to be compatible with M\n",
        "    y = np.random.rand(M.shape[0])\n",
        "    y = y/np.linalg.norm(y)\n",
        "    v = np.random.rand(M.shape[0])\n",
        "    v = v/np.linalg.norm(v)\n",
        "    # track condition number of (mu)I-M, C, and the desired condition number\n",
        "    conds = np.empty(0)\n",
        "    conds_C = np.empty(0)\n",
        "    conds_desired = np.empty(0)\n",
        "    # repeat until stop condition is met\n",
        "    # or until the maximum number of iterations is reached\n",
        "    for i in range(1, it+1):\n",
        "        # calculate (mu)I-M\n",
        "        muI_M = A(mu, M)\n",
        "        # calculate C\n",
        "        C = f(mu, M, y, v)\n",
        "        # calculate the condition numbers\n",
        "        conds = np.append(conds, svd_cond(muI_M))\n",
        "        conds_C = np.append(conds_C, svd_cond(C))\n",
        "        conds_desired = np.append(conds_desired, svd_desired_cond(muI_M))\n",
        "        # solve the system Cx=y\n",
        "        x = np.linalg.solve(C, y)\n",
        "        # update y with a normalized x\n",
        "        y = x/np.linalg.norm(x)\n",
        "        # update mu with (y^T)My\n",
        "        mu = np.dot(np.dot(y.T, M), y)\n",
        "        # if ||Mx-(mu)x|| <= ep*||M||, then return mu, y, i, and conds\n",
        "        if np.linalg.norm(np.dot(M, x)-mu*x, 2) <= ep*np.linalg.norm(M, 2):\n",
        "            return mu, y, i, conds, conds_C, conds_desired\n",
        "    # if max iterations has been surpassed, return None values,\n",
        "    # the number of iterations, and conds\n",
        "    return None, None, it, conds, conds_C, conds_desired"
      ],
      "metadata": {
        "id": "VpEMEwaW2uo0"
      },
      "execution_count": null,
      "outputs": []
    },
    {
      "cell_type": "markdown",
      "source": [
        "**Test and Compare Algorithms**"
      ],
      "metadata": {
        "id": "Od-c92SJ5CDB"
      }
    },
    {
      "cell_type": "code",
      "source": [
        "# Setup\n",
        "\n",
        "# create a random matrix M\n",
        "M = np.random.rand(100, 100)\n",
        "# calculate the eigenvalues/eigenvectors of M\n",
        "vals, vecs = np.linalg.eig(M)\n",
        "# extract the first eigenvalue of M and subtract\n",
        "# a small value to make it an approximation\n",
        "mu = vals[0]-0.25"
      ],
      "metadata": {
        "id": "BmJkK6EO5FFr"
      },
      "execution_count": null,
      "outputs": []
    },
    {
      "cell_type": "code",
      "source": [
        "# Print condition number of M\n",
        "svd_cond(M)"
      ],
      "metadata": {
        "colab": {
          "base_uri": "https://localhost:8080/"
        },
        "id": "deuNqaIWazW2",
        "outputId": "fa12d239-15f3-4bae-d128-a8ae0f2734cd"
      },
      "execution_count": null,
      "outputs": [
        {
          "output_type": "execute_result",
          "data": {
            "text/plain": [
              "8846.596445838837"
            ]
          },
          "metadata": {},
          "execution_count": 6
        }
      ]
    },
    {
      "cell_type": "code",
      "source": [
        "# Test RQI with 1e-4\n",
        "result = RQI(M, mu, 1e-4, 100)\n",
        "print('Eigenvalue:', result[0])\n",
        "print('Eigenvector:', result[1])\n",
        "print('Iterations:', result[2])\n",
        "print('Condition Numbers:', result[3])"
      ],
      "metadata": {
        "colab": {
          "base_uri": "https://localhost:8080/"
        },
        "id": "GJqllrAe5cIx",
        "outputId": "e071be4c-c90a-43c7-c040-a8a65a6f88a5"
      },
      "execution_count": null,
      "outputs": [
        {
          "output_type": "stream",
          "name": "stdout",
          "text": [
            "Eigenvalue: (49.48881551338604+0j)\n",
            "Eigenvector: [0.0883701 +0.j 0.10441201+0.j 0.10975579+0.j 0.1051238 +0.j\n",
            " 0.09593866+0.j 0.09503691+0.j 0.10493568+0.j 0.0979904 +0.j\n",
            " 0.09799768+0.j 0.09722706+0.j 0.09886003+0.j 0.09245574+0.j\n",
            " 0.10143199+0.j 0.09972555+0.j 0.09984458+0.j 0.09052965+0.j\n",
            " 0.08862268+0.j 0.09206534+0.j 0.09732394+0.j 0.11534046+0.j\n",
            " 0.10293405+0.j 0.10598363+0.j 0.0888036 +0.j 0.09633756+0.j\n",
            " 0.10660603+0.j 0.09291242+0.j 0.10249836+0.j 0.10772202+0.j\n",
            " 0.09376061+0.j 0.10160192+0.j 0.1086145 +0.j 0.09839232+0.j\n",
            " 0.0927464 +0.j 0.10433217+0.j 0.10455707+0.j 0.09719659+0.j\n",
            " 0.0938102 +0.j 0.10690811+0.j 0.10017636+0.j 0.09984142+0.j\n",
            " 0.09813852+0.j 0.0975342 +0.j 0.10444276+0.j 0.10495577+0.j\n",
            " 0.0964888 +0.j 0.09819335+0.j 0.10830213+0.j 0.10247659+0.j\n",
            " 0.10436206+0.j 0.09805368+0.j 0.10896403+0.j 0.09926827+0.j\n",
            " 0.0946917 +0.j 0.10575159+0.j 0.09129066+0.j 0.09871293+0.j\n",
            " 0.0963098 +0.j 0.10508999+0.j 0.09243135+0.j 0.08626876+0.j\n",
            " 0.09801795+0.j 0.11475194+0.j 0.09801448+0.j 0.08921969+0.j\n",
            " 0.11123154+0.j 0.08992784+0.j 0.10951598+0.j 0.09393917+0.j\n",
            " 0.09497558+0.j 0.09854579+0.j 0.09062298+0.j 0.10189775+0.j\n",
            " 0.10076169+0.j 0.10914705+0.j 0.09493626+0.j 0.10304295+0.j\n",
            " 0.10063095+0.j 0.09929462+0.j 0.09709484+0.j 0.10461037+0.j\n",
            " 0.09673602+0.j 0.10147374+0.j 0.09836351+0.j 0.10165189+0.j\n",
            " 0.09532163+0.j 0.10188362+0.j 0.09837026+0.j 0.10775112+0.j\n",
            " 0.10626678+0.j 0.09957596+0.j 0.09805724+0.j 0.1024775 +0.j\n",
            " 0.10547144+0.j 0.09811054+0.j 0.10775594+0.j 0.09520771+0.j\n",
            " 0.10005679+0.j 0.09677302+0.j 0.09525608+0.j 0.10502087+0.j]\n",
            "Iterations: 2\n",
            "Condition Numbers: [  213.33070219 57026.61684489]\n"
          ]
        }
      ]
    },
    {
      "cell_type": "code",
      "source": [
        "# Test RQIAPP with 1e-4\n",
        "result = RQIAPP(M, mu, 1e-4, 100)\n",
        "print('Eigenvalue:', result[0])\n",
        "print('Eigenvector:', result[1])\n",
        "print('Iterations:', result[2])\n",
        "print('Condition Numbers for (mu)I-M:', result[3])\n",
        "print('Condition Numbers for C:', result[4])\n",
        "print('Desired Condition Numbers:', result[5])"
      ],
      "metadata": {
        "colab": {
          "base_uri": "https://localhost:8080/"
        },
        "id": "_aBnrwNS5kIO",
        "outputId": "ac386ea9-fe9b-484d-dff4-26c428b09cd6"
      },
      "execution_count": null,
      "outputs": [
        {
          "output_type": "stream",
          "name": "stdout",
          "text": [
            "Eigenvalue: (49.48881550519574+0j)\n",
            "Eigenvector: [0.0883701 +0.j 0.10441202+0.j 0.1097558 +0.j 0.10512379+0.j\n",
            " 0.09593866+0.j 0.09503691+0.j 0.10493568+0.j 0.09799041+0.j\n",
            " 0.09799769+0.j 0.09722706+0.j 0.09886003+0.j 0.09245574+0.j\n",
            " 0.10143198+0.j 0.09972555+0.j 0.09984457+0.j 0.09052966+0.j\n",
            " 0.08862269+0.j 0.09206533+0.j 0.09732394+0.j 0.11534046+0.j\n",
            " 0.10293405+0.j 0.10598363+0.j 0.0888036 +0.j 0.09633755+0.j\n",
            " 0.10660604+0.j 0.09291241+0.j 0.10249837+0.j 0.10772202+0.j\n",
            " 0.09376062+0.j 0.10160192+0.j 0.10861449+0.j 0.09839231+0.j\n",
            " 0.0927464 +0.j 0.10433217+0.j 0.10455707+0.j 0.09719659+0.j\n",
            " 0.09381019+0.j 0.1069081 +0.j 0.10017636+0.j 0.09984142+0.j\n",
            " 0.09813852+0.j 0.09753421+0.j 0.10444277+0.j 0.10495578+0.j\n",
            " 0.0964888 +0.j 0.09819336+0.j 0.10830213+0.j 0.1024766 +0.j\n",
            " 0.10436206+0.j 0.09805368+0.j 0.10896404+0.j 0.09926826+0.j\n",
            " 0.0946917 +0.j 0.10575159+0.j 0.09129067+0.j 0.09871292+0.j\n",
            " 0.09630979+0.j 0.10508999+0.j 0.09243134+0.j 0.08626875+0.j\n",
            " 0.09801796+0.j 0.11475194+0.j 0.09801448+0.j 0.08921969+0.j\n",
            " 0.11123153+0.j 0.08992784+0.j 0.10951599+0.j 0.09393917+0.j\n",
            " 0.09497557+0.j 0.09854579+0.j 0.09062298+0.j 0.10189776+0.j\n",
            " 0.10076169+0.j 0.10914704+0.j 0.09493625+0.j 0.10304296+0.j\n",
            " 0.10063094+0.j 0.09929462+0.j 0.09709483+0.j 0.10461036+0.j\n",
            " 0.09673603+0.j 0.10147375+0.j 0.09836351+0.j 0.1016519 +0.j\n",
            " 0.09532164+0.j 0.10188363+0.j 0.09837025+0.j 0.10775112+0.j\n",
            " 0.10626678+0.j 0.09957596+0.j 0.09805724+0.j 0.10247749+0.j\n",
            " 0.10547144+0.j 0.09811054+0.j 0.10775593+0.j 0.09520772+0.j\n",
            " 0.10005678+0.j 0.09677302+0.j 0.09525609+0.j 0.10502087+0.j]\n",
            "Iterations: 2\n",
            "Condition Numbers for (mu)I-M: [  213.33070219 97355.17943205]\n",
            "Condition Numbers for C: [2.15207809 1.76445836]\n",
            "Desired Condition Numbers: [1.16806496 1.16715114]\n"
          ]
        }
      ]
    },
    {
      "cell_type": "code",
      "source": [
        "# Test RQI with 1e-6\n",
        "result = RQI(M, mu, 1e-6, 100)\n",
        "print('Eigenvalue:', result[0])\n",
        "print('Eigenvector:', result[1])\n",
        "print('Iterations:', result[2])\n",
        "print('Condition Numbers:', result[3])"
      ],
      "metadata": {
        "colab": {
          "base_uri": "https://localhost:8080/"
        },
        "id": "ihQfZRjL7VaV",
        "outputId": "cb1a3662-d800-4fd9-dd55-071b15f7c2d6"
      },
      "execution_count": null,
      "outputs": [
        {
          "output_type": "stream",
          "name": "stdout",
          "text": [
            "Eigenvalue: (49.4888155022093+0j)\n",
            "Eigenvector: [-0.0883701 +0.j -0.10441202+0.j -0.10975579+0.j -0.1051238 +0.j\n",
            " -0.09593866+0.j -0.09503692+0.j -0.10493568+0.j -0.09799041+0.j\n",
            " -0.09799769+0.j -0.09722705+0.j -0.09886004+0.j -0.09245574+0.j\n",
            " -0.10143199+0.j -0.09972556+0.j -0.09984457+0.j -0.09052966+0.j\n",
            " -0.08862269+0.j -0.09206533+0.j -0.09732395+0.j -0.11534046+0.j\n",
            " -0.10293405+0.j -0.10598362+0.j -0.0888036 +0.j -0.09633755+0.j\n",
            " -0.10660604+0.j -0.09291242+0.j -0.10249836+0.j -0.10772202+0.j\n",
            " -0.09376062+0.j -0.10160192+0.j -0.10861449+0.j -0.09839232+0.j\n",
            " -0.0927464 +0.j -0.10433217+0.j -0.10455707+0.j -0.09719658+0.j\n",
            " -0.09381019+0.j -0.1069081 +0.j -0.10017636+0.j -0.09984142+0.j\n",
            " -0.09813852+0.j -0.09753421+0.j -0.10444276+0.j -0.10495578+0.j\n",
            " -0.09648881+0.j -0.09819336+0.j -0.10830213+0.j -0.10247659+0.j\n",
            " -0.10436205+0.j -0.09805367+0.j -0.10896404+0.j -0.09926826+0.j\n",
            " -0.0946917 +0.j -0.10575159+0.j -0.09129067+0.j -0.09871292+0.j\n",
            " -0.0963098 +0.j -0.10508999+0.j -0.09243134+0.j -0.08626875+0.j\n",
            " -0.09801795+0.j -0.11475195+0.j -0.09801448+0.j -0.08921969+0.j\n",
            " -0.11123153+0.j -0.08992784+0.j -0.10951599+0.j -0.09393917+0.j\n",
            " -0.09497557+0.j -0.09854579+0.j -0.09062298+0.j -0.10189775+0.j\n",
            " -0.10076169+0.j -0.10914704+0.j -0.09493625+0.j -0.10304295+0.j\n",
            " -0.10063094+0.j -0.09929461+0.j -0.09709483+0.j -0.10461036+0.j\n",
            " -0.09673603+0.j -0.10147375+0.j -0.09836351+0.j -0.1016519 +0.j\n",
            " -0.09532164+0.j -0.10188362+0.j -0.09837025+0.j -0.10775113+0.j\n",
            " -0.10626678+0.j -0.09957596+0.j -0.09805724+0.j -0.10247749+0.j\n",
            " -0.10547144+0.j -0.09811054+0.j -0.10775593+0.j -0.09520771+0.j\n",
            " -0.10005679+0.j -0.09677302+0.j -0.09525609+0.j -0.10502086+0.j]\n",
            "Iterations: 3\n",
            "Condition Numbers: [2.13330702e+02 1.15309216e+05 4.04824632e+10]\n"
          ]
        }
      ]
    },
    {
      "cell_type": "code",
      "source": [
        "# Test RQIAPP with 1e-6\n",
        "result = RQIAPP(M, mu, 1e-6, 100)\n",
        "print('Eigenvalue:', result[0])\n",
        "print('Eigenvector:', result[1])\n",
        "print('Iterations:', result[2])\n",
        "print('Condition Numbers:', result[3])\n",
        "print('Condition Numbers for C:', result[4])\n",
        "print('Desired Condition Numbers:', result[5])"
      ],
      "metadata": {
        "colab": {
          "base_uri": "https://localhost:8080/"
        },
        "id": "j7LT8S8V7VNz",
        "outputId": "aa8f89b1-8a19-48c1-8328-e85b3e41df93"
      },
      "execution_count": null,
      "outputs": [
        {
          "output_type": "stream",
          "name": "stdout",
          "text": [
            "Eigenvalue: (49.48881554291037+0j)\n",
            "Eigenvector: [0.08837012+0.j 0.10441203+0.j 0.10975581+0.j 0.10512379+0.j\n",
            " 0.09593866+0.j 0.0950369 +0.j 0.10493569+0.j 0.09799041+0.j\n",
            " 0.09799768+0.j 0.09722705+0.j 0.09886002+0.j 0.09245573+0.j\n",
            " 0.101432  +0.j 0.09972556+0.j 0.09984459+0.j 0.09052967+0.j\n",
            " 0.08862269+0.j 0.09206532+0.j 0.09732396+0.j 0.11534046+0.j\n",
            " 0.10293406+0.j 0.10598362+0.j 0.08880361+0.j 0.09633757+0.j\n",
            " 0.10660605+0.j 0.09291242+0.j 0.10249836+0.j 0.10772201+0.j\n",
            " 0.09376061+0.j 0.10160191+0.j 0.10861449+0.j 0.09839231+0.j\n",
            " 0.0927464 +0.j 0.10433217+0.j 0.10455709+0.j 0.09719659+0.j\n",
            " 0.0938102 +0.j 0.10690809+0.j 0.10017636+0.j 0.09984143+0.j\n",
            " 0.09813853+0.j 0.09753421+0.j 0.10444277+0.j 0.10495578+0.j\n",
            " 0.09648881+0.j 0.09819335+0.j 0.10830215+0.j 0.10247659+0.j\n",
            " 0.10436204+0.j 0.09805367+0.j 0.10896404+0.j 0.09926827+0.j\n",
            " 0.09469168+0.j 0.10575157+0.j 0.09129068+0.j 0.09871294+0.j\n",
            " 0.0963098 +0.j 0.10509   +0.j 0.09243133+0.j 0.08626875+0.j\n",
            " 0.09801796+0.j 0.11475194+0.j 0.09801449+0.j 0.08921969+0.j\n",
            " 0.11123151+0.j 0.08992785+0.j 0.10951598+0.j 0.09393915+0.j\n",
            " 0.09497558+0.j 0.09854578+0.j 0.09062297+0.j 0.10189777+0.j\n",
            " 0.10076169+0.j 0.10914703+0.j 0.09493625+0.j 0.10304296+0.j\n",
            " 0.10063094+0.j 0.09929462+0.j 0.09709482+0.j 0.10461036+0.j\n",
            " 0.09673602+0.j 0.10147375+0.j 0.0983635 +0.j 0.1016519 +0.j\n",
            " 0.09532164+0.j 0.10188363+0.j 0.09837025+0.j 0.10775113+0.j\n",
            " 0.10626677+0.j 0.09957597+0.j 0.09805724+0.j 0.1024775 +0.j\n",
            " 0.10547143+0.j 0.09811053+0.j 0.10775593+0.j 0.09520772+0.j\n",
            " 0.1000568 +0.j 0.09677301+0.j 0.09525611+0.j 0.10502085+0.j]\n",
            "Iterations: 2\n",
            "Condition Numbers: [  213.33070219 32079.14342299]\n",
            "Condition Numbers for C: [2.25379831 1.71983425]\n",
            "Desired Condition Numbers: [1.16806496 1.16715522]\n"
          ]
        }
      ]
    },
    {
      "cell_type": "code",
      "source": [
        "# Test RQI with 1e-8\n",
        "result = RQI(M, mu, 1e-8, 100)\n",
        "print('Eigenvalue:', result[0])\n",
        "print('Eigenvector:', result[1])\n",
        "print('Iterations:', result[2])\n",
        "print('Condition Numbers:', result[3])"
      ],
      "metadata": {
        "colab": {
          "base_uri": "https://localhost:8080/"
        },
        "id": "qoSNmUAJ7gnC",
        "outputId": "7365e91f-ebc0-460b-a0e5-57949638e262"
      },
      "execution_count": null,
      "outputs": [
        {
          "output_type": "stream",
          "name": "stdout",
          "text": [
            "Eigenvalue: None\n",
            "Eigenvector: None\n",
            "Iterations: 100\n",
            "Condition Numbers: [2.13330702e+02 5.56337215e+04 4.25728493e+09 5.29705127e+16\n",
            " 5.29705127e+16 5.29705127e+16 5.29705127e+16 5.29705127e+16\n",
            " 5.29705127e+16 5.29705127e+16 5.29705127e+16 5.29705127e+16\n",
            " 5.29705127e+16 5.29705127e+16 5.29705127e+16 5.29705127e+16\n",
            " 5.29705127e+16 5.29705127e+16 5.29705127e+16 5.29705127e+16\n",
            " 5.29705127e+16 5.29705127e+16 5.29705127e+16 5.29705127e+16\n",
            " 5.29705127e+16 5.29705127e+16 5.29705127e+16 5.29705127e+16\n",
            " 5.29705127e+16 5.29705127e+16 5.29705127e+16 5.29705127e+16\n",
            " 5.29705127e+16 5.29705127e+16 5.29705127e+16 5.29705127e+16\n",
            " 5.29705127e+16 5.29705127e+16 5.29705127e+16 5.29705127e+16\n",
            " 5.29705127e+16 5.29705127e+16 5.29705127e+16 5.29705127e+16\n",
            " 5.29705127e+16 5.29705127e+16 5.29705127e+16 5.29705127e+16\n",
            " 5.29705127e+16 5.29705127e+16 5.29705127e+16 5.29705127e+16\n",
            " 5.29705127e+16 5.29705127e+16 5.29705127e+16 5.29705127e+16\n",
            " 5.29705127e+16 5.29705127e+16 5.29705127e+16 5.29705127e+16\n",
            " 5.29705127e+16 5.29705127e+16 5.29705127e+16 5.29705127e+16\n",
            " 5.29705127e+16 5.29705127e+16 5.29705127e+16 5.29705127e+16\n",
            " 5.29705127e+16 5.29705127e+16 5.29705127e+16 5.29705127e+16\n",
            " 5.29705127e+16 5.29705127e+16 5.29705127e+16 5.29705127e+16\n",
            " 5.29705127e+16 5.29705127e+16 5.29705127e+16 5.29705127e+16\n",
            " 5.29705127e+16 5.29705127e+16 5.29705127e+16 5.29705127e+16\n",
            " 5.29705127e+16 5.29705127e+16 5.29705127e+16 5.29705127e+16\n",
            " 5.29705127e+16 5.29705127e+16 5.29705127e+16 5.29705127e+16\n",
            " 5.29705127e+16 5.29705127e+16 5.29705127e+16 5.29705127e+16\n",
            " 5.29705127e+16 5.29705127e+16 5.29705127e+16 5.29705127e+16]\n"
          ]
        }
      ]
    },
    {
      "cell_type": "code",
      "source": [
        "# Test RQIAPP with 1e-8\n",
        "result = RQIAPP(M, mu, 1e-8, 100)\n",
        "print('Eigenvalue:', result[0])\n",
        "print('Eigenvector:', result[1])\n",
        "print('Iterations:', result[2])\n",
        "print('Condition Numbers:', result[3])\n",
        "print('Condition Numbers for C:', result[4])\n",
        "print('Desired Condition Numbers:', result[5])"
      ],
      "metadata": {
        "colab": {
          "base_uri": "https://localhost:8080/"
        },
        "id": "639AFhEd7gZ4",
        "outputId": "24d836a3-d1cd-44df-9608-5db26fe62856"
      },
      "execution_count": null,
      "outputs": [
        {
          "output_type": "stream",
          "name": "stdout",
          "text": [
            "Eigenvalue: (49.4888155022093+0j)\n",
            "Eigenvector: [0.0883701 +0.j 0.10441202+0.j 0.10975579+0.j 0.1051238 +0.j\n",
            " 0.09593866+0.j 0.09503692+0.j 0.10493568+0.j 0.09799041+0.j\n",
            " 0.09799769+0.j 0.09722705+0.j 0.09886004+0.j 0.09245574+0.j\n",
            " 0.10143199+0.j 0.09972556+0.j 0.09984457+0.j 0.09052966+0.j\n",
            " 0.08862269+0.j 0.09206533+0.j 0.09732395+0.j 0.11534046+0.j\n",
            " 0.10293405+0.j 0.10598362+0.j 0.0888036 +0.j 0.09633755+0.j\n",
            " 0.10660604+0.j 0.09291242+0.j 0.10249836+0.j 0.10772202+0.j\n",
            " 0.09376062+0.j 0.10160192+0.j 0.10861449+0.j 0.09839232+0.j\n",
            " 0.0927464 +0.j 0.10433217+0.j 0.10455707+0.j 0.09719658+0.j\n",
            " 0.09381019+0.j 0.1069081 +0.j 0.10017636+0.j 0.09984142+0.j\n",
            " 0.09813852+0.j 0.09753421+0.j 0.10444276+0.j 0.10495578+0.j\n",
            " 0.09648881+0.j 0.09819336+0.j 0.10830213+0.j 0.10247659+0.j\n",
            " 0.10436205+0.j 0.09805367+0.j 0.10896404+0.j 0.09926826+0.j\n",
            " 0.0946917 +0.j 0.10575159+0.j 0.09129067+0.j 0.09871292+0.j\n",
            " 0.0963098 +0.j 0.10508999+0.j 0.09243134+0.j 0.08626875+0.j\n",
            " 0.09801795+0.j 0.11475195+0.j 0.09801448+0.j 0.08921969+0.j\n",
            " 0.11123153+0.j 0.08992784+0.j 0.10951599+0.j 0.09393917+0.j\n",
            " 0.09497557+0.j 0.09854579+0.j 0.09062298+0.j 0.10189775+0.j\n",
            " 0.10076169+0.j 0.10914704+0.j 0.09493625+0.j 0.10304295+0.j\n",
            " 0.10063094+0.j 0.09929461+0.j 0.09709483+0.j 0.10461036+0.j\n",
            " 0.09673603+0.j 0.10147375+0.j 0.09836351+0.j 0.1016519 +0.j\n",
            " 0.09532164+0.j 0.10188362+0.j 0.09837025+0.j 0.10775113+0.j\n",
            " 0.10626678+0.j 0.09957596+0.j 0.09805724+0.j 0.10247749+0.j\n",
            " 0.10547144+0.j 0.09811054+0.j 0.10775593+0.j 0.09520771+0.j\n",
            " 0.10005679+0.j 0.09677302+0.j 0.09525609+0.j 0.10502086+0.j]\n",
            "Iterations: 3\n",
            "Condition Numbers: [2.13330702e+02 4.18734231e+04 2.31595784e+09]\n",
            "Condition Numbers for C: [2.10140436 1.58283767 1.58298579]\n",
            "Desired Condition Numbers: [1.16806496 1.1671538  1.16714914]\n"
          ]
        }
      ]
    },
    {
      "cell_type": "code",
      "source": [
        "# Print actual eigenvalue/eigenvector\n",
        "print(vals[0], vecs[:,0])"
      ],
      "metadata": {
        "colab": {
          "base_uri": "https://localhost:8080/"
        },
        "id": "9kwLV9JE5rs_",
        "outputId": "0b97bdb9-b7b5-4b78-aaa0-3bd4a924ca8f"
      },
      "execution_count": null,
      "outputs": [
        {
          "output_type": "stream",
          "name": "stdout",
          "text": [
            "(49.48881550220932+0j) [-0.0883701 +0.j -0.10441202+0.j -0.10975579+0.j -0.1051238 +0.j\n",
            " -0.09593866+0.j -0.09503692+0.j -0.10493568+0.j -0.09799041+0.j\n",
            " -0.09799769+0.j -0.09722705+0.j -0.09886004+0.j -0.09245574+0.j\n",
            " -0.10143199+0.j -0.09972556+0.j -0.09984457+0.j -0.09052966+0.j\n",
            " -0.08862269+0.j -0.09206533+0.j -0.09732395+0.j -0.11534046+0.j\n",
            " -0.10293405+0.j -0.10598362+0.j -0.0888036 +0.j -0.09633755+0.j\n",
            " -0.10660604+0.j -0.09291242+0.j -0.10249836+0.j -0.10772202+0.j\n",
            " -0.09376062+0.j -0.10160192+0.j -0.10861449+0.j -0.09839232+0.j\n",
            " -0.0927464 +0.j -0.10433217+0.j -0.10455707+0.j -0.09719658+0.j\n",
            " -0.09381019+0.j -0.1069081 +0.j -0.10017636+0.j -0.09984142+0.j\n",
            " -0.09813852+0.j -0.09753421+0.j -0.10444276+0.j -0.10495578+0.j\n",
            " -0.09648881+0.j -0.09819336+0.j -0.10830213+0.j -0.10247659+0.j\n",
            " -0.10436205+0.j -0.09805367+0.j -0.10896404+0.j -0.09926826+0.j\n",
            " -0.0946917 +0.j -0.10575159+0.j -0.09129067+0.j -0.09871292+0.j\n",
            " -0.0963098 +0.j -0.10508999+0.j -0.09243134+0.j -0.08626875+0.j\n",
            " -0.09801795+0.j -0.11475195+0.j -0.09801448+0.j -0.08921969+0.j\n",
            " -0.11123153+0.j -0.08992784+0.j -0.10951599+0.j -0.09393917+0.j\n",
            " -0.09497557+0.j -0.09854579+0.j -0.09062298+0.j -0.10189775+0.j\n",
            " -0.10076169+0.j -0.10914704+0.j -0.09493625+0.j -0.10304295+0.j\n",
            " -0.10063094+0.j -0.09929461+0.j -0.09709483+0.j -0.10461036+0.j\n",
            " -0.09673603+0.j -0.10147375+0.j -0.09836351+0.j -0.1016519 +0.j\n",
            " -0.09532164+0.j -0.10188362+0.j -0.09837025+0.j -0.10775113+0.j\n",
            " -0.10626678+0.j -0.09957596+0.j -0.09805724+0.j -0.10247749+0.j\n",
            " -0.10547144+0.j -0.09811054+0.j -0.10775593+0.j -0.09520771+0.j\n",
            " -0.10005679+0.j -0.09677302+0.j -0.09525609+0.j -0.10502086+0.j]\n"
          ]
        }
      ]
    },
    {
      "cell_type": "code",
      "source": [
        "# Function to run n rounds of RQI and RQIAPP\n",
        "def runRQI(M, mu, ep, it, n):\n",
        "  # Save number of iterations to arrays\n",
        "  its = np.empty(0)\n",
        "  itsAPP = np.empty(0)\n",
        "\n",
        "  for i in range(n):\n",
        "    # Save number of iterations required to the appropriate array\n",
        "    its = np.append(its, RQI(M, mu, ep, it)[2])\n",
        "    itsAPP = np.append(itsAPP, RQIAPP(M, mu, ep, it)[2])\n",
        "\n",
        "  # Print iterations required each round\n",
        "  print('Iterations required each round for RQI:\\n', its)\n",
        "  print('\\nIterations required each round for RQIAPP:\\n', itsAPP)\n",
        "\n",
        "  # Get average iterations required by RQI\n",
        "  index = np.argwhere(its==it)\n",
        "  its = np.delete(its, index)\n",
        "  if its.size==0:\n",
        "    itsAvg = 0\n",
        "  else:\n",
        "    itsAvg = np.average(its)\n",
        "\n",
        "  # Get average iterations required by RQIAPP\n",
        "  index = np.argwhere(itsAPP==it)\n",
        "  itsAPP = np.delete(itsAPP, index)\n",
        "  if itsAPP.size==0:\n",
        "    itsAPPAvg = 0\n",
        "  else:\n",
        "    itsAPPAvg = np.average(itsAPP)\n",
        "\n",
        "  # Print average iterations required and number of errors\n",
        "  print('\\nAverage iterations required for RQI:\\n', itsAvg)\n",
        "  print('\\nPercentage of times RQI converged:\\n', str(its.size/n*100) + '%')\n",
        "  print('\\nAverage iterations required for RQIAPP:\\n', itsAPPAvg)\n",
        "  print('\\nPercentage of times RQIAPP converged:\\n', str(itsAPP.size/n*100) + '%')"
      ],
      "metadata": {
        "id": "DEXwnnehskpV"
      },
      "execution_count": null,
      "outputs": []
    },
    {
      "cell_type": "code",
      "source": [
        "# Run 100 rounds with 1e-4\n",
        "runRQI(M, mu, 1e-4, 20, 100)"
      ],
      "metadata": {
        "colab": {
          "base_uri": "https://localhost:8080/"
        },
        "id": "3o9UrthPg7ov",
        "outputId": "1cc3d7c6-4e03-42b3-ee42-a8f629fc8533"
      },
      "execution_count": null,
      "outputs": [
        {
          "output_type": "stream",
          "name": "stdout",
          "text": [
            "Iterations required each round for RQI:\n",
            " [2. 2. 2. 2. 2. 2. 2. 2. 2. 2. 2. 2. 2. 2. 2. 2. 2. 2. 2. 2. 2. 2. 2. 2.\n",
            " 2. 2. 2. 2. 2. 2. 2. 2. 2. 2. 2. 2. 2. 2. 2. 2. 2. 2. 2. 2. 2. 2. 2. 2.\n",
            " 2. 2. 2. 2. 2. 2. 2. 2. 2. 2. 2. 2. 2. 2. 2. 2. 2. 2. 2. 2. 2. 2. 2. 2.\n",
            " 2. 2. 2. 2. 2. 2. 2. 2. 2. 2. 2. 2. 2. 2. 2. 2. 2. 2. 2. 2. 2. 2. 2. 2.\n",
            " 2. 2. 2. 2.]\n",
            "\n",
            "Iterations required each round for RQIAPP:\n",
            " [2. 2. 2. 2. 2. 2. 2. 2. 2. 2. 2. 2. 2. 2. 2. 2. 2. 2. 2. 2. 2. 2. 2. 2.\n",
            " 2. 2. 2. 2. 2. 2. 2. 2. 2. 2. 2. 2. 2. 2. 2. 2. 2. 2. 2. 2. 2. 2. 2. 2.\n",
            " 2. 2. 2. 2. 2. 2. 2. 2. 2. 2. 2. 2. 2. 2. 2. 2. 2. 2. 2. 2. 2. 2. 2. 2.\n",
            " 2. 2. 2. 2. 2. 2. 2. 2. 2. 2. 2. 2. 2. 2. 2. 2. 2. 2. 2. 2. 2. 2. 2. 2.\n",
            " 2. 2. 2. 2.]\n",
            "\n",
            "Average iterations required for RQI:\n",
            " 2.0\n",
            "\n",
            "Percentage of times RQI converged:\n",
            " 100.0%\n",
            "\n",
            "Average iterations required for RQIAPP:\n",
            " 2.0\n",
            "\n",
            "Percentage of times RQIAPP converged:\n",
            " 100.0%\n"
          ]
        }
      ]
    },
    {
      "cell_type": "code",
      "source": [
        "# Run 100 rounds with 1e-6\n",
        "runRQI(M, mu, 1e-6, 20, 100)"
      ],
      "metadata": {
        "colab": {
          "base_uri": "https://localhost:8080/"
        },
        "id": "MJeFX0p7tPLy",
        "outputId": "88ddc471-c596-480a-c2ff-345a840bd743"
      },
      "execution_count": null,
      "outputs": [
        {
          "output_type": "stream",
          "name": "stdout",
          "text": [
            "Iterations required each round for RQI:\n",
            " [ 3.  3.  3.  3.  3.  3.  3.  3.  3.  3. 20.  3.  3.  3.  3.  3.  3.  3.\n",
            "  3.  3.  3.  3.  3.  3.  3.  3.  3.  3. 20.  3.  3.  3.  3.  3.  3.  3.\n",
            "  3.  3.  3.  3.  3. 20.  3.  3.  3.  3.  3.  3.  3.  3.  3.  3.  3. 20.\n",
            "  3.  3.  3.  3.  3.  3.  3.  3.  3.  3.  3.  3.  3.  3.  3.  3.  3.  3.\n",
            "  3.  3.  3.  3.  3.  3.  3.  3.  3.  3.  3.  3.  3.  3.  3.  3.  3.  3.\n",
            "  3.  3.  3.  3.  3.  3.  3.  3.  3.  3.]\n",
            "\n",
            "Iterations required each round for RQIAPP:\n",
            " [2. 2. 2. 2. 2. 2. 2. 2. 2. 2. 2. 2. 2. 2. 2. 2. 2. 2. 2. 2. 2. 2. 2. 2.\n",
            " 2. 2. 2. 2. 2. 2. 2. 2. 2. 2. 2. 2. 2. 2. 2. 2. 2. 2. 2. 2. 2. 2. 2. 2.\n",
            " 2. 2. 2. 2. 2. 2. 2. 2. 2. 2. 2. 2. 2. 2. 2. 2. 2. 2. 2. 2. 2. 2. 2. 2.\n",
            " 2. 2. 2. 2. 2. 2. 2. 2. 2. 2. 2. 2. 2. 2. 2. 2. 2. 2. 2. 2. 2. 2. 2. 2.\n",
            " 2. 2. 2. 2.]\n",
            "\n",
            "Average iterations required for RQI:\n",
            " 3.0\n",
            "\n",
            "Percentage of times RQI converged:\n",
            " 96.0%\n",
            "\n",
            "Average iterations required for RQIAPP:\n",
            " 2.0\n",
            "\n",
            "Percentage of times RQIAPP converged:\n",
            " 100.0%\n"
          ]
        }
      ]
    },
    {
      "cell_type": "code",
      "source": [
        "# Run 100 rounds with 1e-8\n",
        "runRQI(M, mu, 1e-8, 20, 100)"
      ],
      "metadata": {
        "colab": {
          "base_uri": "https://localhost:8080/"
        },
        "id": "J5B39tMTtRo-",
        "outputId": "6cb3da30-ba8b-49eb-a071-0128bb56ebaa"
      },
      "execution_count": null,
      "outputs": [
        {
          "output_type": "stream",
          "name": "stdout",
          "text": [
            "Iterations required each round for RQI:\n",
            " [ 3. 20.  3.  3. 20. 20. 20.  3. 20.  3.  3. 20.  3. 20. 20.  3.  3. 20.\n",
            "  3. 20. 20.  3.  3.  3. 20. 20. 20. 20. 20.  3. 20. 20.  3. 20. 20.  3.\n",
            " 20. 20.  3.  3. 20. 20. 20.  3.  3. 20. 20. 20.  3.  3.  3. 20.  3.  3.\n",
            "  3.  3. 20.  3. 20.  3. 20. 20. 20. 20.  3.  3. 20.  3. 20.  3. 20.  3.\n",
            "  3.  3. 20.  3.  3.  3. 20. 20. 20.  3.  3.  3. 20. 20. 20. 20. 20. 20.\n",
            "  3. 20.  3. 20. 20. 20.  3.  3. 20. 20.]\n",
            "\n",
            "Iterations required each round for RQIAPP:\n",
            " [3. 3. 3. 3. 3. 3. 3. 3. 3. 3. 3. 3. 3. 3. 3. 3. 3. 3. 3. 3. 3. 3. 3. 3.\n",
            " 3. 3. 3. 3. 2. 3. 3. 3. 3. 3. 3. 3. 3. 3. 3. 3. 3. 3. 3. 3. 3. 3. 3. 3.\n",
            " 3. 3. 3. 3. 3. 2. 3. 3. 3. 3. 3. 3. 3. 3. 3. 3. 3. 3. 3. 3. 3. 3. 2. 3.\n",
            " 3. 3. 3. 3. 3. 3. 3. 3. 3. 3. 3. 3. 3. 3. 3. 3. 3. 3. 3. 3. 3. 3. 3. 3.\n",
            " 3. 3. 2. 3.]\n",
            "\n",
            "Average iterations required for RQI:\n",
            " 3.0\n",
            "\n",
            "Percentage of times RQI converged:\n",
            " 46.0%\n",
            "\n",
            "Average iterations required for RQIAPP:\n",
            " 2.96\n",
            "\n",
            "Percentage of times RQIAPP converged:\n",
            " 100.0%\n"
          ]
        }
      ]
    },
    {
      "cell_type": "code",
      "source": [
        "# Run 100 rounds with 1e-10\n",
        "runRQI(M, mu, 1e-10, 20, 100)"
      ],
      "metadata": {
        "colab": {
          "base_uri": "https://localhost:8080/"
        },
        "id": "u79xSlBqtnsH",
        "outputId": "7181d62f-4ed8-42e3-bc52-809c9382b81a"
      },
      "execution_count": null,
      "outputs": [
        {
          "output_type": "stream",
          "name": "stdout",
          "text": [
            "Iterations required each round for RQI:\n",
            " [20. 20. 20. 20. 20. 20. 20. 20. 20. 20. 20. 20. 20. 20. 20. 20. 20. 20.\n",
            " 20. 20. 20. 20. 20. 20. 20. 20. 20. 20. 20. 20. 20. 20. 20. 20. 20. 20.\n",
            " 20. 20. 20. 20. 20. 20. 20. 20. 20. 20. 20. 20. 20. 20. 20. 20. 20. 20.\n",
            " 20. 20. 20. 20. 20. 20. 20. 20. 20. 20. 20. 20. 20. 20. 20. 20. 20. 20.\n",
            " 20. 20. 20. 20. 20. 20. 20. 20. 20. 20. 20. 20. 20. 20. 20. 20. 20. 20.\n",
            " 20. 20. 20. 20. 20. 20. 20. 20. 20. 20.]\n",
            "\n",
            "Iterations required each round for RQIAPP:\n",
            " [3. 3. 3. 3. 3. 3. 3. 3. 3. 3. 3. 3. 3. 3. 3. 3. 3. 3. 3. 3. 3. 3. 3. 3.\n",
            " 3. 3. 3. 3. 3. 3. 3. 3. 3. 3. 3. 3. 3. 3. 3. 3. 3. 3. 3. 3. 3. 3. 3. 3.\n",
            " 3. 3. 3. 3. 3. 3. 3. 3. 3. 3. 3. 3. 3. 3. 3. 3. 3. 3. 3. 3. 3. 3. 3. 3.\n",
            " 3. 3. 3. 3. 3. 3. 3. 3. 3. 3. 3. 3. 3. 3. 3. 3. 3. 3. 3. 3. 3. 3. 3. 3.\n",
            " 3. 3. 3. 3.]\n",
            "\n",
            "Average iterations required for RQI:\n",
            " 0\n",
            "\n",
            "Percentage of times RQI converged:\n",
            " 0.0%\n",
            "\n",
            "Average iterations required for RQIAPP:\n",
            " 3.0\n",
            "\n",
            "Percentage of times RQIAPP converged:\n",
            " 100.0%\n"
          ]
        }
      ]
    }
  ]
}