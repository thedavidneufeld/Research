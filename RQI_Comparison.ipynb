{
  "nbformat": 4,
  "nbformat_minor": 0,
  "metadata": {
    "colab": {
      "provenance": [],
      "authorship_tag": "ABX9TyMPPj2pGEmiktDUTsrG8A35",
      "include_colab_link": true
    },
    "kernelspec": {
      "name": "python3",
      "display_name": "Python 3"
    },
    "language_info": {
      "name": "python"
    }
  },
  "cells": [
    {
      "cell_type": "markdown",
      "metadata": {
        "id": "view-in-github",
        "colab_type": "text"
      },
      "source": [
        "<a href=\"https://colab.research.google.com/github/thedavidneufeld/ResearchCode/blob/main/RQI_Comparison.ipynb\" target=\"_parent\"><img src=\"https://colab.research.google.com/assets/colab-badge.svg\" alt=\"Open In Colab\"/></a>"
      ]
    },
    {
      "cell_type": "markdown",
      "source": [
        "**Imports**"
      ],
      "metadata": {
        "id": "aw5k180W2P77"
      }
    },
    {
      "cell_type": "code",
      "execution_count": 1,
      "metadata": {
        "id": "VzNKJLwa2Bi2"
      },
      "outputs": [],
      "source": [
        "import numpy as np"
      ]
    },
    {
      "cell_type": "markdown",
      "source": [
        "**Helper Functions**"
      ],
      "metadata": {
        "id": "7OBLsr6V6JBr"
      }
    },
    {
      "cell_type": "code",
      "source": [
        "# given an approximate eigenvalue (mu) and a matrix M\n",
        "# returns (mu)*I-M\n",
        "def A(mu, M):\n",
        "    I = np.eye(M.shape[0])\n",
        "    return mu*I-M\n",
        "\n",
        "# calculates and returns the conditon number of M\n",
        "# based on sigma_1/sigma_n\n",
        "def svd_cond(M):\n",
        "    SVD = np.linalg.svd(M)\n",
        "    return SVD[1][0]/SVD[1][-1]\n",
        "\n",
        "# calculates and returns sigma_1/sigma_{n-1}\n",
        "def svd_desired_cond(M):\n",
        "    SVD = np.linalg.svd(M)\n",
        "    return SVD[1][0]/SVD[1][-2]\n",
        "\n",
        "# calculates a preconditioned matrix C based on\n",
        "# an approximate eigenvalue (mu), a matrix M, and vectors\n",
        "# y and v\n",
        "# returns C\n",
        "def f(mu, M, y, v):\n",
        "    # convert y and v to column vectors\n",
        "    Y = y[:, np.newaxis]\n",
        "    V = v[:, np.newaxis]\n",
        "    # calculate (mu)*I-M\n",
        "    A1 = A(mu, M)\n",
        "    # calculate ((mu)*I-M)/||((mu)*I-M)||+YV^H\n",
        "    C = A1/np.linalg.norm(A1, 2) + np.dot(Y, V.T.conj())\n",
        "    # return C\n",
        "    return C"
      ],
      "metadata": {
        "id": "gVWhJ5yq2-1Z"
      },
      "execution_count": 2,
      "outputs": []
    },
    {
      "cell_type": "markdown",
      "source": [
        "**RQI Algorithm**"
      ],
      "metadata": {
        "id": "hqv_9Dvt2Zh8"
      }
    },
    {
      "cell_type": "code",
      "source": [
        "# based on a close approximation of an eigenvalue of M (mu)\n",
        "# returns the corresponding eigenvector as well as the correct eigenvalue\n",
        "# takes in a matrix M, eigenvalue approximation mu\n",
        "# tolerance ep, and a max number of iterations it\n",
        "def RQI(M, mu, ep, it):\n",
        "    # create a random vector with norm of 1\n",
        "    # vector needs to be compatible with M\n",
        "    y = np.random.rand(M.shape[0])\n",
        "    y = y/np.linalg.norm(y)\n",
        "    # track condition number of (mu)I-M through iterations\n",
        "    conds = np.empty(0)\n",
        "    # repeat until stop condition is met\n",
        "    # or until the maximum number of iterations is reached\n",
        "    for i in range(1, it+1):\n",
        "        # calculate (mu)I-M\n",
        "        muI_M = A(mu, M)\n",
        "        # calculate the condition number of (mu)I-M\n",
        "        conds = np.append(conds, svd_cond(muI_M))\n",
        "        # solve the system ((mu)I-M)x=y\n",
        "        x = np.linalg.solve(muI_M, y)\n",
        "        # update y with a normalized x\n",
        "        y = x/np.linalg.norm(x)\n",
        "        # update mu with (x^T)Mx\n",
        "        mu = np.dot(np.dot(y.T, M), y)\n",
        "        # if ||Mx-(mu)x|| <= ep*||M||, then return mu, y, i, and conds\n",
        "        if np.linalg.norm(np.dot(M, x)-mu*x, 2) <= ep*np.linalg.norm(M, 2):\n",
        "            return mu, y, i, conds\n",
        "    # if max iterations has been surpassed, return None values,\n",
        "    # the number of iterations, and conds\n",
        "    return None, None, it, conds\n"
      ],
      "metadata": {
        "id": "apO5fW_L2ZQz"
      },
      "execution_count": 3,
      "outputs": []
    },
    {
      "cell_type": "markdown",
      "source": [
        "**RQI Algorithm with Additive Preconditioning**"
      ],
      "metadata": {
        "id": "iCP5yNCk2oLu"
      }
    },
    {
      "cell_type": "code",
      "source": [
        "# based on a close approximation of an eigenvalue of M (mu)\n",
        "# returns the corresponding eigenvector as well as the correct eigenvalue\n",
        "# takes in a matrix M, eigenvalue approximation mu\n",
        "# tolerance ep, and a max number of iterations it\n",
        "#\n",
        "# similar to regular RQI, but uses additive preprocessing\n",
        "def RQIAPP(M, mu, ep, it):\n",
        "    # create two random vectors with norm of 1\n",
        "    # vectors need to be compatible with M\n",
        "    y = np.random.rand(M.shape[0])\n",
        "    y = y/np.linalg.norm(y)\n",
        "    v = np.random.rand(M.shape[0])\n",
        "    v = v/np.linalg.norm(v)\n",
        "    # track condition number of (mu)I-M, C, and the desired condition number\n",
        "    conds = np.empty(0)\n",
        "    conds_C = np.empty(0)\n",
        "    conds_desired = np.empty(0)\n",
        "    # repeat until stop condition is met\n",
        "    # or until the maximum number of iterations is reached\n",
        "    for i in range(1, it+1):\n",
        "        # calculate (mu)I-M\n",
        "        muI_M = A(mu, M)\n",
        "        # calculate C\n",
        "        C = f(mu, M, y, v)\n",
        "        # calculate the condition numbers\n",
        "        conds = np.append(conds, svd_cond(muI_M))\n",
        "        conds_C = np.append(conds_C, svd_cond(C))\n",
        "        conds_desired = np.append(conds_desired, svd_desired_cond(muI_M))\n",
        "        # solve the system Cx=y\n",
        "        x = np.linalg.solve(C, y)\n",
        "        # update y with a normalized x\n",
        "        y = x/np.linalg.norm(x)\n",
        "        # update mu with (y^T)My\n",
        "        mu = np.dot(np.dot(y.T, M), y)\n",
        "        # if ||Mx-(mu)x|| <= ep*||M||, then return mu, y, i, and conds\n",
        "        if np.linalg.norm(np.dot(M, x)-mu*x, 2) <= ep*np.linalg.norm(M, 2):\n",
        "            return mu, y, i, conds, conds_C, conds_desired\n",
        "    # if max iterations has been surpassed, return None values,\n",
        "    # the number of iterations, and conds\n",
        "    return None, None, it, conds, conds_C, conds_desired"
      ],
      "metadata": {
        "id": "VpEMEwaW2uo0"
      },
      "execution_count": 4,
      "outputs": []
    },
    {
      "cell_type": "markdown",
      "source": [
        "**Test and Compare Algorithms**"
      ],
      "metadata": {
        "id": "Od-c92SJ5CDB"
      }
    },
    {
      "cell_type": "code",
      "source": [
        "# Setup\n",
        "\n",
        "# create a random matrix M\n",
        "M = np.random.rand(100, 100)\n",
        "# calculate the eigenvalues/eigenvectors of M\n",
        "vals, vecs = np.linalg.eig(M)\n",
        "# extract the first eigenvalue of M and subtract\n",
        "# a small value to make it an approximation\n",
        "mu = vals[0]-0.25"
      ],
      "metadata": {
        "id": "BmJkK6EO5FFr"
      },
      "execution_count": 5,
      "outputs": []
    },
    {
      "cell_type": "code",
      "source": [
        "# Print condition number of M\n",
        "svd_cond(M)"
      ],
      "metadata": {
        "colab": {
          "base_uri": "https://localhost:8080/"
        },
        "id": "deuNqaIWazW2",
        "outputId": "ee64018c-f3f9-407e-d452-9c80b97d24ed"
      },
      "execution_count": 6,
      "outputs": [
        {
          "output_type": "execute_result",
          "data": {
            "text/plain": [
              "2052.8091944870075"
            ]
          },
          "metadata": {},
          "execution_count": 6
        }
      ]
    },
    {
      "cell_type": "code",
      "source": [
        "# Test RQI with 1e-4\n",
        "result = RQI(M, mu, 1e-4, 100)\n",
        "print('Eigenvalue:', result[0])\n",
        "print('Eigenvector:', result[1])\n",
        "print('Iterations:', result[2])\n",
        "print('Condition Numbers:', result[3])"
      ],
      "metadata": {
        "colab": {
          "base_uri": "https://localhost:8080/"
        },
        "id": "GJqllrAe5cIx",
        "outputId": "9478493a-8502-4447-e5b6-a73075c7057c"
      },
      "execution_count": 7,
      "outputs": [
        {
          "output_type": "stream",
          "name": "stdout",
          "text": [
            "Eigenvalue: (49.620148578487346+0j)\n",
            "Eigenvector: [0.09296707+0.j 0.10481125+0.j 0.09983689+0.j 0.09707312+0.j\n",
            " 0.10439354+0.j 0.09794769+0.j 0.10813267+0.j 0.09284345+0.j\n",
            " 0.09431399+0.j 0.10806847+0.j 0.1065417 +0.j 0.10052339+0.j\n",
            " 0.10371857+0.j 0.09771615+0.j 0.09982381+0.j 0.105404  +0.j\n",
            " 0.0997872 +0.j 0.10077501+0.j 0.10123154+0.j 0.09082776+0.j\n",
            " 0.09291646+0.j 0.10478071+0.j 0.09539226+0.j 0.10076079+0.j\n",
            " 0.10211811+0.j 0.10039803+0.j 0.10567802+0.j 0.10773907+0.j\n",
            " 0.10150484+0.j 0.10974688+0.j 0.09615539+0.j 0.10295496+0.j\n",
            " 0.11010318+0.j 0.09221921+0.j 0.09679558+0.j 0.09292483+0.j\n",
            " 0.10536285+0.j 0.09831243+0.j 0.09759013+0.j 0.10336412+0.j\n",
            " 0.09404511+0.j 0.10061831+0.j 0.09375441+0.j 0.10209773+0.j\n",
            " 0.09780708+0.j 0.10253502+0.j 0.0990027 +0.j 0.10020791+0.j\n",
            " 0.11025788+0.j 0.10165613+0.j 0.0968776 +0.j 0.10145509+0.j\n",
            " 0.09507951+0.j 0.0995886 +0.j 0.09666881+0.j 0.10129012+0.j\n",
            " 0.10075344+0.j 0.0963895 +0.j 0.09067847+0.j 0.10220834+0.j\n",
            " 0.10205382+0.j 0.10148665+0.j 0.10394138+0.j 0.10632427+0.j\n",
            " 0.09469653+0.j 0.09922845+0.j 0.10579641+0.j 0.10528598+0.j\n",
            " 0.09952825+0.j 0.10290362+0.j 0.10590627+0.j 0.09531798+0.j\n",
            " 0.08806015+0.j 0.10057538+0.j 0.1096155 +0.j 0.09917334+0.j\n",
            " 0.10118622+0.j 0.09989662+0.j 0.09659049+0.j 0.10732701+0.j\n",
            " 0.0958027 +0.j 0.09228942+0.j 0.09581163+0.j 0.10685703+0.j\n",
            " 0.09849405+0.j 0.09071907+0.j 0.08854039+0.j 0.10276652+0.j\n",
            " 0.09370678+0.j 0.1050609 +0.j 0.09396652+0.j 0.09293574+0.j\n",
            " 0.09629838+0.j 0.10520614+0.j 0.09681971+0.j 0.10203536+0.j\n",
            " 0.10291493+0.j 0.1001911 +0.j 0.09807268+0.j 0.09733745+0.j]\n",
            "Iterations: 2\n",
            "Condition Numbers: [   213.30545187 100502.90714754]\n"
          ]
        }
      ]
    },
    {
      "cell_type": "code",
      "source": [
        "# Test RQIAPP with 1e-4\n",
        "result = RQIAPP(M, mu, 1e-4, 100)\n",
        "print('Eigenvalue:', result[0])\n",
        "print('Eigenvector:', result[1])\n",
        "print('Iterations:', result[2])\n",
        "print('Condition Numbers for (mu)I-M:', result[3])\n",
        "print('Condition Numbers for C:', result[4])\n",
        "print('Desired Condition Numbers:', result[5])"
      ],
      "metadata": {
        "colab": {
          "base_uri": "https://localhost:8080/"
        },
        "id": "_aBnrwNS5kIO",
        "outputId": "6b19bc68-9137-4327-a961-7cfb8c916545"
      },
      "execution_count": 8,
      "outputs": [
        {
          "output_type": "stream",
          "name": "stdout",
          "text": [
            "Eigenvalue: (49.620148581414085+0j)\n",
            "Eigenvector: [0.09296708+0.j 0.10481125+0.j 0.09983688+0.j 0.09707312+0.j\n",
            " 0.10439354+0.j 0.09794769+0.j 0.10813267+0.j 0.09284345+0.j\n",
            " 0.09431399+0.j 0.10806847+0.j 0.1065417 +0.j 0.10052338+0.j\n",
            " 0.10371858+0.j 0.09771616+0.j 0.0998238 +0.j 0.10540398+0.j\n",
            " 0.0997872 +0.j 0.10077501+0.j 0.10123154+0.j 0.09082776+0.j\n",
            " 0.09291646+0.j 0.10478071+0.j 0.09539226+0.j 0.10076078+0.j\n",
            " 0.10211811+0.j 0.10039804+0.j 0.10567801+0.j 0.10773907+0.j\n",
            " 0.10150484+0.j 0.10974688+0.j 0.0961554 +0.j 0.10295496+0.j\n",
            " 0.11010317+0.j 0.09221921+0.j 0.09679559+0.j 0.09292484+0.j\n",
            " 0.10536284+0.j 0.09831243+0.j 0.09759014+0.j 0.10336412+0.j\n",
            " 0.09404512+0.j 0.10061832+0.j 0.0937544 +0.j 0.10209774+0.j\n",
            " 0.09780708+0.j 0.10253504+0.j 0.0990027 +0.j 0.10020791+0.j\n",
            " 0.11025789+0.j 0.10165614+0.j 0.0968776 +0.j 0.10145509+0.j\n",
            " 0.09507951+0.j 0.09958859+0.j 0.09666882+0.j 0.10129013+0.j\n",
            " 0.10075344+0.j 0.09638949+0.j 0.09067848+0.j 0.10220834+0.j\n",
            " 0.10205382+0.j 0.10148665+0.j 0.10394138+0.j 0.10632427+0.j\n",
            " 0.09469652+0.j 0.09922844+0.j 0.10579641+0.j 0.10528598+0.j\n",
            " 0.09952825+0.j 0.10290361+0.j 0.10590627+0.j 0.09531797+0.j\n",
            " 0.08806016+0.j 0.10057538+0.j 0.10961551+0.j 0.09917334+0.j\n",
            " 0.10118621+0.j 0.09989661+0.j 0.09659048+0.j 0.10732701+0.j\n",
            " 0.09580269+0.j 0.09228942+0.j 0.09581163+0.j 0.10685704+0.j\n",
            " 0.09849405+0.j 0.09071906+0.j 0.08854039+0.j 0.10276651+0.j\n",
            " 0.09370678+0.j 0.10506089+0.j 0.09396652+0.j 0.09293573+0.j\n",
            " 0.09629838+0.j 0.10520614+0.j 0.09681972+0.j 0.10203536+0.j\n",
            " 0.10291493+0.j 0.1001911 +0.j 0.09807268+0.j 0.09733745+0.j]\n",
            "Iterations: 2\n",
            "Condition Numbers for (mu)I-M: [  213.30545187 73913.96837358]\n",
            "Condition Numbers for C: [2.20714145 1.76587277]\n",
            "Desired Condition Numbers: [1.16757125 1.16666071]\n"
          ]
        }
      ]
    },
    {
      "cell_type": "code",
      "source": [
        "# Test RQI with 1e-6\n",
        "result = RQI(M, mu, 1e-6, 100)\n",
        "print('Eigenvalue:', result[0])\n",
        "print('Eigenvector:', result[1])\n",
        "print('Iterations:', result[2])\n",
        "print('Condition Numbers:', result[3])"
      ],
      "metadata": {
        "colab": {
          "base_uri": "https://localhost:8080/"
        },
        "id": "ihQfZRjL7VaV",
        "outputId": "f1f41910-b107-4488-83dd-d9d753d6e8b9"
      },
      "execution_count": 9,
      "outputs": [
        {
          "output_type": "stream",
          "name": "stdout",
          "text": [
            "Eigenvalue: (49.62014857735848+0j)\n",
            "Eigenvector: [0.09296707+0.j 0.10481124+0.j 0.09983689+0.j 0.09707312+0.j\n",
            " 0.10439353+0.j 0.09794769+0.j 0.10813267+0.j 0.09284344+0.j\n",
            " 0.09431399+0.j 0.10806847+0.j 0.1065417 +0.j 0.10052338+0.j\n",
            " 0.10371858+0.j 0.09771615+0.j 0.0998238 +0.j 0.10540399+0.j\n",
            " 0.0997872 +0.j 0.10077501+0.j 0.10123154+0.j 0.09082776+0.j\n",
            " 0.09291646+0.j 0.10478071+0.j 0.09539226+0.j 0.10076079+0.j\n",
            " 0.10211811+0.j 0.10039803+0.j 0.10567802+0.j 0.10773907+0.j\n",
            " 0.10150483+0.j 0.10974688+0.j 0.09615539+0.j 0.10295496+0.j\n",
            " 0.11010317+0.j 0.0922192 +0.j 0.09679558+0.j 0.09292483+0.j\n",
            " 0.10536285+0.j 0.09831243+0.j 0.09759013+0.j 0.10336412+0.j\n",
            " 0.09404511+0.j 0.10061831+0.j 0.0937544 +0.j 0.10209773+0.j\n",
            " 0.09780707+0.j 0.10253503+0.j 0.0990027 +0.j 0.10020791+0.j\n",
            " 0.11025789+0.j 0.10165614+0.j 0.0968776 +0.j 0.10145509+0.j\n",
            " 0.09507951+0.j 0.0995886 +0.j 0.09666882+0.j 0.10129013+0.j\n",
            " 0.10075344+0.j 0.0963895 +0.j 0.09067848+0.j 0.10220834+0.j\n",
            " 0.10205383+0.j 0.10148665+0.j 0.10394137+0.j 0.10632427+0.j\n",
            " 0.09469653+0.j 0.09922845+0.j 0.10579641+0.j 0.10528598+0.j\n",
            " 0.09952825+0.j 0.10290362+0.j 0.10590627+0.j 0.09531798+0.j\n",
            " 0.08806016+0.j 0.10057538+0.j 0.10961551+0.j 0.09917334+0.j\n",
            " 0.10118622+0.j 0.09989661+0.j 0.09659049+0.j 0.10732701+0.j\n",
            " 0.09580269+0.j 0.09228942+0.j 0.09581163+0.j 0.10685704+0.j\n",
            " 0.09849405+0.j 0.09071906+0.j 0.08854039+0.j 0.10276652+0.j\n",
            " 0.09370678+0.j 0.1050609 +0.j 0.09396652+0.j 0.09293574+0.j\n",
            " 0.09629838+0.j 0.10520614+0.j 0.09681971+0.j 0.10203536+0.j\n",
            " 0.10291494+0.j 0.1001911 +0.j 0.09807267+0.j 0.09733745+0.j]\n",
            "Iterations: 3\n",
            "Condition Numbers: [2.13305452e+02 3.87533494e+04 1.83856534e+09]\n"
          ]
        }
      ]
    },
    {
      "cell_type": "code",
      "source": [
        "# Test RQIAPP with 1e-6\n",
        "result = RQIAPP(M, mu, 1e-6, 100)\n",
        "print('Eigenvalue:', result[0])\n",
        "print('Eigenvector:', result[1])\n",
        "print('Iterations:', result[2])\n",
        "print('Condition Numbers:', result[3])\n",
        "print('Condition Numbers for C:', result[4])\n",
        "print('Desired Condition Numbers:', result[5])"
      ],
      "metadata": {
        "colab": {
          "base_uri": "https://localhost:8080/"
        },
        "id": "j7LT8S8V7VNz",
        "outputId": "3fa84810-db2b-459d-f13b-02bd2249f6ee"
      },
      "execution_count": 10,
      "outputs": [
        {
          "output_type": "stream",
          "name": "stdout",
          "text": [
            "Eigenvalue: (49.620148576680755+0j)\n",
            "Eigenvector: [0.09296707+0.j 0.10481125+0.j 0.09983689+0.j 0.09707313+0.j\n",
            " 0.10439353+0.j 0.09794769+0.j 0.10813267+0.j 0.09284344+0.j\n",
            " 0.09431399+0.j 0.10806847+0.j 0.1065417 +0.j 0.10052339+0.j\n",
            " 0.10371857+0.j 0.09771615+0.j 0.0998238 +0.j 0.10540399+0.j\n",
            " 0.0997872 +0.j 0.10077502+0.j 0.10123154+0.j 0.09082776+0.j\n",
            " 0.09291646+0.j 0.10478071+0.j 0.09539226+0.j 0.10076079+0.j\n",
            " 0.10211811+0.j 0.10039803+0.j 0.10567802+0.j 0.10773907+0.j\n",
            " 0.10150483+0.j 0.10974688+0.j 0.09615539+0.j 0.10295496+0.j\n",
            " 0.11010317+0.j 0.09221921+0.j 0.09679558+0.j 0.09292484+0.j\n",
            " 0.10536285+0.j 0.09831243+0.j 0.09759013+0.j 0.10336412+0.j\n",
            " 0.09404511+0.j 0.10061831+0.j 0.0937544 +0.j 0.10209773+0.j\n",
            " 0.09780707+0.j 0.10253503+0.j 0.0990027 +0.j 0.10020791+0.j\n",
            " 0.11025789+0.j 0.10165614+0.j 0.0968776 +0.j 0.10145509+0.j\n",
            " 0.09507951+0.j 0.0995886 +0.j 0.09666882+0.j 0.10129013+0.j\n",
            " 0.10075344+0.j 0.0963895 +0.j 0.09067848+0.j 0.10220834+0.j\n",
            " 0.10205382+0.j 0.10148665+0.j 0.10394137+0.j 0.10632427+0.j\n",
            " 0.09469653+0.j 0.09922845+0.j 0.10579641+0.j 0.10528598+0.j\n",
            " 0.09952825+0.j 0.10290362+0.j 0.10590627+0.j 0.09531798+0.j\n",
            " 0.08806016+0.j 0.10057538+0.j 0.10961551+0.j 0.09917334+0.j\n",
            " 0.10118622+0.j 0.09989661+0.j 0.09659049+0.j 0.10732701+0.j\n",
            " 0.0958027 +0.j 0.09228942+0.j 0.09581162+0.j 0.10685704+0.j\n",
            " 0.09849406+0.j 0.09071906+0.j 0.08854039+0.j 0.10276652+0.j\n",
            " 0.09370678+0.j 0.1050609 +0.j 0.09396652+0.j 0.09293574+0.j\n",
            " 0.09629838+0.j 0.10520615+0.j 0.09681971+0.j 0.10203536+0.j\n",
            " 0.10291494+0.j 0.1001911 +0.j 0.09807267+0.j 0.09733745+0.j]\n",
            "Iterations: 2\n",
            "Condition Numbers: [2.13305452e+02 2.60253846e+05]\n",
            "Condition Numbers for C: [2.07527681 1.76741437]\n",
            "Desired Condition Numbers: [1.16757125 1.16665882]\n"
          ]
        }
      ]
    },
    {
      "cell_type": "code",
      "source": [
        "# Test RQI with 1e-8\n",
        "result = RQI(M, mu, 1e-8, 100)\n",
        "print('Eigenvalue:', result[0])\n",
        "print('Eigenvector:', result[1])\n",
        "print('Iterations:', result[2])\n",
        "print('Condition Numbers:', result[3])"
      ],
      "metadata": {
        "colab": {
          "base_uri": "https://localhost:8080/"
        },
        "id": "qoSNmUAJ7gnC",
        "outputId": "f2b3683a-d13a-4e92-d935-6ae1fa55c266"
      },
      "execution_count": 11,
      "outputs": [
        {
          "output_type": "stream",
          "name": "stdout",
          "text": [
            "Eigenvalue: None\n",
            "Eigenvector: None\n",
            "Iterations: 100\n",
            "Condition Numbers: [2.13305452e+02 5.79537872e+04 5.27856184e+09 1.38796234e+16\n",
            " 1.59813353e+16 3.10276249e+15 1.59813353e+16 3.10276249e+15\n",
            " 1.59813353e+16 3.10276249e+15 1.59813353e+16 3.10276249e+15\n",
            " 1.59813353e+16 3.10276249e+15 1.59813353e+16 3.10276249e+15\n",
            " 1.59813353e+16 3.10276249e+15 1.59813353e+16 3.10276249e+15\n",
            " 1.59813353e+16 3.10276249e+15 1.59813353e+16 3.10276249e+15\n",
            " 1.59813353e+16 3.10276249e+15 1.59813353e+16 3.10276249e+15\n",
            " 1.59813353e+16 3.10276249e+15 1.59813353e+16 3.10276249e+15\n",
            " 1.59813353e+16 3.10276249e+15 1.59813353e+16 3.10276249e+15\n",
            " 1.59813353e+16 3.10276249e+15 1.59813353e+16 3.10276249e+15\n",
            " 1.59813353e+16 3.10276249e+15 1.59813353e+16 3.10276249e+15\n",
            " 1.59813353e+16 3.10276249e+15 1.59813353e+16 3.10276249e+15\n",
            " 1.59813353e+16 3.10276249e+15 1.59813353e+16 3.10276249e+15\n",
            " 1.59813353e+16 3.10276249e+15 1.59813353e+16 3.10276249e+15\n",
            " 1.59813353e+16 3.10276249e+15 1.59813353e+16 3.10276249e+15\n",
            " 1.59813353e+16 3.10276249e+15 1.59813353e+16 3.10276249e+15\n",
            " 1.59813353e+16 3.10276249e+15 1.59813353e+16 3.10276249e+15\n",
            " 1.59813353e+16 3.10276249e+15 1.59813353e+16 3.10276249e+15\n",
            " 1.59813353e+16 3.10276249e+15 1.59813353e+16 3.10276249e+15\n",
            " 1.59813353e+16 3.10276249e+15 1.59813353e+16 3.10276249e+15\n",
            " 1.59813353e+16 3.10276249e+15 1.59813353e+16 3.10276249e+15\n",
            " 1.59813353e+16 3.10276249e+15 1.59813353e+16 3.10276249e+15\n",
            " 1.59813353e+16 3.10276249e+15 1.59813353e+16 3.10276249e+15\n",
            " 1.59813353e+16 3.10276249e+15 1.59813353e+16 3.10276249e+15\n",
            " 1.59813353e+16 3.10276249e+15 1.59813353e+16 3.10276249e+15]\n"
          ]
        }
      ]
    },
    {
      "cell_type": "code",
      "source": [
        "# Test RQIAPP with 1e-8\n",
        "result = RQIAPP(M, mu, 1e-8, 100)\n",
        "print('Eigenvalue:', result[0])\n",
        "print('Eigenvector:', result[1])\n",
        "print('Iterations:', result[2])\n",
        "print('Condition Numbers:', result[3])\n",
        "print('Condition Numbers for C:', result[4])\n",
        "print('Desired Condition Numbers:', result[5])"
      ],
      "metadata": {
        "colab": {
          "base_uri": "https://localhost:8080/"
        },
        "id": "639AFhEd7gZ4",
        "outputId": "41c0dfa6-4fa0-4729-afce-2a7b04f43d18"
      },
      "execution_count": 12,
      "outputs": [
        {
          "output_type": "stream",
          "name": "stdout",
          "text": [
            "Eigenvalue: (49.62014857735849+0j)\n",
            "Eigenvector: [0.09296707+0.j 0.10481124+0.j 0.09983689+0.j 0.09707312+0.j\n",
            " 0.10439353+0.j 0.09794769+0.j 0.10813267+0.j 0.09284344+0.j\n",
            " 0.09431399+0.j 0.10806847+0.j 0.1065417 +0.j 0.10052338+0.j\n",
            " 0.10371858+0.j 0.09771615+0.j 0.0998238 +0.j 0.10540399+0.j\n",
            " 0.0997872 +0.j 0.10077501+0.j 0.10123154+0.j 0.09082776+0.j\n",
            " 0.09291646+0.j 0.10478071+0.j 0.09539226+0.j 0.10076079+0.j\n",
            " 0.10211811+0.j 0.10039803+0.j 0.10567802+0.j 0.10773907+0.j\n",
            " 0.10150483+0.j 0.10974688+0.j 0.09615539+0.j 0.10295496+0.j\n",
            " 0.11010317+0.j 0.0922192 +0.j 0.09679558+0.j 0.09292483+0.j\n",
            " 0.10536285+0.j 0.09831243+0.j 0.09759013+0.j 0.10336412+0.j\n",
            " 0.09404511+0.j 0.10061831+0.j 0.0937544 +0.j 0.10209773+0.j\n",
            " 0.09780707+0.j 0.10253503+0.j 0.0990027 +0.j 0.10020791+0.j\n",
            " 0.11025789+0.j 0.10165614+0.j 0.0968776 +0.j 0.10145509+0.j\n",
            " 0.09507951+0.j 0.0995886 +0.j 0.09666882+0.j 0.10129013+0.j\n",
            " 0.10075344+0.j 0.0963895 +0.j 0.09067848+0.j 0.10220834+0.j\n",
            " 0.10205383+0.j 0.10148665+0.j 0.10394137+0.j 0.10632427+0.j\n",
            " 0.09469653+0.j 0.09922845+0.j 0.10579641+0.j 0.10528598+0.j\n",
            " 0.09952825+0.j 0.10290362+0.j 0.10590627+0.j 0.09531798+0.j\n",
            " 0.08806016+0.j 0.10057538+0.j 0.10961551+0.j 0.09917334+0.j\n",
            " 0.10118622+0.j 0.09989661+0.j 0.09659049+0.j 0.10732701+0.j\n",
            " 0.09580269+0.j 0.09228942+0.j 0.09581163+0.j 0.10685704+0.j\n",
            " 0.09849405+0.j 0.09071906+0.j 0.08854039+0.j 0.10276652+0.j\n",
            " 0.09370678+0.j 0.1050609 +0.j 0.09396652+0.j 0.09293574+0.j\n",
            " 0.09629838+0.j 0.10520614+0.j 0.09681971+0.j 0.10203536+0.j\n",
            " 0.10291494+0.j 0.1001911 +0.j 0.09807267+0.j 0.09733745+0.j]\n",
            "Iterations: 3\n",
            "Condition Numbers: [2.13305452e+02 4.30675311e+04 2.41140957e+09]\n",
            "Condition Numbers for C: [2.35161251 1.80387368 1.80468043]\n",
            "Desired Condition Numbers: [1.16757125 1.16666259 1.16665807]\n"
          ]
        }
      ]
    },
    {
      "cell_type": "code",
      "source": [
        "# Print actual eigenvalue/eigenvector\n",
        "print(vals[0], vecs[:,0])"
      ],
      "metadata": {
        "colab": {
          "base_uri": "https://localhost:8080/"
        },
        "id": "9kwLV9JE5rs_",
        "outputId": "3ccca7f7-45b4-4244-a956-897066485999"
      },
      "execution_count": 13,
      "outputs": [
        {
          "output_type": "stream",
          "name": "stdout",
          "text": [
            "(49.620148577358535+0j) [-0.09296707+0.j -0.10481124+0.j -0.09983689+0.j -0.09707312+0.j\n",
            " -0.10439353+0.j -0.09794769+0.j -0.10813267+0.j -0.09284344+0.j\n",
            " -0.09431399+0.j -0.10806847+0.j -0.1065417 +0.j -0.10052338+0.j\n",
            " -0.10371858+0.j -0.09771615+0.j -0.0998238 +0.j -0.10540399+0.j\n",
            " -0.0997872 +0.j -0.10077501+0.j -0.10123154+0.j -0.09082776+0.j\n",
            " -0.09291646+0.j -0.10478071+0.j -0.09539226+0.j -0.10076079+0.j\n",
            " -0.10211811+0.j -0.10039803+0.j -0.10567802+0.j -0.10773907+0.j\n",
            " -0.10150483+0.j -0.10974688+0.j -0.09615539+0.j -0.10295496+0.j\n",
            " -0.11010317+0.j -0.0922192 +0.j -0.09679558+0.j -0.09292483+0.j\n",
            " -0.10536285+0.j -0.09831243+0.j -0.09759013+0.j -0.10336412+0.j\n",
            " -0.09404511+0.j -0.10061831+0.j -0.0937544 +0.j -0.10209773+0.j\n",
            " -0.09780707+0.j -0.10253503+0.j -0.0990027 +0.j -0.10020791+0.j\n",
            " -0.11025789+0.j -0.10165614+0.j -0.0968776 +0.j -0.10145509+0.j\n",
            " -0.09507951+0.j -0.0995886 +0.j -0.09666882+0.j -0.10129013+0.j\n",
            " -0.10075344+0.j -0.0963895 +0.j -0.09067848+0.j -0.10220834+0.j\n",
            " -0.10205383+0.j -0.10148665+0.j -0.10394137+0.j -0.10632427+0.j\n",
            " -0.09469653+0.j -0.09922845+0.j -0.10579641+0.j -0.10528598+0.j\n",
            " -0.09952825+0.j -0.10290362+0.j -0.10590627+0.j -0.09531798+0.j\n",
            " -0.08806016+0.j -0.10057538+0.j -0.10961551+0.j -0.09917334+0.j\n",
            " -0.10118622+0.j -0.09989661+0.j -0.09659049+0.j -0.10732701+0.j\n",
            " -0.09580269+0.j -0.09228942+0.j -0.09581163+0.j -0.10685704+0.j\n",
            " -0.09849405+0.j -0.09071906+0.j -0.08854039+0.j -0.10276652+0.j\n",
            " -0.09370678+0.j -0.1050609 +0.j -0.09396652+0.j -0.09293574+0.j\n",
            " -0.09629838+0.j -0.10520614+0.j -0.09681971+0.j -0.10203536+0.j\n",
            " -0.10291494+0.j -0.1001911 +0.j -0.09807267+0.j -0.09733745+0.j]\n"
          ]
        }
      ]
    },
    {
      "cell_type": "code",
      "source": [
        "# Function to run n rounds of RQI and RQIAPP\n",
        "def runRQI(M, mu, ep, it, n):\n",
        "  # Save number of iterations to arrays\n",
        "  its = np.empty(0)\n",
        "  itsAPP = np.empty(0)\n",
        "\n",
        "  # Save condition numbers to arrays\n",
        "  conds = np.empty(0)\n",
        "  condsAPP = np.empty(0)\n",
        "\n",
        "  # Save last condition number of each iteration to arrays\n",
        "  lastConds = np.empty(0)\n",
        "  lastCondsAPP = np.empty(0)\n",
        "\n",
        "  for i in range(n):\n",
        "    RQIData = RQI(M, mu, ep, it)\n",
        "    RQIAPPData = RQIAPP(M, mu, ep, it)\n",
        "\n",
        "    # Save number of iterations required to the appropriate array\n",
        "    its = np.append(its, RQIData[2])\n",
        "    itsAPP = np.append(itsAPP, RQIAPPData[2])\n",
        "\n",
        "    # Save condition numbers to the appropriate array\n",
        "    conds = np.append(conds, RQIData[3])\n",
        "    condsAPP = np.append(condsAPP, RQIAPPData[4])\n",
        "\n",
        "    # Save last condition number to the appropriate array\n",
        "    lastConds = np.append(conds, RQIData[3][-1])\n",
        "    lastCondsAPP = np.append(condsAPP, RQIAPPData[4][-1])\n",
        "\n",
        "  # Print iterations required each round\n",
        "  print('Iterations required each round for RQI:\\n', its)\n",
        "  print('\\nIterations required each round for RQIAPP:\\n', itsAPP)\n",
        "\n",
        "  # Get average iterations required by RQI\n",
        "  index = np.argwhere(its==it)\n",
        "  its = np.delete(its, index)\n",
        "  if its.size==0:\n",
        "    itsAvg = 0\n",
        "  else:\n",
        "    itsAvg = np.average(its)\n",
        "\n",
        "  # Get average condition number for RQI\n",
        "  condsAvg = np.average(conds)\n",
        "\n",
        "  # Get average final condition number for RQI\n",
        "  lastCondsAvg = np.average(lastConds)\n",
        "\n",
        "  # Get average iterations required by RQIAPP\n",
        "  index = np.argwhere(itsAPP==it)\n",
        "  itsAPP = np.delete(itsAPP, index)\n",
        "  if itsAPP.size==0:\n",
        "    itsAPPAvg = 0\n",
        "  else:\n",
        "    itsAPPAvg = np.average(itsAPP)\n",
        "\n",
        "  # Get average condition number for RQIAPP\n",
        "  condsAPPAvg = np.average(condsAPP)\n",
        "\n",
        "  # Get average final condition number for RQI\n",
        "  lastCondsAPPAvg = np.average(lastCondsAPP)\n",
        "\n",
        "  # Print average iterations required and number of errors\n",
        "  print('\\nAverage iterations required for RQI:\\n', itsAvg)\n",
        "  print('\\nAvergae condition number for RQI:\\n', condsAvg)\n",
        "  print('\\nAvergae final condition number for RQI:\\n', lastCondsAvg)\n",
        "  print('\\nPercentage of times RQI converged:\\n', str(its.size/n*100) + '%')\n",
        "  print('\\nAverage iterations required for RQIAPP:\\n', itsAPPAvg)\n",
        "  print('\\nAvergae condition number for RQIAPP:\\n', condsAPPAvg)\n",
        "  print('\\nAvergae final condition number for RQIAPP:\\n', lastCondsAPPAvg)\n",
        "  print('\\nPercentage of times RQIAPP converged:\\n', str(itsAPP.size/n*100) + '%')"
      ],
      "metadata": {
        "id": "DEXwnnehskpV"
      },
      "execution_count": 14,
      "outputs": []
    },
    {
      "cell_type": "code",
      "source": [
        "# Run 100 rounds with 1e-4\n",
        "runRQI(M, mu, 1e-4, 20, 100)"
      ],
      "metadata": {
        "colab": {
          "base_uri": "https://localhost:8080/"
        },
        "id": "3o9UrthPg7ov",
        "outputId": "bb375547-008c-4453-be33-3826ed54a808"
      },
      "execution_count": 15,
      "outputs": [
        {
          "output_type": "stream",
          "name": "stdout",
          "text": [
            "Iterations required each round for RQI:\n",
            " [2. 2. 2. 2. 2. 2. 2. 2. 2. 2. 2. 2. 2. 2. 2. 2. 2. 2. 2. 2. 2. 2. 2. 2.\n",
            " 2. 2. 2. 2. 2. 2. 2. 2. 2. 2. 2. 2. 2. 2. 2. 2. 2. 2. 2. 2. 2. 2. 2. 2.\n",
            " 2. 2. 2. 2. 2. 2. 2. 2. 2. 2. 2. 2. 2. 2. 2. 2. 2. 2. 2. 2. 2. 2. 2. 2.\n",
            " 2. 2. 2. 2. 2. 2. 2. 2. 2. 2. 2. 2. 2. 2. 2. 2. 2. 2. 2. 2. 2. 2. 2. 2.\n",
            " 2. 2. 2. 2.]\n",
            "\n",
            "Iterations required each round for RQIAPP:\n",
            " [2. 2. 2. 2. 2. 2. 2. 2. 2. 2. 2. 2. 2. 2. 2. 2. 2. 2. 2. 2. 2. 2. 2. 2.\n",
            " 2. 2. 2. 2. 2. 2. 2. 2. 2. 2. 2. 2. 2. 2. 2. 2. 2. 2. 2. 2. 2. 2. 2. 2.\n",
            " 2. 2. 2. 2. 2. 2. 2. 2. 2. 2. 2. 2. 2. 2. 2. 2. 2. 2. 2. 2. 2. 2. 2. 2.\n",
            " 2. 2. 2. 2. 2. 2. 2. 2. 2. 2. 2. 2. 2. 2. 2. 2. 2. 2. 2. 2. 2. 2. 2. 2.\n",
            " 2. 2. 2. 2.]\n",
            "\n",
            "Average iterations required for RQI:\n",
            " 2.0\n",
            "\n",
            "Avergae condition number for RQI:\n",
            " 47050.5258131291\n",
            "\n",
            "Avergae final condition number for RQI:\n",
            " 47022.13353208443\n",
            "\n",
            "Percentage of times RQI converged:\n",
            " 100.0%\n",
            "\n",
            "Average iterations required for RQIAPP:\n",
            " 2.0\n",
            "\n",
            "Avergae condition number for RQIAPP:\n",
            " 1.9813794585602944\n",
            "\n",
            "Avergae final condition number for RQIAPP:\n",
            " 1.9801813857079311\n",
            "\n",
            "Percentage of times RQIAPP converged:\n",
            " 100.0%\n"
          ]
        }
      ]
    },
    {
      "cell_type": "code",
      "source": [
        "# Run 100 rounds with 1e-6\n",
        "runRQI(M, mu, 1e-6, 20, 100)"
      ],
      "metadata": {
        "colab": {
          "base_uri": "https://localhost:8080/"
        },
        "id": "MJeFX0p7tPLy",
        "outputId": "24032687-a088-4971-c293-57d64f244b97"
      },
      "execution_count": 16,
      "outputs": [
        {
          "output_type": "stream",
          "name": "stdout",
          "text": [
            "Iterations required each round for RQI:\n",
            " [ 3.  3.  3.  3.  3.  3.  3.  3.  3.  3.  3.  3.  3.  3.  3.  3.  3.  3.\n",
            "  3.  3.  3.  3.  3.  3.  3.  3.  3.  3.  3.  3.  3.  3.  3.  3.  3.  3.\n",
            "  3.  3.  3.  3.  3.  3.  3.  3.  3.  3.  3.  3.  3.  3.  3.  3.  3.  3.\n",
            "  3.  3.  3.  3.  3.  3.  3.  3.  3.  3.  3.  3. 20.  3.  3.  3.  3.  3.\n",
            "  3.  3.  3.  3.  3.  3.  3.  3.  3.  3.  3.  3.  3. 20.  3.  3.  3.  3.\n",
            "  3.  3.  3.  3.  3.  3.  3.  3.  3.  3.]\n",
            "\n",
            "Iterations required each round for RQIAPP:\n",
            " [2. 2. 2. 2. 2. 2. 2. 2. 2. 2. 2. 2. 2. 2. 2. 2. 2. 2. 2. 2. 2. 2. 2. 2.\n",
            " 2. 2. 2. 2. 2. 2. 2. 2. 2. 2. 2. 2. 2. 2. 2. 2. 2. 2. 2. 2. 2. 2. 2. 2.\n",
            " 2. 2. 2. 2. 2. 2. 2. 2. 2. 2. 2. 2. 2. 2. 2. 2. 2. 2. 2. 2. 2. 2. 2. 2.\n",
            " 2. 2. 2. 2. 2. 2. 2. 2. 2. 2. 2. 2. 2. 2. 2. 2. 2. 2. 2. 2. 2. 2. 2. 2.\n",
            " 2. 2. 2. 2.]\n",
            "\n",
            "Average iterations required for RQI:\n",
            " 3.0\n",
            "\n",
            "Avergae condition number for RQI:\n",
            " 1003619610459552.2\n",
            "\n",
            "Avergae final condition number for RQI:\n",
            " 1000623732700727.0\n",
            "\n",
            "Percentage of times RQI converged:\n",
            " 98.0%\n",
            "\n",
            "Average iterations required for RQIAPP:\n",
            " 2.0\n",
            "\n",
            "Avergae condition number for RQIAPP:\n",
            " 1.9929061030917223\n",
            "\n",
            "Avergae final condition number for RQIAPP:\n",
            " 1.9914841389386952\n",
            "\n",
            "Percentage of times RQIAPP converged:\n",
            " 100.0%\n"
          ]
        }
      ]
    },
    {
      "cell_type": "code",
      "source": [
        "# Run 100 rounds with 1e-8\n",
        "runRQI(M, mu, 1e-8, 20, 100)"
      ],
      "metadata": {
        "colab": {
          "base_uri": "https://localhost:8080/"
        },
        "id": "J5B39tMTtRo-",
        "outputId": "56a91de7-fe0a-4e49-eff5-1de22955e178"
      },
      "execution_count": 17,
      "outputs": [
        {
          "output_type": "stream",
          "name": "stdout",
          "text": [
            "Iterations required each round for RQI:\n",
            " [ 3.  3. 20.  3. 20.  3. 20. 20. 20. 20.  3. 20. 20. 20. 20.  3.  3. 20.\n",
            " 20. 20.  3. 20. 20. 20. 20.  3. 20. 20. 20.  3.  3. 20.  3. 20. 20. 20.\n",
            " 20. 20. 20.  3. 20. 20. 20. 20.  3. 20. 20.  3.  3. 20. 20. 20. 20.  3.\n",
            " 20. 20.  3. 20. 20. 20. 20.  3.  3. 20. 20.  3.  3. 20. 20.  3. 20. 20.\n",
            " 20. 20.  3. 20. 20. 20.  3. 20. 20. 20.  3. 20. 20. 20. 20. 20.  3. 20.\n",
            " 20.  3. 20. 20.  3. 20.  3. 20. 20. 20.]\n",
            "\n",
            "Iterations required each round for RQIAPP:\n",
            " [3. 3. 3. 2. 3. 3. 3. 3. 3. 3. 3. 3. 3. 3. 3. 3. 3. 3. 3. 3. 3. 3. 3. 3.\n",
            " 3. 3. 3. 3. 3. 3. 3. 3. 3. 3. 3. 3. 3. 3. 3. 3. 2. 3. 3. 3. 3. 3. 3. 3.\n",
            " 3. 3. 3. 3. 3. 3. 3. 3. 3. 3. 3. 3. 3. 3. 3. 3. 3. 3. 3. 3. 2. 3. 3. 3.\n",
            " 3. 3. 3. 2. 3. 3. 3. 3. 3. 3. 3. 3. 3. 3. 3. 3. 3. 3. 3. 3. 3. 3. 3. 3.\n",
            " 3. 3. 3. 3.]\n",
            "\n",
            "Average iterations required for RQI:\n",
            " 3.0\n",
            "\n",
            "Avergae condition number for RQI:\n",
            " 7690225791452432.0\n",
            "\n",
            "Avergae final condition number for RQI:\n",
            " 7695786562422055.0\n",
            "\n",
            "Percentage of times RQI converged:\n",
            " 30.0%\n",
            "\n",
            "Average iterations required for RQIAPP:\n",
            " 2.96\n",
            "\n",
            "Avergae condition number for RQIAPP:\n",
            " 1.9226137146675557\n",
            "\n",
            "Avergae final condition number for RQIAPP:\n",
            " 1.9223238904936881\n",
            "\n",
            "Percentage of times RQIAPP converged:\n",
            " 100.0%\n"
          ]
        }
      ]
    },
    {
      "cell_type": "code",
      "source": [
        "# Run 100 rounds with 1e-10\n",
        "runRQI(M, mu, 1e-10, 20, 100)"
      ],
      "metadata": {
        "colab": {
          "base_uri": "https://localhost:8080/"
        },
        "id": "u79xSlBqtnsH",
        "outputId": "a699a5e2-52a4-4192-afe5-5639131c0c8c"
      },
      "execution_count": 18,
      "outputs": [
        {
          "output_type": "stream",
          "name": "stdout",
          "text": [
            "Iterations required each round for RQI:\n",
            " [20. 20. 20. 20. 20. 20. 20. 20. 20. 20. 20. 20. 20. 20. 20. 20. 20. 20.\n",
            " 20. 20. 20. 20. 20. 20. 20. 20. 20. 20. 20. 20. 20. 20. 20. 20. 20. 20.\n",
            " 20. 20. 20. 20. 20. 20. 20. 20. 20. 20. 20. 20. 20. 20. 20. 20. 20. 20.\n",
            " 20. 20. 20. 20. 20. 20. 20. 20. 20. 20. 20. 20. 20. 20. 20. 20. 20. 20.\n",
            " 20. 20. 20. 20. 20. 20. 20. 20. 20. 20. 20. 20. 20. 20. 20. 20. 20. 20.\n",
            " 20. 20. 20. 20. 20. 20. 20. 20. 20. 20.]\n",
            "\n",
            "Iterations required each round for RQIAPP:\n",
            " [3. 3. 3. 3. 3. 3. 3. 3. 3. 3. 3. 3. 3. 3. 3. 3. 3. 3. 3. 3. 3. 3. 3. 3.\n",
            " 3. 3. 3. 3. 3. 3. 3. 3. 3. 3. 3. 3. 3. 3. 3. 3. 3. 3. 3. 3. 3. 3. 3. 3.\n",
            " 3. 3. 3. 3. 3. 3. 3. 3. 3. 3. 3. 3. 3. 3. 3. 3. 3. 3. 3. 3. 3. 3. 3. 3.\n",
            " 3. 3. 3. 3. 3. 3. 3. 3. 3. 3. 3. 3. 3. 3. 3. 3. 3. 3. 3. 3. 3. 3. 3. 3.\n",
            " 3. 3. 3. 3.]\n",
            "\n",
            "Average iterations required for RQI:\n",
            " 0\n",
            "\n",
            "Avergae condition number for RQI:\n",
            " 8200004746001580.0\n",
            "\n",
            "Avergae final condition number for RQI:\n",
            " 8197457398547239.0\n",
            "\n",
            "Percentage of times RQI converged:\n",
            " 0.0%\n",
            "\n",
            "Average iterations required for RQIAPP:\n",
            " 3.0\n",
            "\n",
            "Avergae condition number for RQIAPP:\n",
            " 1.9063494889058696\n",
            "\n",
            "Avergae final condition number for RQIAPP:\n",
            " 1.9057413659778495\n",
            "\n",
            "Percentage of times RQIAPP converged:\n",
            " 100.0%\n"
          ]
        }
      ]
    }
  ]
}