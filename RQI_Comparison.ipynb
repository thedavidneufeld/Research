{
  "nbformat": 4,
  "nbformat_minor": 0,
  "metadata": {
    "colab": {
      "provenance": [],
      "authorship_tag": "ABX9TyPZ2ytpTefdim+PuwMvlXyb",
      "include_colab_link": true
    },
    "kernelspec": {
      "name": "python3",
      "display_name": "Python 3"
    },
    "language_info": {
      "name": "python"
    }
  },
  "cells": [
    {
      "cell_type": "markdown",
      "metadata": {
        "id": "view-in-github",
        "colab_type": "text"
      },
      "source": [
        "<a href=\"https://colab.research.google.com/github/thedavidneufeld/ResearchCode/blob/main/RQI_Comparison.ipynb\" target=\"_parent\"><img src=\"https://colab.research.google.com/assets/colab-badge.svg\" alt=\"Open In Colab\"/></a>"
      ]
    },
    {
      "cell_type": "markdown",
      "source": [
        "**Imports**"
      ],
      "metadata": {
        "id": "aw5k180W2P77"
      }
    },
    {
      "cell_type": "code",
      "execution_count": 1,
      "metadata": {
        "id": "VzNKJLwa2Bi2"
      },
      "outputs": [],
      "source": [
        "import numpy as np"
      ]
    },
    {
      "cell_type": "markdown",
      "source": [
        "**Helper Functions**"
      ],
      "metadata": {
        "id": "7OBLsr6V6JBr"
      }
    },
    {
      "cell_type": "code",
      "source": [
        "# given an approximate eigenvalue (mu) and a matrix M\n",
        "# returns (mu)*I-M\n",
        "def A(mu, M):\n",
        "    I = np.eye(M.shape[0])\n",
        "    return mu*I-M\n",
        "\n",
        "# calculates and returns the conditon number of M\n",
        "# based on sigma_1/sigma_n\n",
        "def svd_cond(M):\n",
        "    SVD = np.linalg.svd(M)\n",
        "    return SVD[1][0]/SVD[1][-1]\n",
        "\n",
        "# calculates and returns sigma_1/sigma_{n-1}\n",
        "def svd_desired_cond(M):\n",
        "    SVD = np.linalg.svd(M)\n",
        "    return SVD[1][0]/SVD[1][-2]\n",
        "\n",
        "# calculates a preconditioned matrix C based on\n",
        "# an approximate eigenvalue (mu), a matrix M, and vectors\n",
        "# y and v\n",
        "# returns C\n",
        "def f(mu, M, y, v):\n",
        "    # convert y and v to column vectors\n",
        "    Y = y[:, np.newaxis]\n",
        "    V = v[:, np.newaxis]\n",
        "    # calculate (mu)*I-M\n",
        "    A1 = A(mu, M)\n",
        "    # calculate ((mu)*I-M)/||((mu)*I-M)||+YV^H\n",
        "    C = A1/np.linalg.norm(A1, 2) + np.dot(Y, V.T.conj())\n",
        "    # return C\n",
        "    return C"
      ],
      "metadata": {
        "id": "gVWhJ5yq2-1Z"
      },
      "execution_count": 2,
      "outputs": []
    },
    {
      "cell_type": "markdown",
      "source": [
        "**RQI Algorithm**"
      ],
      "metadata": {
        "id": "hqv_9Dvt2Zh8"
      }
    },
    {
      "cell_type": "code",
      "source": [
        "# based on a close approximation of an eigenvalue of M (mu)\n",
        "# returns the corresponding eigenvector as well as the correct eigenvalue\n",
        "# takes in a matrix M, eigenvalue approximation mu\n",
        "# tolerance ep, and a max number of iterations it\n",
        "def RQI(M, mu, ep, it):\n",
        "    # create a random vector with norm of 1\n",
        "    # vector needs to be compatible with M\n",
        "    y = np.random.rand(M.shape[0])\n",
        "    y = y/np.linalg.norm(y)\n",
        "    # track condition number of (mu)I-M through iterations\n",
        "    conds = np.empty(0)\n",
        "    # repeat until stop condition is met\n",
        "    # or until the maximum number of iterations is reached\n",
        "    for i in range(1, it+1):\n",
        "        # calculate (mu)I-M\n",
        "        muI_M = A(mu, M)\n",
        "        # calculate the condition number of (mu)I-M\n",
        "        conds = np.append(conds, svd_cond(muI_M))\n",
        "        # solve the system ((mu)I-M)x=y\n",
        "        x = np.linalg.solve(muI_M, y)\n",
        "        # update y with a normalized x\n",
        "        y = x/np.linalg.norm(x)\n",
        "        # update mu with (x^T)Mx\n",
        "        mu = np.dot(np.dot(y.T, M), y)\n",
        "        # if ||Mx-(mu)x|| <= ep*||M||, then return mu, y, i, and conds\n",
        "        if np.linalg.norm(np.dot(M, x)-mu*x, 2) <= ep*np.linalg.norm(M, 2):\n",
        "            return mu, y, i, conds\n",
        "    # if max iterations has been surpassed, return None values,\n",
        "    # the number of iterations, and conds\n",
        "    return None, None, it, conds\n"
      ],
      "metadata": {
        "id": "apO5fW_L2ZQz"
      },
      "execution_count": 3,
      "outputs": []
    },
    {
      "cell_type": "markdown",
      "source": [
        "**RQI Algorithm with Additive Preconditioning**"
      ],
      "metadata": {
        "id": "iCP5yNCk2oLu"
      }
    },
    {
      "cell_type": "code",
      "source": [
        "# based on a close approximation of an eigenvalue of M (mu)\n",
        "# returns the corresponding eigenvector as well as the correct eigenvalue\n",
        "# takes in a matrix M, eigenvalue approximation mu\n",
        "# tolerance ep, and a max number of iterations it\n",
        "#\n",
        "# similar to regular RQI, but uses additive preprocessing\n",
        "def RQIAPP(M, mu, ep, it):\n",
        "    # create two random vectors with norm of 1\n",
        "    # vectors need to be compatible with M\n",
        "    y = np.random.rand(M.shape[0])\n",
        "    y = y/np.linalg.norm(y)\n",
        "    v = np.random.rand(M.shape[0])\n",
        "    v = v/np.linalg.norm(v)\n",
        "    # track condition number of (mu)I-M, C, and the desired condition number\n",
        "    conds = np.empty(0)\n",
        "    conds_C = np.empty(0)\n",
        "    conds_desired = np.empty(0)\n",
        "    # repeat until stop condition is met\n",
        "    # or until the maximum number of iterations is reached\n",
        "    for i in range(1, it+1):\n",
        "        # calculate (mu)I-M\n",
        "        muI_M = A(mu, M)\n",
        "        # calculate C\n",
        "        C = f(mu, M, y, v)\n",
        "        # calculate the condition numbers\n",
        "        conds = np.append(conds, svd_cond(muI_M))\n",
        "        conds_C = np.append(conds_C, svd_cond(C))\n",
        "        conds_desired = np.append(conds_desired, svd_desired_cond(muI_M))\n",
        "        # solve the system Cx=y\n",
        "        x = np.linalg.solve(C, y)\n",
        "        # update y with a normalized x\n",
        "        y = x/np.linalg.norm(x)\n",
        "        # update mu with (y^T)My\n",
        "        mu = np.dot(np.dot(y.T, M), y)\n",
        "        # if ||Mx-(mu)x|| <= ep*||M||, then return mu, y, i, and conds\n",
        "        if np.linalg.norm(np.dot(M, x)-mu*x, 2) <= ep*np.linalg.norm(M, 2):\n",
        "            return mu, y, i, conds, conds_C, conds_desired\n",
        "    # if max iterations has been surpassed, return None values,\n",
        "    # the number of iterations, and conds\n",
        "    return None, None, it, conds, conds_C, conds_desired"
      ],
      "metadata": {
        "id": "VpEMEwaW2uo0"
      },
      "execution_count": 4,
      "outputs": []
    },
    {
      "cell_type": "markdown",
      "source": [
        "**Test and Compare Algorithms**"
      ],
      "metadata": {
        "id": "Od-c92SJ5CDB"
      }
    },
    {
      "cell_type": "code",
      "source": [
        "# Setup\n",
        "\n",
        "# create a random matrix M\n",
        "M = np.random.rand(100, 100)\n",
        "# calculate the eigenvalues/eigenvectors of M\n",
        "vals, vecs = np.linalg.eig(M)\n",
        "# extract the first eigenvalue of M and subtract\n",
        "# a small value to make it an approximation\n",
        "mu = vals[0]-0.25"
      ],
      "metadata": {
        "id": "BmJkK6EO5FFr"
      },
      "execution_count": 5,
      "outputs": []
    },
    {
      "cell_type": "code",
      "source": [
        "# Print condition number of M\n",
        "svd_cond(M)"
      ],
      "metadata": {
        "colab": {
          "base_uri": "https://localhost:8080/"
        },
        "id": "deuNqaIWazW2",
        "outputId": "8f1d1558-c06c-46f6-b27d-e2e48e481b84"
      },
      "execution_count": 6,
      "outputs": [
        {
          "output_type": "execute_result",
          "data": {
            "text/plain": [
              "6035.002098743229"
            ]
          },
          "metadata": {},
          "execution_count": 6
        }
      ]
    },
    {
      "cell_type": "code",
      "source": [
        "# Test RQI with 1e-4\n",
        "result = RQI(M, mu, 1e-4, 100)\n",
        "print('Eigenvalue:', result[0])\n",
        "print('Eigenvector:', result[1])\n",
        "print('Iterations:', result[2])\n",
        "print('Condition Numbers:', result[3])"
      ],
      "metadata": {
        "colab": {
          "base_uri": "https://localhost:8080/"
        },
        "id": "GJqllrAe5cIx",
        "outputId": "6379e677-453d-4cc8-ec5e-9c4c0fb67169"
      },
      "execution_count": 7,
      "outputs": [
        {
          "output_type": "stream",
          "name": "stdout",
          "text": [
            "Eigenvalue: (49.70635339423618+0j)\n",
            "Eigenvector: [-0.09318887+0.j -0.10255637+0.j -0.11091952+0.j -0.10177865+0.j\n",
            " -0.09711909+0.j -0.10651015+0.j -0.10864416+0.j -0.09964547+0.j\n",
            " -0.09689994+0.j -0.09505389+0.j -0.09305672+0.j -0.10299191+0.j\n",
            " -0.09589768+0.j -0.10137648+0.j -0.09868125+0.j -0.10214183+0.j\n",
            " -0.09932728+0.j -0.10352883+0.j -0.10850548+0.j -0.09190121+0.j\n",
            " -0.09411318+0.j -0.10033302+0.j -0.10221065+0.j -0.10409916+0.j\n",
            " -0.09758906+0.j -0.0960253 +0.j -0.10927716+0.j -0.0941929 +0.j\n",
            " -0.10094037+0.j -0.08709107+0.j -0.09618714+0.j -0.10648279+0.j\n",
            " -0.10416788+0.j -0.09638744+0.j -0.1006612 +0.j -0.09329455+0.j\n",
            " -0.10323212+0.j -0.09863298+0.j -0.09548265+0.j -0.10228473+0.j\n",
            " -0.09859791+0.j -0.09996165+0.j -0.10730828+0.j -0.1009598 +0.j\n",
            " -0.09144818+0.j -0.10664134+0.j -0.10529857+0.j -0.09590143+0.j\n",
            " -0.10938656+0.j -0.09563107+0.j -0.09183601+0.j -0.1019908 +0.j\n",
            " -0.10619515+0.j -0.09898924+0.j -0.09721324+0.j -0.10380735+0.j\n",
            " -0.09522432+0.j -0.10509251+0.j -0.10498977+0.j -0.09955273+0.j\n",
            " -0.10134654+0.j -0.10516052+0.j -0.09763808+0.j -0.10187651+0.j\n",
            " -0.10232419+0.j -0.09706052+0.j -0.09223021+0.j -0.10502142+0.j\n",
            " -0.09101706+0.j -0.11128921+0.j -0.08285404+0.j -0.08709714+0.j\n",
            " -0.09993726+0.j -0.10026403+0.j -0.09601534+0.j -0.10502244+0.j\n",
            " -0.10517425+0.j -0.09936067+0.j -0.10865835+0.j -0.10685851+0.j\n",
            " -0.09723406+0.j -0.08900873+0.j -0.09844803+0.j -0.09932266+0.j\n",
            " -0.09634717+0.j -0.09662889+0.j -0.10461018+0.j -0.0841219 +0.j\n",
            " -0.09391926+0.j -0.10022571+0.j -0.10861184+0.j -0.09279194+0.j\n",
            " -0.10962261+0.j -0.09416132+0.j -0.11385686+0.j -0.09365337+0.j\n",
            " -0.0975684 +0.j -0.09577583+0.j -0.10979642+0.j -0.10113207+0.j]\n",
            "Iterations: 2\n",
            "Condition Numbers: [   214.22127756 128656.65228485]\n"
          ]
        }
      ]
    },
    {
      "cell_type": "code",
      "source": [
        "# Test RQIAPP with 1e-4\n",
        "result = RQIAPP(M, mu, 1e-4, 100)\n",
        "print('Eigenvalue:', result[0])\n",
        "print('Eigenvector:', result[1])\n",
        "print('Iterations:', result[2])\n",
        "print('Condition Numbers for (mu)I-M:', result[3])\n",
        "print('Condition Numbers for C:', result[4])\n",
        "print('Desired Condition Numbers:', result[5])"
      ],
      "metadata": {
        "colab": {
          "base_uri": "https://localhost:8080/"
        },
        "id": "_aBnrwNS5kIO",
        "outputId": "dbde4943-443f-4d72-d81e-c87aafafa24d"
      },
      "execution_count": 8,
      "outputs": [
        {
          "output_type": "stream",
          "name": "stdout",
          "text": [
            "Eigenvalue: (49.70635350817334+0j)\n",
            "Eigenvector: [0.09318889+0.j 0.10255637+0.j 0.11091952+0.j 0.10177867+0.j\n",
            " 0.0971191 +0.j 0.10651014+0.j 0.10864417+0.j 0.09964548+0.j\n",
            " 0.09689994+0.j 0.09505389+0.j 0.09305671+0.j 0.10299194+0.j\n",
            " 0.0958977 +0.j 0.10137647+0.j 0.09868123+0.j 0.10214183+0.j\n",
            " 0.0993273 +0.j 0.10352886+0.j 0.10850548+0.j 0.09190123+0.j\n",
            " 0.0941132 +0.j 0.10033304+0.j 0.10221065+0.j 0.10409917+0.j\n",
            " 0.09758908+0.j 0.09602528+0.j 0.10927718+0.j 0.09419291+0.j\n",
            " 0.10094038+0.j 0.08709106+0.j 0.09618714+0.j 0.10648277+0.j\n",
            " 0.10416787+0.j 0.09638743+0.j 0.10066121+0.j 0.09329455+0.j\n",
            " 0.10323212+0.j 0.098633  +0.j 0.09548265+0.j 0.10228473+0.j\n",
            " 0.09859789+0.j 0.09996166+0.j 0.10730827+0.j 0.10095981+0.j\n",
            " 0.09144819+0.j 0.10664133+0.j 0.10529855+0.j 0.09590143+0.j\n",
            " 0.10938656+0.j 0.09563107+0.j 0.091836  +0.j 0.1019908 +0.j\n",
            " 0.10619514+0.j 0.09898924+0.j 0.09721324+0.j 0.10380736+0.j\n",
            " 0.09522429+0.j 0.1050925 +0.j 0.10498975+0.j 0.09955274+0.j\n",
            " 0.10134655+0.j 0.10516052+0.j 0.09763809+0.j 0.10187653+0.j\n",
            " 0.10232421+0.j 0.09706054+0.j 0.09223023+0.j 0.10502141+0.j\n",
            " 0.09101706+0.j 0.11128918+0.j 0.08285404+0.j 0.08709714+0.j\n",
            " 0.09993725+0.j 0.10026401+0.j 0.09601536+0.j 0.10502244+0.j\n",
            " 0.10517422+0.j 0.09936066+0.j 0.10865833+0.j 0.1068585 +0.j\n",
            " 0.09723407+0.j 0.08900873+0.j 0.09844802+0.j 0.09932267+0.j\n",
            " 0.09634718+0.j 0.09662889+0.j 0.10461017+0.j 0.0841219 +0.j\n",
            " 0.09391924+0.j 0.10022569+0.j 0.10861182+0.j 0.09279196+0.j\n",
            " 0.10962259+0.j 0.0941613 +0.j 0.11385686+0.j 0.09365336+0.j\n",
            " 0.09756842+0.j 0.0957758 +0.j 0.10979641+0.j 0.10113208+0.j]\n",
            "Iterations: 2\n",
            "Condition Numbers for (mu)I-M: [  214.22127756 24895.80314204]\n",
            "Condition Numbers for C: [2.20832687 1.75580176]\n",
            "Desired Condition Numbers: [1.16904386 1.16811723]\n"
          ]
        }
      ]
    },
    {
      "cell_type": "code",
      "source": [
        "# Test RQI with 1e-6\n",
        "result = RQI(M, mu, 1e-6, 100)\n",
        "print('Eigenvalue:', result[0])\n",
        "print('Eigenvector:', result[1])\n",
        "print('Iterations:', result[2])\n",
        "print('Condition Numbers:', result[3])"
      ],
      "metadata": {
        "colab": {
          "base_uri": "https://localhost:8080/"
        },
        "id": "ihQfZRjL7VaV",
        "outputId": "d4d01b3c-4172-42ca-9b3e-5bc6b10a9d02"
      },
      "execution_count": 9,
      "outputs": [
        {
          "output_type": "stream",
          "name": "stdout",
          "text": [
            "Eigenvalue: (49.706353387090914+0j)\n",
            "Eigenvector: [-0.09318887+0.j -0.10255637+0.j -0.11091952+0.j -0.10177865+0.j\n",
            " -0.09711908+0.j -0.10651015+0.j -0.10864416+0.j -0.09964546+0.j\n",
            " -0.09689994+0.j -0.09505389+0.j -0.09305672+0.j -0.10299192+0.j\n",
            " -0.09589768+0.j -0.10137649+0.j -0.09868125+0.j -0.10214183+0.j\n",
            " -0.09932728+0.j -0.10352883+0.j -0.10850549+0.j -0.09190122+0.j\n",
            " -0.09411318+0.j -0.10033302+0.j -0.10221064+0.j -0.10409916+0.j\n",
            " -0.09758907+0.j -0.0960253 +0.j -0.10927716+0.j -0.0941929 +0.j\n",
            " -0.10094037+0.j -0.08709107+0.j -0.09618714+0.j -0.10648278+0.j\n",
            " -0.10416788+0.j -0.09638744+0.j -0.1006612 +0.j -0.09329455+0.j\n",
            " -0.10323212+0.j -0.09863298+0.j -0.09548265+0.j -0.10228473+0.j\n",
            " -0.09859791+0.j -0.09996165+0.j -0.10730829+0.j -0.1009598 +0.j\n",
            " -0.09144817+0.j -0.10664134+0.j -0.10529857+0.j -0.09590143+0.j\n",
            " -0.10938656+0.j -0.09563107+0.j -0.09183601+0.j -0.10199079+0.j\n",
            " -0.10619515+0.j -0.09898924+0.j -0.09721324+0.j -0.10380735+0.j\n",
            " -0.09522432+0.j -0.10509251+0.j -0.10498977+0.j -0.09955273+0.j\n",
            " -0.10134654+0.j -0.10516051+0.j -0.09763807+0.j -0.10187651+0.j\n",
            " -0.10232419+0.j -0.09706052+0.j -0.09223021+0.j -0.10502142+0.j\n",
            " -0.09101706+0.j -0.1112892 +0.j -0.08285404+0.j -0.08709715+0.j\n",
            " -0.09993726+0.j -0.10026403+0.j -0.09601534+0.j -0.10502245+0.j\n",
            " -0.10517425+0.j -0.09936067+0.j -0.10865835+0.j -0.10685851+0.j\n",
            " -0.09723407+0.j -0.08900873+0.j -0.09844803+0.j -0.09932266+0.j\n",
            " -0.09634716+0.j -0.09662889+0.j -0.10461018+0.j -0.0841219 +0.j\n",
            " -0.09391926+0.j -0.10022571+0.j -0.10861184+0.j -0.09279194+0.j\n",
            " -0.1096226 +0.j -0.09416132+0.j -0.11385686+0.j -0.09365337+0.j\n",
            " -0.0975684 +0.j -0.09577583+0.j -0.10979642+0.j -0.10113207+0.j]\n",
            "Iterations: 3\n",
            "Condition Numbers: [2.14221278e+02 6.10373685e+04 2.38210198e+09]\n"
          ]
        }
      ]
    },
    {
      "cell_type": "code",
      "source": [
        "# Test RQIAPP with 1e-6\n",
        "result = RQIAPP(M, mu, 1e-6, 100)\n",
        "print('Eigenvalue:', result[0])\n",
        "print('Eigenvector:', result[1])\n",
        "print('Iterations:', result[2])\n",
        "print('Condition Numbers:', result[3])\n",
        "print('Condition Numbers for C:', result[4])\n",
        "print('Desired Condition Numbers:', result[5])"
      ],
      "metadata": {
        "colab": {
          "base_uri": "https://localhost:8080/"
        },
        "id": "j7LT8S8V7VNz",
        "outputId": "97697963-47f0-4f2d-8ad7-685fcdba3e92"
      },
      "execution_count": 10,
      "outputs": [
        {
          "output_type": "stream",
          "name": "stdout",
          "text": [
            "Eigenvalue: (49.70635338611922+0j)\n",
            "Eigenvector: [0.09318887+0.j 0.10255637+0.j 0.11091953+0.j 0.10177865+0.j\n",
            " 0.09711908+0.j 0.10651015+0.j 0.10864416+0.j 0.09964547+0.j\n",
            " 0.09689994+0.j 0.09505389+0.j 0.09305672+0.j 0.10299192+0.j\n",
            " 0.09589768+0.j 0.10137649+0.j 0.09868125+0.j 0.10214183+0.j\n",
            " 0.09932728+0.j 0.10352883+0.j 0.10850549+0.j 0.09190121+0.j\n",
            " 0.09411318+0.j 0.10033302+0.j 0.10221064+0.j 0.10409916+0.j\n",
            " 0.09758907+0.j 0.0960253 +0.j 0.10927716+0.j 0.0941929 +0.j\n",
            " 0.10094037+0.j 0.08709107+0.j 0.09618714+0.j 0.10648279+0.j\n",
            " 0.10416788+0.j 0.09638744+0.j 0.1006612 +0.j 0.09329455+0.j\n",
            " 0.10323212+0.j 0.09863298+0.j 0.09548265+0.j 0.10228473+0.j\n",
            " 0.09859791+0.j 0.09996165+0.j 0.10730829+0.j 0.1009598 +0.j\n",
            " 0.09144817+0.j 0.10664134+0.j 0.10529858+0.j 0.09590143+0.j\n",
            " 0.10938656+0.j 0.09563107+0.j 0.09183601+0.j 0.1019908 +0.j\n",
            " 0.10619515+0.j 0.09898924+0.j 0.09721324+0.j 0.10380735+0.j\n",
            " 0.09522432+0.j 0.10509251+0.j 0.10498977+0.j 0.09955273+0.j\n",
            " 0.10134654+0.j 0.10516052+0.j 0.09763807+0.j 0.10187651+0.j\n",
            " 0.10232419+0.j 0.09706052+0.j 0.09223021+0.j 0.10502142+0.j\n",
            " 0.09101706+0.j 0.1112892 +0.j 0.08285404+0.j 0.08709715+0.j\n",
            " 0.09993726+0.j 0.10026403+0.j 0.09601534+0.j 0.10502245+0.j\n",
            " 0.10517425+0.j 0.09936066+0.j 0.10865835+0.j 0.10685851+0.j\n",
            " 0.09723407+0.j 0.08900873+0.j 0.09844803+0.j 0.09932266+0.j\n",
            " 0.09634716+0.j 0.09662889+0.j 0.10461018+0.j 0.0841219 +0.j\n",
            " 0.09391926+0.j 0.10022571+0.j 0.10861184+0.j 0.09279194+0.j\n",
            " 0.1096226 +0.j 0.09416132+0.j 0.11385686+0.j 0.09365337+0.j\n",
            " 0.0975684 +0.j 0.09577583+0.j 0.10979642+0.j 0.10113207+0.j]\n",
            "Iterations: 2\n",
            "Condition Numbers: [2.14221278e+02 3.02631209e+05]\n",
            "Condition Numbers for C: [2.23914178 1.7903197 ]\n",
            "Desired Condition Numbers: [1.16904386 1.16812578]\n"
          ]
        }
      ]
    },
    {
      "cell_type": "code",
      "source": [
        "# Test RQI with 1e-8\n",
        "result = RQI(M, mu, 1e-8, 100)\n",
        "print('Eigenvalue:', result[0])\n",
        "print('Eigenvector:', result[1])\n",
        "print('Iterations:', result[2])\n",
        "print('Condition Numbers:', result[3])"
      ],
      "metadata": {
        "colab": {
          "base_uri": "https://localhost:8080/"
        },
        "id": "qoSNmUAJ7gnC",
        "outputId": "42a26472-5b7b-4ba0-8b2b-c05e6cfbf3d2"
      },
      "execution_count": 11,
      "outputs": [
        {
          "output_type": "stream",
          "name": "stdout",
          "text": [
            "Eigenvalue: None\n",
            "Eigenvector: None\n",
            "Iterations: 100\n",
            "Condition Numbers: [2.14221278e+02 1.24370676e+05 9.16076653e+10 5.77023632e+15\n",
            " 5.77023632e+15 5.77023632e+15 5.77023632e+15 5.77023632e+15\n",
            " 5.77023632e+15 5.77023632e+15 5.77023632e+15 5.77023632e+15\n",
            " 5.77023632e+15 5.77023632e+15 5.77023632e+15 5.77023632e+15\n",
            " 5.77023632e+15 5.77023632e+15 5.77023632e+15 5.77023632e+15\n",
            " 5.77023632e+15 5.77023632e+15 5.77023632e+15 5.77023632e+15\n",
            " 5.77023632e+15 5.77023632e+15 5.77023632e+15 5.77023632e+15\n",
            " 5.77023632e+15 5.77023632e+15 5.77023632e+15 5.77023632e+15\n",
            " 5.77023632e+15 5.77023632e+15 5.77023632e+15 5.77023632e+15\n",
            " 5.77023632e+15 5.77023632e+15 5.77023632e+15 5.77023632e+15\n",
            " 5.77023632e+15 5.77023632e+15 5.77023632e+15 5.77023632e+15\n",
            " 5.77023632e+15 5.77023632e+15 5.77023632e+15 5.77023632e+15\n",
            " 5.77023632e+15 5.77023632e+15 5.77023632e+15 5.77023632e+15\n",
            " 5.77023632e+15 5.77023632e+15 5.77023632e+15 5.77023632e+15\n",
            " 5.77023632e+15 5.77023632e+15 5.77023632e+15 5.77023632e+15\n",
            " 5.77023632e+15 5.77023632e+15 5.77023632e+15 5.77023632e+15\n",
            " 5.77023632e+15 5.77023632e+15 5.77023632e+15 5.77023632e+15\n",
            " 5.77023632e+15 5.77023632e+15 5.77023632e+15 5.77023632e+15\n",
            " 5.77023632e+15 5.77023632e+15 5.77023632e+15 5.77023632e+15\n",
            " 5.77023632e+15 5.77023632e+15 5.77023632e+15 5.77023632e+15\n",
            " 5.77023632e+15 5.77023632e+15 5.77023632e+15 5.77023632e+15\n",
            " 5.77023632e+15 5.77023632e+15 5.77023632e+15 5.77023632e+15\n",
            " 5.77023632e+15 5.77023632e+15 5.77023632e+15 5.77023632e+15\n",
            " 5.77023632e+15 5.77023632e+15 5.77023632e+15 5.77023632e+15\n",
            " 5.77023632e+15 5.77023632e+15 5.77023632e+15 5.77023632e+15]\n"
          ]
        }
      ]
    },
    {
      "cell_type": "code",
      "source": [
        "# Test RQIAPP with 1e-8\n",
        "result = RQIAPP(M, mu, 1e-8, 100)\n",
        "print('Eigenvalue:', result[0])\n",
        "print('Eigenvector:', result[1])\n",
        "print('Iterations:', result[2])\n",
        "print('Condition Numbers:', result[3])\n",
        "print('Condition Numbers for C:', result[4])\n",
        "print('Desired Condition Numbers:', result[5])"
      ],
      "metadata": {
        "colab": {
          "base_uri": "https://localhost:8080/"
        },
        "id": "639AFhEd7gZ4",
        "outputId": "0eb41b46-f93c-4a8c-bab1-f3b7cc646be0"
      },
      "execution_count": 12,
      "outputs": [
        {
          "output_type": "stream",
          "name": "stdout",
          "text": [
            "Eigenvalue: (49.7063533870909+0j)\n",
            "Eigenvector: [0.09318887+0.j 0.10255637+0.j 0.11091952+0.j 0.10177865+0.j\n",
            " 0.09711908+0.j 0.10651015+0.j 0.10864416+0.j 0.09964546+0.j\n",
            " 0.09689994+0.j 0.09505389+0.j 0.09305672+0.j 0.10299192+0.j\n",
            " 0.09589768+0.j 0.10137649+0.j 0.09868125+0.j 0.10214183+0.j\n",
            " 0.09932728+0.j 0.10352883+0.j 0.10850549+0.j 0.09190122+0.j\n",
            " 0.09411318+0.j 0.10033302+0.j 0.10221064+0.j 0.10409916+0.j\n",
            " 0.09758907+0.j 0.0960253 +0.j 0.10927716+0.j 0.0941929 +0.j\n",
            " 0.10094037+0.j 0.08709107+0.j 0.09618714+0.j 0.10648278+0.j\n",
            " 0.10416788+0.j 0.09638744+0.j 0.1006612 +0.j 0.09329455+0.j\n",
            " 0.10323212+0.j 0.09863298+0.j 0.09548265+0.j 0.10228473+0.j\n",
            " 0.09859791+0.j 0.09996165+0.j 0.10730829+0.j 0.1009598 +0.j\n",
            " 0.09144817+0.j 0.10664134+0.j 0.10529857+0.j 0.09590143+0.j\n",
            " 0.10938656+0.j 0.09563107+0.j 0.09183601+0.j 0.10199079+0.j\n",
            " 0.10619515+0.j 0.09898924+0.j 0.09721324+0.j 0.10380735+0.j\n",
            " 0.09522432+0.j 0.10509251+0.j 0.10498977+0.j 0.09955273+0.j\n",
            " 0.10134654+0.j 0.10516051+0.j 0.09763807+0.j 0.10187651+0.j\n",
            " 0.10232419+0.j 0.09706052+0.j 0.09223021+0.j 0.10502142+0.j\n",
            " 0.09101706+0.j 0.1112892 +0.j 0.08285404+0.j 0.08709715+0.j\n",
            " 0.09993726+0.j 0.10026403+0.j 0.09601534+0.j 0.10502245+0.j\n",
            " 0.10517425+0.j 0.09936067+0.j 0.10865835+0.j 0.10685851+0.j\n",
            " 0.09723407+0.j 0.08900873+0.j 0.09844803+0.j 0.09932266+0.j\n",
            " 0.09634716+0.j 0.09662889+0.j 0.10461018+0.j 0.0841219 +0.j\n",
            " 0.09391926+0.j 0.10022571+0.j 0.10861184+0.j 0.09279194+0.j\n",
            " 0.1096226 +0.j 0.09416132+0.j 0.11385686+0.j 0.09365337+0.j\n",
            " 0.0975684 +0.j 0.09577583+0.j 0.10979642+0.j 0.10113207+0.j]\n",
            "Iterations: 3\n",
            "Condition Numbers: [2.14221278e+02 4.74406071e+04 3.48628436e+09]\n",
            "Condition Numbers for C: [2.18862342 1.73318118 1.73334097]\n",
            "Desired Condition Numbers: [1.16904386 1.16812927 1.16812513]\n"
          ]
        }
      ]
    },
    {
      "cell_type": "code",
      "source": [
        "# Print actual eigenvalue/eigenvector\n",
        "print(vals[0], vecs[:,0])"
      ],
      "metadata": {
        "colab": {
          "base_uri": "https://localhost:8080/"
        },
        "id": "9kwLV9JE5rs_",
        "outputId": "8fc10c43-e1db-445f-ac3a-8c025efaef0d"
      },
      "execution_count": 13,
      "outputs": [
        {
          "output_type": "stream",
          "name": "stdout",
          "text": [
            "(49.70635338709092+0j) [-0.09318887+0.j -0.10255637+0.j -0.11091952+0.j -0.10177865+0.j\n",
            " -0.09711908+0.j -0.10651015+0.j -0.10864416+0.j -0.09964546+0.j\n",
            " -0.09689994+0.j -0.09505389+0.j -0.09305672+0.j -0.10299192+0.j\n",
            " -0.09589768+0.j -0.10137649+0.j -0.09868125+0.j -0.10214183+0.j\n",
            " -0.09932728+0.j -0.10352883+0.j -0.10850549+0.j -0.09190122+0.j\n",
            " -0.09411318+0.j -0.10033302+0.j -0.10221064+0.j -0.10409916+0.j\n",
            " -0.09758907+0.j -0.0960253 +0.j -0.10927716+0.j -0.0941929 +0.j\n",
            " -0.10094037+0.j -0.08709107+0.j -0.09618714+0.j -0.10648278+0.j\n",
            " -0.10416788+0.j -0.09638744+0.j -0.1006612 +0.j -0.09329455+0.j\n",
            " -0.10323212+0.j -0.09863298+0.j -0.09548265+0.j -0.10228473+0.j\n",
            " -0.09859791+0.j -0.09996165+0.j -0.10730829+0.j -0.1009598 +0.j\n",
            " -0.09144817+0.j -0.10664134+0.j -0.10529857+0.j -0.09590143+0.j\n",
            " -0.10938656+0.j -0.09563107+0.j -0.09183601+0.j -0.10199079+0.j\n",
            " -0.10619515+0.j -0.09898924+0.j -0.09721324+0.j -0.10380735+0.j\n",
            " -0.09522432+0.j -0.10509251+0.j -0.10498977+0.j -0.09955273+0.j\n",
            " -0.10134654+0.j -0.10516051+0.j -0.09763807+0.j -0.10187651+0.j\n",
            " -0.10232419+0.j -0.09706052+0.j -0.09223021+0.j -0.10502142+0.j\n",
            " -0.09101706+0.j -0.1112892 +0.j -0.08285404+0.j -0.08709715+0.j\n",
            " -0.09993726+0.j -0.10026403+0.j -0.09601534+0.j -0.10502245+0.j\n",
            " -0.10517425+0.j -0.09936067+0.j -0.10865835+0.j -0.10685851+0.j\n",
            " -0.09723407+0.j -0.08900873+0.j -0.09844803+0.j -0.09932266+0.j\n",
            " -0.09634716+0.j -0.09662889+0.j -0.10461018+0.j -0.0841219 +0.j\n",
            " -0.09391926+0.j -0.10022571+0.j -0.10861184+0.j -0.09279194+0.j\n",
            " -0.1096226 +0.j -0.09416132+0.j -0.11385686+0.j -0.09365337+0.j\n",
            " -0.0975684 +0.j -0.09577583+0.j -0.10979642+0.j -0.10113207+0.j]\n"
          ]
        }
      ]
    },
    {
      "cell_type": "code",
      "source": [
        "# Function to run n rounds of RQI and RQIAPP\n",
        "def runRQI(M, mu, ep, it, n):\n",
        "  # Save number of iterations to arrays\n",
        "  its = np.empty(0)\n",
        "  itsAPP = np.empty(0)\n",
        "\n",
        "  # Save condition numbers to arrays\n",
        "  conds = np.empty(0)\n",
        "  condsAPP = np.empty(0)\n",
        "\n",
        "  # Save first condition number of each iteration to arrays\n",
        "  firstConds = np.empty(0)\n",
        "  firstCondsAPP = np.empty(0)\n",
        "\n",
        "  # Save last condition number of each iteration to arrays\n",
        "  lastConds = np.empty(0)\n",
        "  lastCondsAPP = np.empty(0)\n",
        "\n",
        "  for i in range(n):\n",
        "    RQIData = RQI(M, mu, ep, it)\n",
        "    RQIAPPData = RQIAPP(M, mu, ep, it)\n",
        "\n",
        "    # Save number of iterations required to the appropriate array\n",
        "    its = np.append(its, RQIData[2])\n",
        "    itsAPP = np.append(itsAPP, RQIAPPData[2])\n",
        "\n",
        "    # Save condition numbers to the appropriate array\n",
        "    conds = np.append(conds, RQIData[3])\n",
        "    condsAPP = np.append(condsAPP, RQIAPPData[4])\n",
        "\n",
        "    # Save first condition number to the appropriate array\n",
        "    firstConds = np.append(firstConds, RQIData[3][0])\n",
        "    firstCondsAPP = np.append(firstCondsAPP, RQIAPPData[4][0])\n",
        "\n",
        "    # Save last condition number to the appropriate array\n",
        "    lastConds = np.append(lastConds, RQIData[3][-1])\n",
        "    lastCondsAPP = np.append(lastCondsAPP, RQIAPPData[4][-1])\n",
        "\n",
        "  # Print iterations required each round\n",
        "  print('Iterations required each round for RQI:\\n', its)\n",
        "  print('\\nIterations required each round for RQIAPP:\\n', itsAPP)\n",
        "\n",
        "  # Get average iterations required by RQI\n",
        "  index = np.argwhere(its==it)\n",
        "  its = np.delete(its, index)\n",
        "  if its.size==0:\n",
        "    itsAvg = 0\n",
        "  else:\n",
        "    itsAvg = np.average(its)\n",
        "\n",
        "  # Get average condition number for RQI\n",
        "  condsAvg = np.average(conds)\n",
        "\n",
        "  # Get average first condition number for RQI\n",
        "  firstCondsAvg = np.average(firstConds)\n",
        "\n",
        "  # Get average final condition number for RQI\n",
        "  lastCondsAvg = np.average(lastConds)\n",
        "\n",
        "  # Get average iterations required by RQIAPP\n",
        "  index = np.argwhere(itsAPP==it)\n",
        "  itsAPP = np.delete(itsAPP, index)\n",
        "  if itsAPP.size==0:\n",
        "    itsAPPAvg = 0\n",
        "  else:\n",
        "    itsAPPAvg = np.average(itsAPP)\n",
        "\n",
        "  # Get average condition number for RQIAPP\n",
        "  condsAPPAvg = np.average(condsAPP)\n",
        "\n",
        "  # Get average first condition number for RQIAPP\n",
        "  firstCondsAPPAvg = np.average(firstCondsAPP)\n",
        "\n",
        "  # Get average final condition number for RQIAPP\n",
        "  lastCondsAPPAvg = np.average(lastCondsAPP)\n",
        "\n",
        "  # Print average iterations required and number of errors\n",
        "  print('\\nAverage iterations required for RQI:\\n', itsAvg)\n",
        "  print('\\nAverage condition number for RQI:\\n', condsAvg)\n",
        "  print('\\nAverage first condition number for RQI:\\n', firstCondsAvg)\n",
        "  print('\\nAverage final condition number for RQI:\\n', lastCondsAvg)\n",
        "  print('\\nPercentage of times RQI converged:\\n', str(its.size/n*100) + '%')\n",
        "  print('\\nAverage iterations required for RQIAPP:\\n', itsAPPAvg)\n",
        "  print('\\nAverage condition number for RQIAPP:\\n', condsAPPAvg)\n",
        "  print('\\nAverage first condition number for RQIAPP:\\n', firstCondsAPPAvg)\n",
        "  print('\\nAverage final condition number for RQIAPP:\\n', lastCondsAPPAvg)\n",
        "  print('\\nPercentage of times RQIAPP converged:\\n', str(itsAPP.size/n*100) + '%')"
      ],
      "metadata": {
        "id": "DEXwnnehskpV"
      },
      "execution_count": 14,
      "outputs": []
    },
    {
      "cell_type": "code",
      "source": [
        "# Run 100 rounds with 1e-4\n",
        "runRQI(M, mu, 1e-4, 20, 100)"
      ],
      "metadata": {
        "colab": {
          "base_uri": "https://localhost:8080/"
        },
        "id": "3o9UrthPg7ov",
        "outputId": "c1a83a03-2201-4a58-c232-99de2103c8a0"
      },
      "execution_count": 15,
      "outputs": [
        {
          "output_type": "stream",
          "name": "stdout",
          "text": [
            "Iterations required each round for RQI:\n",
            " [2. 2. 2. 2. 2. 2. 2. 2. 2. 2. 2. 2. 2. 2. 2. 2. 2. 2. 2. 2. 2. 2. 2. 2.\n",
            " 2. 2. 2. 2. 2. 2. 2. 2. 2. 2. 2. 2. 2. 2. 2. 2. 2. 2. 2. 2. 2. 2. 2. 2.\n",
            " 2. 2. 2. 2. 2. 2. 2. 2. 2. 2. 2. 2. 2. 2. 2. 2. 2. 2. 2. 2. 2. 2. 2. 2.\n",
            " 2. 2. 2. 2. 2. 2. 2. 2. 2. 2. 2. 2. 2. 2. 2. 2. 2. 2. 2. 2. 2. 2. 2. 2.\n",
            " 2. 2. 2. 2.]\n",
            "\n",
            "Iterations required each round for RQIAPP:\n",
            " [2. 2. 2. 2. 2. 2. 2. 2. 2. 2. 2. 2. 2. 2. 2. 2. 2. 2. 2. 2. 2. 2. 2. 2.\n",
            " 2. 2. 2. 2. 2. 2. 2. 2. 2. 2. 2. 2. 2. 2. 2. 2. 2. 2. 2. 2. 2. 2. 2. 2.\n",
            " 2. 2. 2. 2. 2. 2. 2. 2. 2. 2. 2. 2. 2. 2. 2. 2. 2. 2. 2. 2. 2. 2. 2. 2.\n",
            " 2. 2. 2. 2. 2. 2. 2. 2. 2. 2. 2. 2. 2. 2. 2. 2. 2. 2. 2. 2. 2. 2. 2. 2.\n",
            " 2. 2. 2. 2.]\n",
            "\n",
            "Average iterations required for RQI:\n",
            " 2.0\n",
            "\n",
            "Average condition number for RQI:\n",
            " 53259.598725103104\n",
            "\n",
            "Average first condition number for RQI:\n",
            " 214.22127755663362\n",
            "\n",
            "Average final condition number for RQI:\n",
            " 106304.97617264956\n",
            "\n",
            "Percentage of times RQI converged:\n",
            " 100.0%\n",
            "\n",
            "Average iterations required for RQIAPP:\n",
            " 2.0\n",
            "\n",
            "Average condition number for RQIAPP:\n",
            " 1.993796475229675\n",
            "\n",
            "Average first condition number for RQIAPP:\n",
            " 2.227787774098348\n",
            "\n",
            "Average final condition number for RQIAPP:\n",
            " 1.7598051763610019\n",
            "\n",
            "Percentage of times RQIAPP converged:\n",
            " 100.0%\n"
          ]
        }
      ]
    },
    {
      "cell_type": "code",
      "source": [
        "# Run 100 rounds with 1e-6\n",
        "runRQI(M, mu, 1e-6, 20, 100)"
      ],
      "metadata": {
        "colab": {
          "base_uri": "https://localhost:8080/"
        },
        "id": "MJeFX0p7tPLy",
        "outputId": "5aab3e01-1453-4ac8-df8b-d50232cc6c0f"
      },
      "execution_count": 16,
      "outputs": [
        {
          "output_type": "stream",
          "name": "stdout",
          "text": [
            "Iterations required each round for RQI:\n",
            " [ 3.  3.  3.  3.  3.  3.  3.  3.  3.  3.  3.  3.  3. 20.  3.  3.  3.  3.\n",
            "  3.  3.  3.  3.  3.  3.  3.  3.  3. 20.  3.  3.  3.  3.  3.  3.  3.  3.\n",
            "  3.  3.  3.  3.  3. 20.  3.  3.  3.  3.  3.  3.  3.  3.  3.  3.  3.  3.\n",
            "  3.  3.  3.  3.  3.  3.  3.  3.  3.  3.  3.  3.  3.  3.  3.  3.  3.  3.\n",
            "  3.  3.  3.  3.  3.  3.  3.  3.  3.  3.  3.  3.  3.  3.  3.  3.  3.  3.\n",
            "  3. 20.  3.  3.  3.  3.  3.  3.  3.  3.]\n",
            "\n",
            "Iterations required each round for RQIAPP:\n",
            " [2. 2. 2. 2. 2. 2. 2. 2. 2. 2. 2. 2. 2. 2. 2. 2. 2. 2. 2. 2. 2. 2. 2. 2.\n",
            " 2. 2. 2. 2. 2. 2. 2. 2. 2. 2. 2. 2. 2. 2. 2. 2. 2. 2. 2. 2. 2. 2. 2. 2.\n",
            " 2. 2. 2. 2. 2. 2. 2. 2. 2. 2. 2. 2. 2. 2. 2. 2. 2. 2. 2. 2. 2. 2. 2. 2.\n",
            " 2. 2. 2. 2. 2. 2. 2. 2. 2. 2. 2. 2. 2. 2. 2. 2. 2. 2. 2. 2. 2. 2. 2. 2.\n",
            " 2. 2. 2. 2.]\n",
            "\n",
            "Average iterations required for RQI:\n",
            " 3.0\n",
            "\n",
            "Average condition number for RQI:\n",
            " 1160620510555758.5\n",
            "\n",
            "Average first condition number for RQI:\n",
            " 214.22127755663362\n",
            "\n",
            "Average final condition number for RQI:\n",
            " 230825265416234.3\n",
            "\n",
            "Percentage of times RQI converged:\n",
            " 96.0%\n",
            "\n",
            "Average iterations required for RQIAPP:\n",
            " 2.0\n",
            "\n",
            "Average condition number for RQIAPP:\n",
            " 1.9780991986264125\n",
            "\n",
            "Average first condition number for RQIAPP:\n",
            " 2.196909448239933\n",
            "\n",
            "Average final condition number for RQIAPP:\n",
            " 1.759288949012892\n",
            "\n",
            "Percentage of times RQIAPP converged:\n",
            " 100.0%\n"
          ]
        }
      ]
    },
    {
      "cell_type": "code",
      "source": [
        "# Run 100 rounds with 1e-8\n",
        "runRQI(M, mu, 1e-8, 20, 100)"
      ],
      "metadata": {
        "colab": {
          "base_uri": "https://localhost:8080/"
        },
        "id": "J5B39tMTtRo-",
        "outputId": "a4e97079-cb60-4d16-aa46-7032d337592a"
      },
      "execution_count": 17,
      "outputs": [
        {
          "output_type": "stream",
          "name": "stdout",
          "text": [
            "Iterations required each round for RQI:\n",
            " [ 3. 20. 20. 20. 20.  3. 20.  3. 20. 20. 20. 20. 20. 20.  3. 20. 20. 20.\n",
            "  3. 20.  3. 20.  3. 20. 20. 20. 20.  3. 20. 20.  3. 20. 20. 20. 20. 20.\n",
            "  3. 20.  3. 20.  3. 20. 20. 20. 20. 20. 20.  3. 20.  3. 20.  3. 20.  3.\n",
            "  3. 20.  3.  3.  3. 20.  3. 20.  3. 20. 20. 20.  3.  3.  3.  3.  3.  3.\n",
            "  3.  3. 20.  3. 20. 20. 20. 20. 20.  3. 20. 20. 20. 20.  3.  3. 20. 20.\n",
            " 20.  3. 20. 20. 20.  3.  3.  3.  3.  3.]\n",
            "\n",
            "Iterations required each round for RQIAPP:\n",
            " [3. 3. 3. 3. 3. 3. 3. 3. 3. 3. 3. 3. 3. 3. 3. 3. 3. 3. 3. 3. 3. 3. 3. 3.\n",
            " 3. 3. 3. 3. 3. 3. 3. 3. 3. 3. 3. 3. 3. 3. 3. 3. 3. 3. 3. 3. 3. 3. 3. 3.\n",
            " 3. 3. 3. 3. 3. 3. 3. 3. 3. 3. 2. 3. 3. 3. 2. 3. 3. 3. 3. 3. 3. 3. 3. 3.\n",
            " 3. 3. 3. 3. 3. 3. 3. 3. 3. 3. 3. 3. 3. 3. 3. 3. 3. 3. 3. 3. 3. 3. 3. 3.\n",
            " 3. 3. 3. 3.]\n",
            "\n",
            "Average iterations required for RQI:\n",
            " 3.0\n",
            "\n",
            "Average condition number for RQI:\n",
            " 4679912158100601.0\n",
            "\n",
            "Average first condition number for RQI:\n",
            " 214.22127755663362\n",
            "\n",
            "Average final condition number for RQI:\n",
            " 3415130469551709.0\n",
            "\n",
            "Percentage of times RQI converged:\n",
            " 40.0%\n",
            "\n",
            "Average iterations required for RQIAPP:\n",
            " 2.98\n",
            "\n",
            "Average condition number for RQIAPP:\n",
            " 1.9061186796278764\n",
            "\n",
            "Average first condition number for RQIAPP:\n",
            " 2.2143160720937574\n",
            "\n",
            "Average final condition number for RQIAPP:\n",
            " 1.7507722684047955\n",
            "\n",
            "Percentage of times RQIAPP converged:\n",
            " 100.0%\n"
          ]
        }
      ]
    },
    {
      "cell_type": "code",
      "source": [
        "# Run 100 rounds with 1e-10\n",
        "runRQI(M, mu, 1e-10, 20, 100)"
      ],
      "metadata": {
        "colab": {
          "base_uri": "https://localhost:8080/"
        },
        "id": "u79xSlBqtnsH",
        "outputId": "3ef2b3ce-b273-4883-ce9d-eb7fe6b31a63"
      },
      "execution_count": 18,
      "outputs": [
        {
          "output_type": "stream",
          "name": "stdout",
          "text": [
            "Iterations required each round for RQI:\n",
            " [20. 20. 20. 20. 20. 20. 20. 20. 20. 20. 20. 20. 20. 20. 20. 20. 20. 20.\n",
            " 20. 20. 20. 20. 20. 20. 20. 20. 20. 20. 20. 20. 20. 20. 20. 20. 20. 20.\n",
            " 20. 20. 20. 20. 20. 20. 20. 20. 20. 20. 20. 20. 20. 20. 20. 20. 20. 20.\n",
            " 20. 20. 20. 20. 20. 20. 20. 20. 20. 20. 20. 20. 20. 20. 20. 20. 20. 20.\n",
            " 20. 20. 20. 20. 20. 20. 20. 20. 20. 20. 20. 20. 20. 20. 20. 20. 20. 20.\n",
            " 20. 20. 20. 20. 20. 20. 20. 20. 20. 20.]\n",
            "\n",
            "Iterations required each round for RQIAPP:\n",
            " [3. 3. 3. 3. 3. 3. 3. 3. 3. 3. 3. 3. 3. 3. 3. 3. 3. 3. 3. 3. 3. 3. 3. 3.\n",
            " 3. 3. 3. 3. 3. 3. 3. 3. 3. 3. 3. 3. 3. 3. 3. 3. 3. 3. 3. 3. 3. 3. 3. 3.\n",
            " 3. 3. 3. 3. 3. 3. 3. 3. 3. 3. 3. 3. 3. 3. 3. 3. 3. 3. 3. 3. 3. 3. 3. 3.\n",
            " 3. 3. 3. 3. 3. 3. 3. 3. 3. 3. 3. 3. 3. 3. 3. 3. 3. 3. 3. 3. 3. 3. 3. 3.\n",
            " 3. 3. 3. 3.]\n",
            "\n",
            "Average iterations required for RQI:\n",
            " 0\n",
            "\n",
            "Average condition number for RQI:\n",
            " 5099063765267272.0\n",
            "\n",
            "Average first condition number for RQI:\n",
            " 214.22127755663362\n",
            "\n",
            "Average final condition number for RQI:\n",
            " 5629201469631145.0\n",
            "\n",
            "Percentage of times RQI converged:\n",
            " 0.0%\n",
            "\n",
            "Average iterations required for RQIAPP:\n",
            " 3.0\n",
            "\n",
            "Average condition number for RQIAPP:\n",
            " 1.9141042534747688\n",
            "\n",
            "Average first condition number for RQIAPP:\n",
            " 2.231650021691594\n",
            "\n",
            "Average final condition number for RQIAPP:\n",
            " 1.755358367803212\n",
            "\n",
            "Percentage of times RQIAPP converged:\n",
            " 100.0%\n"
          ]
        }
      ]
    }
  ]
}